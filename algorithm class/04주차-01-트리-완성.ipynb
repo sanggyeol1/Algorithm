{
 "cells": [
  {
   "cell_type": "markdown",
   "id": "f44bcd12",
   "metadata": {},
   "source": [
    "# 4주차 : 트리(tree)"
   ]
  },
  {
   "cell_type": "markdown",
   "id": "f88f6bf7",
   "metadata": {},
   "source": [
    "- <a href=\"#1.트리이해\">1. 트리 이해</a>\n",
    "- <a href=\"#2.트리응용\">2. 트리 응용</a>"
   ]
  },
  {
   "cell_type": "markdown",
   "id": "d9719ece",
   "metadata": {},
   "source": [
    "------------------------------"
   ]
  },
  {
   "cell_type": "markdown",
   "id": "1d10bdc6",
   "metadata": {},
   "source": [
    "## <a name=\"1.트리이해\">1. 트리 이해</a>"
   ]
  },
  {
   "cell_type": "markdown",
   "id": "e6e94c54",
   "metadata": {},
   "source": [
    "### 1-1. 트리 구조"
   ]
  },
  {
   "cell_type": "markdown",
   "id": "4beb72f6-ac6e-485d-b287-784668d387e6",
   "metadata": {},
   "source": [
    "#### #트리 여부 판단"
   ]
  },
  {
   "cell_type": "code",
   "execution_count": 1,
   "id": "b0f3e38b-304f-4ff6-93fe-2eb7d9fbece5",
   "metadata": {},
   "outputs": [
    {
     "name": "stdout",
     "output_type": "stream",
     "text": [
      "트리 구조\n"
     ]
    }
   ],
   "source": [
    "from collections import defaultdict\n",
    "def is_tree(edges):\n",
    "    \"\"\"\n",
    "    edges: 노드 쌍의 리스트 [(u, v), (v, w), ...]\n",
    "    트리 구조이면 True, 아니면 False를 반환\n",
    "    \"\"\"\n",
    "    # 단방향 그래프로 구성\n",
    "    graph = defaultdict(list)\n",
    "    for u, v in edges:\n",
    "        graph[u].append(v)\n",
    "        graph[v].append(u)\n",
    "\n",
    "    # 루트 노드 찾기\n",
    "    root = None\n",
    "    visited = set()\n",
    "    for node in graph:\n",
    "        if node not in visited:\n",
    "            root = node\n",
    "            break\n",
    "\n",
    "    # DFS 탐색으로 사이클 검사\n",
    "    stack = [root]\n",
    "    visited.add(root)\n",
    "    parent = {root: None}\n",
    "    while stack:\n",
    "        curr = stack.pop()\n",
    "        for neighbor in graph[curr]:\n",
    "            if neighbor not in visited:\n",
    "                visited.add(neighbor)\n",
    "                parent[neighbor] = curr\n",
    "                stack.append(neighbor)\n",
    "            elif neighbor != parent[curr]:\n",
    "                return False\n",
    "\n",
    "    # 모든 노드가 연결되어 있는지 확인\n",
    "    return len(visited) == len(graph)\n",
    "\n",
    "edges = [(1, 2), (1, 3), (2, 4), (2, 5), (3, 6)]\n",
    "if is_tree(edges) :  print('트리 구조') \n",
    "else : '트리 구조 아님'"
   ]
  },
  {
   "cell_type": "markdown",
   "id": "e1b70b5f-92f3-4a18-a389-7ec73f75b052",
   "metadata": {},
   "source": [
    "#### #트리 그리기"
   ]
  },
  {
   "cell_type": "code",
   "execution_count": 2,
   "id": "30008942-84c9-4d0d-9632-540efdd35937",
   "metadata": {},
   "outputs": [
    {
     "name": "stdout",
     "output_type": "stream",
     "text": [
      "Requirement already satisfied: graphviz in c:\\users\\한상결\\appdata\\local\\packages\\pythonsoftwarefoundation.python.3.11_qbz5n2kfra8p0\\localcache\\local-packages\\python311\\site-packages (0.20.3)\n"
     ]
    }
   ],
   "source": [
    "!pip install graphviz"
   ]
  },
  {
   "cell_type": "code",
   "execution_count": 3,
   "id": "fd13b0c7-1556-46b9-bf68-29587c116cc9",
   "metadata": {
    "scrolled": true
   },
   "outputs": [
    {
     "name": "stdout",
     "output_type": "stream",
     "text": [
      "Requirement already satisfied: networkx in c:\\users\\한상결\\appdata\\local\\packages\\pythonsoftwarefoundation.python.3.11_qbz5n2kfra8p0\\localcache\\local-packages\\python311\\site-packages (3.3)\n"
     ]
    }
   ],
   "source": [
    "!pip install networkx"
   ]
  },
  {
   "cell_type": "code",
   "execution_count": 4,
   "id": "5be4545e-37e8-4be3-8fc8-55f5a9a4872b",
   "metadata": {},
   "outputs": [
    {
     "name": "stdout",
     "output_type": "stream",
     "text": [
      "Collecting pydot\n",
      "  Downloading pydot-2.0.0-py3-none-any.whl.metadata (9.6 kB)\n",
      "Requirement already satisfied: pyparsing>=3 in c:\\users\\한상결\\appdata\\local\\packages\\pythonsoftwarefoundation.python.3.11_qbz5n2kfra8p0\\localcache\\local-packages\\python311\\site-packages (from pydot) (3.1.2)\n",
      "Downloading pydot-2.0.0-py3-none-any.whl (22 kB)\n",
      "Installing collected packages: pydot\n",
      "Successfully installed pydot-2.0.0\n"
     ]
    }
   ],
   "source": [
    "!pip install pydot"
   ]
  },
  {
   "cell_type": "markdown",
   "id": "4494d9b5-8534-4e0e-a5c6-201fab890b6d",
   "metadata": {},
   "source": [
    "- 방법1: graphviz 를 이용한 트리 그리기"
   ]
  },
  {
   "cell_type": "code",
   "execution_count": 8,
   "id": "c1a39da1-c67e-4230-a1c6-6e27d42b996c",
   "metadata": {},
   "outputs": [
    {
     "ename": "ExecutableNotFound",
     "evalue": "failed to execute WindowsPath('dot'), make sure the Graphviz executables are on your systems' PATH",
     "output_type": "error",
     "traceback": [
      "\u001b[1;31m---------------------------------------------------------------------------\u001b[0m",
      "\u001b[1;31mFileNotFoundError\u001b[0m                         Traceback (most recent call last)",
      "File \u001b[1;32m~\\AppData\\Local\\Packages\\PythonSoftwareFoundation.Python.3.11_qbz5n2kfra8p0\\LocalCache\\local-packages\\Python311\\site-packages\\graphviz\\backend\\execute.py:78\u001b[0m, in \u001b[0;36mrun_check\u001b[1;34m(cmd, input_lines, encoding, quiet, **kwargs)\u001b[0m\n\u001b[0;32m     77\u001b[0m     \u001b[38;5;28;01melse\u001b[39;00m:\n\u001b[1;32m---> 78\u001b[0m         proc \u001b[38;5;241m=\u001b[39m \u001b[43msubprocess\u001b[49m\u001b[38;5;241;43m.\u001b[39;49m\u001b[43mrun\u001b[49m\u001b[43m(\u001b[49m\u001b[43mcmd\u001b[49m\u001b[43m,\u001b[49m\u001b[43m \u001b[49m\u001b[38;5;241;43m*\u001b[39;49m\u001b[38;5;241;43m*\u001b[39;49m\u001b[43mkwargs\u001b[49m\u001b[43m)\u001b[49m\n\u001b[0;32m     79\u001b[0m \u001b[38;5;28;01mexcept\u001b[39;00m \u001b[38;5;167;01mOSError\u001b[39;00m \u001b[38;5;28;01mas\u001b[39;00m e:\n",
      "File \u001b[1;32mC:\\Program Files\\WindowsApps\\PythonSoftwareFoundation.Python.3.11_3.11.2544.0_x64__qbz5n2kfra8p0\\Lib\\subprocess.py:548\u001b[0m, in \u001b[0;36mrun\u001b[1;34m(input, capture_output, timeout, check, *popenargs, **kwargs)\u001b[0m\n\u001b[0;32m    546\u001b[0m     kwargs[\u001b[38;5;124m'\u001b[39m\u001b[38;5;124mstderr\u001b[39m\u001b[38;5;124m'\u001b[39m] \u001b[38;5;241m=\u001b[39m PIPE\n\u001b[1;32m--> 548\u001b[0m \u001b[38;5;28;01mwith\u001b[39;00m \u001b[43mPopen\u001b[49m\u001b[43m(\u001b[49m\u001b[38;5;241;43m*\u001b[39;49m\u001b[43mpopenargs\u001b[49m\u001b[43m,\u001b[49m\u001b[43m \u001b[49m\u001b[38;5;241;43m*\u001b[39;49m\u001b[38;5;241;43m*\u001b[39;49m\u001b[43mkwargs\u001b[49m\u001b[43m)\u001b[49m \u001b[38;5;28;01mas\u001b[39;00m process:\n\u001b[0;32m    549\u001b[0m     \u001b[38;5;28;01mtry\u001b[39;00m:\n",
      "File \u001b[1;32mC:\\Program Files\\WindowsApps\\PythonSoftwareFoundation.Python.3.11_3.11.2544.0_x64__qbz5n2kfra8p0\\Lib\\subprocess.py:1026\u001b[0m, in \u001b[0;36mPopen.__init__\u001b[1;34m(self, args, bufsize, executable, stdin, stdout, stderr, preexec_fn, close_fds, shell, cwd, env, universal_newlines, startupinfo, creationflags, restore_signals, start_new_session, pass_fds, user, group, extra_groups, encoding, errors, text, umask, pipesize, process_group)\u001b[0m\n\u001b[0;32m   1023\u001b[0m             \u001b[38;5;28mself\u001b[39m\u001b[38;5;241m.\u001b[39mstderr \u001b[38;5;241m=\u001b[39m io\u001b[38;5;241m.\u001b[39mTextIOWrapper(\u001b[38;5;28mself\u001b[39m\u001b[38;5;241m.\u001b[39mstderr,\n\u001b[0;32m   1024\u001b[0m                     encoding\u001b[38;5;241m=\u001b[39mencoding, errors\u001b[38;5;241m=\u001b[39merrors)\n\u001b[1;32m-> 1026\u001b[0m     \u001b[38;5;28;43mself\u001b[39;49m\u001b[38;5;241;43m.\u001b[39;49m\u001b[43m_execute_child\u001b[49m\u001b[43m(\u001b[49m\u001b[43margs\u001b[49m\u001b[43m,\u001b[49m\u001b[43m \u001b[49m\u001b[43mexecutable\u001b[49m\u001b[43m,\u001b[49m\u001b[43m \u001b[49m\u001b[43mpreexec_fn\u001b[49m\u001b[43m,\u001b[49m\u001b[43m \u001b[49m\u001b[43mclose_fds\u001b[49m\u001b[43m,\u001b[49m\n\u001b[0;32m   1027\u001b[0m \u001b[43m                        \u001b[49m\u001b[43mpass_fds\u001b[49m\u001b[43m,\u001b[49m\u001b[43m \u001b[49m\u001b[43mcwd\u001b[49m\u001b[43m,\u001b[49m\u001b[43m \u001b[49m\u001b[43menv\u001b[49m\u001b[43m,\u001b[49m\n\u001b[0;32m   1028\u001b[0m \u001b[43m                        \u001b[49m\u001b[43mstartupinfo\u001b[49m\u001b[43m,\u001b[49m\u001b[43m \u001b[49m\u001b[43mcreationflags\u001b[49m\u001b[43m,\u001b[49m\u001b[43m \u001b[49m\u001b[43mshell\u001b[49m\u001b[43m,\u001b[49m\n\u001b[0;32m   1029\u001b[0m \u001b[43m                        \u001b[49m\u001b[43mp2cread\u001b[49m\u001b[43m,\u001b[49m\u001b[43m \u001b[49m\u001b[43mp2cwrite\u001b[49m\u001b[43m,\u001b[49m\n\u001b[0;32m   1030\u001b[0m \u001b[43m                        \u001b[49m\u001b[43mc2pread\u001b[49m\u001b[43m,\u001b[49m\u001b[43m \u001b[49m\u001b[43mc2pwrite\u001b[49m\u001b[43m,\u001b[49m\n\u001b[0;32m   1031\u001b[0m \u001b[43m                        \u001b[49m\u001b[43merrread\u001b[49m\u001b[43m,\u001b[49m\u001b[43m \u001b[49m\u001b[43merrwrite\u001b[49m\u001b[43m,\u001b[49m\n\u001b[0;32m   1032\u001b[0m \u001b[43m                        \u001b[49m\u001b[43mrestore_signals\u001b[49m\u001b[43m,\u001b[49m\n\u001b[0;32m   1033\u001b[0m \u001b[43m                        \u001b[49m\u001b[43mgid\u001b[49m\u001b[43m,\u001b[49m\u001b[43m \u001b[49m\u001b[43mgids\u001b[49m\u001b[43m,\u001b[49m\u001b[43m \u001b[49m\u001b[43muid\u001b[49m\u001b[43m,\u001b[49m\u001b[43m \u001b[49m\u001b[43mumask\u001b[49m\u001b[43m,\u001b[49m\n\u001b[0;32m   1034\u001b[0m \u001b[43m                        \u001b[49m\u001b[43mstart_new_session\u001b[49m\u001b[43m,\u001b[49m\u001b[43m \u001b[49m\u001b[43mprocess_group\u001b[49m\u001b[43m)\u001b[49m\n\u001b[0;32m   1035\u001b[0m \u001b[38;5;28;01mexcept\u001b[39;00m:\n\u001b[0;32m   1036\u001b[0m     \u001b[38;5;66;03m# Cleanup if the child failed starting.\u001b[39;00m\n",
      "File \u001b[1;32mC:\\Program Files\\WindowsApps\\PythonSoftwareFoundation.Python.3.11_3.11.2544.0_x64__qbz5n2kfra8p0\\Lib\\subprocess.py:1538\u001b[0m, in \u001b[0;36mPopen._execute_child\u001b[1;34m(self, args, executable, preexec_fn, close_fds, pass_fds, cwd, env, startupinfo, creationflags, shell, p2cread, p2cwrite, c2pread, c2pwrite, errread, errwrite, unused_restore_signals, unused_gid, unused_gids, unused_uid, unused_umask, unused_start_new_session, unused_process_group)\u001b[0m\n\u001b[0;32m   1537\u001b[0m \u001b[38;5;28;01mtry\u001b[39;00m:\n\u001b[1;32m-> 1538\u001b[0m     hp, ht, pid, tid \u001b[38;5;241m=\u001b[39m _winapi\u001b[38;5;241m.\u001b[39mCreateProcess(executable, args,\n\u001b[0;32m   1539\u001b[0m                              \u001b[38;5;66;03m# no special security\u001b[39;00m\n\u001b[0;32m   1540\u001b[0m                              \u001b[38;5;28;01mNone\u001b[39;00m, \u001b[38;5;28;01mNone\u001b[39;00m,\n\u001b[0;32m   1541\u001b[0m                              \u001b[38;5;28mint\u001b[39m(\u001b[38;5;129;01mnot\u001b[39;00m close_fds),\n\u001b[0;32m   1542\u001b[0m                              creationflags,\n\u001b[0;32m   1543\u001b[0m                              env,\n\u001b[0;32m   1544\u001b[0m                              cwd,\n\u001b[0;32m   1545\u001b[0m                              startupinfo)\n\u001b[0;32m   1546\u001b[0m \u001b[38;5;28;01mfinally\u001b[39;00m:\n\u001b[0;32m   1547\u001b[0m     \u001b[38;5;66;03m# Child is launched. Close the parent's copy of those pipe\u001b[39;00m\n\u001b[0;32m   1548\u001b[0m     \u001b[38;5;66;03m# handles that only the child should have open.  You need\u001b[39;00m\n\u001b[1;32m   (...)\u001b[0m\n\u001b[0;32m   1551\u001b[0m     \u001b[38;5;66;03m# pipe will not close when the child process exits and the\u001b[39;00m\n\u001b[0;32m   1552\u001b[0m     \u001b[38;5;66;03m# ReadFile will hang.\u001b[39;00m\n",
      "\u001b[1;31mFileNotFoundError\u001b[0m: [WinError 2] 지정된 파일을 찾을 수 없습니다",
      "\nThe above exception was the direct cause of the following exception:\n",
      "\u001b[1;31mExecutableNotFound\u001b[0m                        Traceback (most recent call last)",
      "Cell \u001b[1;32mIn[8], line 40\u001b[0m\n\u001b[0;32m     37\u001b[0m root\u001b[38;5;241m.\u001b[39mleft\u001b[38;5;241m.\u001b[39mleft \u001b[38;5;241m=\u001b[39m TreeNode(\u001b[38;5;241m4\u001b[39m)\n\u001b[0;32m     38\u001b[0m root\u001b[38;5;241m.\u001b[39mleft\u001b[38;5;241m.\u001b[39mright \u001b[38;5;241m=\u001b[39m TreeNode(\u001b[38;5;241m5\u001b[39m)\n\u001b[1;32m---> 40\u001b[0m \u001b[43mdraw_tree\u001b[49m\u001b[43m(\u001b[49m\u001b[43mroot\u001b[49m\u001b[43m)\u001b[49m\n",
      "Cell \u001b[1;32mIn[8], line 31\u001b[0m, in \u001b[0;36mdraw_tree\u001b[1;34m(root)\u001b[0m\n\u001b[0;32m     28\u001b[0m     \u001b[38;5;28;01mif\u001b[39;00m node\u001b[38;5;241m.\u001b[39mright:\n\u001b[0;32m     29\u001b[0m         stack\u001b[38;5;241m.\u001b[39mappend((node\u001b[38;5;241m.\u001b[39mright, node_name))\n\u001b[1;32m---> 31\u001b[0m \u001b[43mdot\u001b[49m\u001b[38;5;241;43m.\u001b[39;49m\u001b[43mrender\u001b[49m\u001b[43m(\u001b[49m\u001b[38;5;124;43m'\u001b[39;49m\u001b[38;5;124;43mtree\u001b[39;49m\u001b[38;5;124;43m'\u001b[39;49m\u001b[43m,\u001b[49m\u001b[43m \u001b[49m\u001b[43mview\u001b[49m\u001b[38;5;241;43m=\u001b[39;49m\u001b[38;5;28;43;01mTrue\u001b[39;49;00m\u001b[43m)\u001b[49m\n",
      "File \u001b[1;32m~\\AppData\\Local\\Packages\\PythonSoftwareFoundation.Python.3.11_qbz5n2kfra8p0\\LocalCache\\local-packages\\Python311\\site-packages\\graphviz\\_tools.py:171\u001b[0m, in \u001b[0;36mdeprecate_positional_args.<locals>.decorator.<locals>.wrapper\u001b[1;34m(*args, **kwargs)\u001b[0m\n\u001b[0;32m    162\u001b[0m     wanted \u001b[38;5;241m=\u001b[39m \u001b[38;5;124m'\u001b[39m\u001b[38;5;124m, \u001b[39m\u001b[38;5;124m'\u001b[39m\u001b[38;5;241m.\u001b[39mjoin(\u001b[38;5;124mf\u001b[39m\u001b[38;5;124m'\u001b[39m\u001b[38;5;132;01m{\u001b[39;00mname\u001b[38;5;132;01m}\u001b[39;00m\u001b[38;5;124m=\u001b[39m\u001b[38;5;132;01m{\u001b[39;00mvalue\u001b[38;5;132;01m!r}\u001b[39;00m\u001b[38;5;124m'\u001b[39m\n\u001b[0;32m    163\u001b[0m                        \u001b[38;5;28;01mfor\u001b[39;00m name, value \u001b[38;5;129;01min\u001b[39;00m deprecated\u001b[38;5;241m.\u001b[39mitems())\n\u001b[0;32m    164\u001b[0m     warnings\u001b[38;5;241m.\u001b[39mwarn(\u001b[38;5;124mf\u001b[39m\u001b[38;5;124m'\u001b[39m\u001b[38;5;124mThe signature of \u001b[39m\u001b[38;5;132;01m{\u001b[39;00mfunc\u001b[38;5;241m.\u001b[39m\u001b[38;5;18m__name__\u001b[39m\u001b[38;5;132;01m}\u001b[39;00m\u001b[38;5;124m will be reduced\u001b[39m\u001b[38;5;124m'\u001b[39m\n\u001b[0;32m    165\u001b[0m                   \u001b[38;5;124mf\u001b[39m\u001b[38;5;124m'\u001b[39m\u001b[38;5;124m to \u001b[39m\u001b[38;5;132;01m{\u001b[39;00msupported_number\u001b[38;5;132;01m}\u001b[39;00m\u001b[38;5;124m positional args\u001b[39m\u001b[38;5;124m'\u001b[39m\n\u001b[0;32m    166\u001b[0m                   \u001b[38;5;124mf\u001b[39m\u001b[38;5;124m'\u001b[39m\u001b[38;5;124m \u001b[39m\u001b[38;5;132;01m{\u001b[39;00m\u001b[38;5;28mlist\u001b[39m(supported)\u001b[38;5;132;01m}\u001b[39;00m\u001b[38;5;124m: pass \u001b[39m\u001b[38;5;132;01m{\u001b[39;00mwanted\u001b[38;5;132;01m}\u001b[39;00m\u001b[38;5;124m'\u001b[39m\n\u001b[0;32m    167\u001b[0m                   \u001b[38;5;124m'\u001b[39m\u001b[38;5;124m as keyword arg(s)\u001b[39m\u001b[38;5;124m'\u001b[39m,\n\u001b[0;32m    168\u001b[0m                   stacklevel\u001b[38;5;241m=\u001b[39mstacklevel,\n\u001b[0;32m    169\u001b[0m                   category\u001b[38;5;241m=\u001b[39mcategory)\n\u001b[1;32m--> 171\u001b[0m \u001b[38;5;28;01mreturn\u001b[39;00m \u001b[43mfunc\u001b[49m\u001b[43m(\u001b[49m\u001b[38;5;241;43m*\u001b[39;49m\u001b[43margs\u001b[49m\u001b[43m,\u001b[49m\u001b[43m \u001b[49m\u001b[38;5;241;43m*\u001b[39;49m\u001b[38;5;241;43m*\u001b[39;49m\u001b[43mkwargs\u001b[49m\u001b[43m)\u001b[49m\n",
      "File \u001b[1;32m~\\AppData\\Local\\Packages\\PythonSoftwareFoundation.Python.3.11_qbz5n2kfra8p0\\LocalCache\\local-packages\\Python311\\site-packages\\graphviz\\rendering.py:122\u001b[0m, in \u001b[0;36mRender.render\u001b[1;34m(self, filename, directory, view, cleanup, format, renderer, formatter, neato_no_op, quiet, quiet_view, outfile, engine, raise_if_result_exists, overwrite_source)\u001b[0m\n\u001b[0;32m    118\u001b[0m filepath \u001b[38;5;241m=\u001b[39m \u001b[38;5;28mself\u001b[39m\u001b[38;5;241m.\u001b[39msave(filename, directory\u001b[38;5;241m=\u001b[39mdirectory, skip_existing\u001b[38;5;241m=\u001b[39m\u001b[38;5;28;01mNone\u001b[39;00m)\n\u001b[0;32m    120\u001b[0m args\u001b[38;5;241m.\u001b[39mappend(filepath)\n\u001b[1;32m--> 122\u001b[0m rendered \u001b[38;5;241m=\u001b[39m \u001b[38;5;28;43mself\u001b[39;49m\u001b[38;5;241;43m.\u001b[39;49m\u001b[43m_render\u001b[49m\u001b[43m(\u001b[49m\u001b[38;5;241;43m*\u001b[39;49m\u001b[43margs\u001b[49m\u001b[43m,\u001b[49m\u001b[43m \u001b[49m\u001b[38;5;241;43m*\u001b[39;49m\u001b[38;5;241;43m*\u001b[39;49m\u001b[43mkwargs\u001b[49m\u001b[43m)\u001b[49m\n\u001b[0;32m    124\u001b[0m \u001b[38;5;28;01mif\u001b[39;00m cleanup:\n\u001b[0;32m    125\u001b[0m     log\u001b[38;5;241m.\u001b[39mdebug(\u001b[38;5;124m'\u001b[39m\u001b[38;5;124mdelete \u001b[39m\u001b[38;5;132;01m%r\u001b[39;00m\u001b[38;5;124m'\u001b[39m, filepath)\n",
      "File \u001b[1;32m~\\AppData\\Local\\Packages\\PythonSoftwareFoundation.Python.3.11_qbz5n2kfra8p0\\LocalCache\\local-packages\\Python311\\site-packages\\graphviz\\_tools.py:171\u001b[0m, in \u001b[0;36mdeprecate_positional_args.<locals>.decorator.<locals>.wrapper\u001b[1;34m(*args, **kwargs)\u001b[0m\n\u001b[0;32m    162\u001b[0m     wanted \u001b[38;5;241m=\u001b[39m \u001b[38;5;124m'\u001b[39m\u001b[38;5;124m, \u001b[39m\u001b[38;5;124m'\u001b[39m\u001b[38;5;241m.\u001b[39mjoin(\u001b[38;5;124mf\u001b[39m\u001b[38;5;124m'\u001b[39m\u001b[38;5;132;01m{\u001b[39;00mname\u001b[38;5;132;01m}\u001b[39;00m\u001b[38;5;124m=\u001b[39m\u001b[38;5;132;01m{\u001b[39;00mvalue\u001b[38;5;132;01m!r}\u001b[39;00m\u001b[38;5;124m'\u001b[39m\n\u001b[0;32m    163\u001b[0m                        \u001b[38;5;28;01mfor\u001b[39;00m name, value \u001b[38;5;129;01min\u001b[39;00m deprecated\u001b[38;5;241m.\u001b[39mitems())\n\u001b[0;32m    164\u001b[0m     warnings\u001b[38;5;241m.\u001b[39mwarn(\u001b[38;5;124mf\u001b[39m\u001b[38;5;124m'\u001b[39m\u001b[38;5;124mThe signature of \u001b[39m\u001b[38;5;132;01m{\u001b[39;00mfunc\u001b[38;5;241m.\u001b[39m\u001b[38;5;18m__name__\u001b[39m\u001b[38;5;132;01m}\u001b[39;00m\u001b[38;5;124m will be reduced\u001b[39m\u001b[38;5;124m'\u001b[39m\n\u001b[0;32m    165\u001b[0m                   \u001b[38;5;124mf\u001b[39m\u001b[38;5;124m'\u001b[39m\u001b[38;5;124m to \u001b[39m\u001b[38;5;132;01m{\u001b[39;00msupported_number\u001b[38;5;132;01m}\u001b[39;00m\u001b[38;5;124m positional args\u001b[39m\u001b[38;5;124m'\u001b[39m\n\u001b[0;32m    166\u001b[0m                   \u001b[38;5;124mf\u001b[39m\u001b[38;5;124m'\u001b[39m\u001b[38;5;124m \u001b[39m\u001b[38;5;132;01m{\u001b[39;00m\u001b[38;5;28mlist\u001b[39m(supported)\u001b[38;5;132;01m}\u001b[39;00m\u001b[38;5;124m: pass \u001b[39m\u001b[38;5;132;01m{\u001b[39;00mwanted\u001b[38;5;132;01m}\u001b[39;00m\u001b[38;5;124m'\u001b[39m\n\u001b[0;32m    167\u001b[0m                   \u001b[38;5;124m'\u001b[39m\u001b[38;5;124m as keyword arg(s)\u001b[39m\u001b[38;5;124m'\u001b[39m,\n\u001b[0;32m    168\u001b[0m                   stacklevel\u001b[38;5;241m=\u001b[39mstacklevel,\n\u001b[0;32m    169\u001b[0m                   category\u001b[38;5;241m=\u001b[39mcategory)\n\u001b[1;32m--> 171\u001b[0m \u001b[38;5;28;01mreturn\u001b[39;00m \u001b[43mfunc\u001b[49m\u001b[43m(\u001b[49m\u001b[38;5;241;43m*\u001b[39;49m\u001b[43margs\u001b[49m\u001b[43m,\u001b[49m\u001b[43m \u001b[49m\u001b[38;5;241;43m*\u001b[39;49m\u001b[38;5;241;43m*\u001b[39;49m\u001b[43mkwargs\u001b[49m\u001b[43m)\u001b[49m\n",
      "File \u001b[1;32m~\\AppData\\Local\\Packages\\PythonSoftwareFoundation.Python.3.11_qbz5n2kfra8p0\\LocalCache\\local-packages\\Python311\\site-packages\\graphviz\\backend\\rendering.py:326\u001b[0m, in \u001b[0;36mrender\u001b[1;34m(engine, format, filepath, renderer, formatter, neato_no_op, quiet, outfile, raise_if_result_exists, overwrite_filepath)\u001b[0m\n\u001b[0;32m    322\u001b[0m cmd \u001b[38;5;241m+\u001b[39m\u001b[38;5;241m=\u001b[39m args\n\u001b[0;32m    324\u001b[0m \u001b[38;5;28;01massert\u001b[39;00m filepath \u001b[38;5;129;01mis\u001b[39;00m \u001b[38;5;129;01mnot\u001b[39;00m \u001b[38;5;28;01mNone\u001b[39;00m, \u001b[38;5;124m'\u001b[39m\u001b[38;5;124mwork around pytype false alarm\u001b[39m\u001b[38;5;124m'\u001b[39m\n\u001b[1;32m--> 326\u001b[0m \u001b[43mexecute\u001b[49m\u001b[38;5;241;43m.\u001b[39;49m\u001b[43mrun_check\u001b[49m\u001b[43m(\u001b[49m\u001b[43mcmd\u001b[49m\u001b[43m,\u001b[49m\n\u001b[0;32m    327\u001b[0m \u001b[43m                  \u001b[49m\u001b[43mcwd\u001b[49m\u001b[38;5;241;43m=\u001b[39;49m\u001b[43mfilepath\u001b[49m\u001b[38;5;241;43m.\u001b[39;49m\u001b[43mparent\u001b[49m\u001b[43m \u001b[49m\u001b[38;5;28;43;01mif\u001b[39;49;00m\u001b[43m \u001b[49m\u001b[43mfilepath\u001b[49m\u001b[38;5;241;43m.\u001b[39;49m\u001b[43mparent\u001b[49m\u001b[38;5;241;43m.\u001b[39;49m\u001b[43mparts\u001b[49m\u001b[43m \u001b[49m\u001b[38;5;28;43;01melse\u001b[39;49;00m\u001b[43m \u001b[49m\u001b[38;5;28;43;01mNone\u001b[39;49;00m\u001b[43m,\u001b[49m\n\u001b[0;32m    328\u001b[0m \u001b[43m                  \u001b[49m\u001b[43mquiet\u001b[49m\u001b[38;5;241;43m=\u001b[39;49m\u001b[43mquiet\u001b[49m\u001b[43m,\u001b[49m\n\u001b[0;32m    329\u001b[0m \u001b[43m                  \u001b[49m\u001b[43mcapture_output\u001b[49m\u001b[38;5;241;43m=\u001b[39;49m\u001b[38;5;28;43;01mTrue\u001b[39;49;00m\u001b[43m)\u001b[49m\n\u001b[0;32m    331\u001b[0m \u001b[38;5;28;01mreturn\u001b[39;00m os\u001b[38;5;241m.\u001b[39mfspath(outfile)\n",
      "File \u001b[1;32m~\\AppData\\Local\\Packages\\PythonSoftwareFoundation.Python.3.11_qbz5n2kfra8p0\\LocalCache\\local-packages\\Python311\\site-packages\\graphviz\\backend\\execute.py:81\u001b[0m, in \u001b[0;36mrun_check\u001b[1;34m(cmd, input_lines, encoding, quiet, **kwargs)\u001b[0m\n\u001b[0;32m     79\u001b[0m \u001b[38;5;28;01mexcept\u001b[39;00m \u001b[38;5;167;01mOSError\u001b[39;00m \u001b[38;5;28;01mas\u001b[39;00m e:\n\u001b[0;32m     80\u001b[0m     \u001b[38;5;28;01mif\u001b[39;00m e\u001b[38;5;241m.\u001b[39merrno \u001b[38;5;241m==\u001b[39m errno\u001b[38;5;241m.\u001b[39mENOENT:\n\u001b[1;32m---> 81\u001b[0m         \u001b[38;5;28;01mraise\u001b[39;00m ExecutableNotFound(cmd) \u001b[38;5;28;01mfrom\u001b[39;00m \u001b[38;5;21;01me\u001b[39;00m\n\u001b[0;32m     82\u001b[0m     \u001b[38;5;28;01mraise\u001b[39;00m\n\u001b[0;32m     84\u001b[0m \u001b[38;5;28;01mif\u001b[39;00m \u001b[38;5;129;01mnot\u001b[39;00m quiet \u001b[38;5;129;01mand\u001b[39;00m proc\u001b[38;5;241m.\u001b[39mstderr:\n",
      "\u001b[1;31mExecutableNotFound\u001b[0m: failed to execute WindowsPath('dot'), make sure the Graphviz executables are on your systems' PATH"
     ]
    }
   ],
   "source": [
    "import graphviz\n",
    "\n",
    "class TreeNode:\n",
    "    def __init__(self, val):\n",
    "        self.val = val\n",
    "        self.left = None\n",
    "        self.right = None\n",
    "\n",
    "def draw_tree(root):\n",
    "    if not root:\n",
    "        return None\n",
    "\n",
    "    dot = graphviz.Digraph()\n",
    "    nodes = []\n",
    "    stack = [(root, None)]\n",
    "\n",
    "    while stack:\n",
    "        node, parent = stack.pop()\n",
    "        node_name = str(node.val)\n",
    "        nodes.append(node_name)\n",
    "        dot.node(node_name, label=node_name)\n",
    "\n",
    "        if parent:\n",
    "            dot.edge(parent, node_name)\n",
    "\n",
    "        if node.left:\n",
    "            stack.append((node.left, node_name))\n",
    "        if node.right:\n",
    "            stack.append((node.right, node_name))\n",
    "\n",
    "    dot.render('tree', view=True)\n",
    "\n",
    "# 예시 사용법\n",
    "root = TreeNode(1)\n",
    "root.left = TreeNode(2)\n",
    "root.right = TreeNode(3)\n",
    "root.left.left = TreeNode(4)\n",
    "root.left.right = TreeNode(5)\n",
    "\n",
    "draw_tree(root)"
   ]
  },
  {
   "cell_type": "markdown",
   "id": "4572b433-8f05-49ad-9415-e6f77e63ecd8",
   "metadata": {
    "jp-MarkdownHeadingCollapsed": true
   },
   "source": [
    "- 방법2: networkx를 이용한 그래프 그리기"
   ]
  },
  {
   "cell_type": "code",
   "execution_count": 6,
   "id": "6dd4237a-6935-4d45-a8bf-2d5b4911506f",
   "metadata": {},
   "outputs": [],
   "source": [
    "import warnings\n",
    "warnings.filterwarnings('ignore')"
   ]
  },
  {
   "cell_type": "code",
   "execution_count": 7,
   "id": "d1b74b17-1171-46c9-b3be-4a07b1a51571",
   "metadata": {
    "scrolled": true
   },
   "outputs": [
    {
     "ename": "FileNotFoundError",
     "evalue": "[WinError 2] \"dot\" not found in path.",
     "output_type": "error",
     "traceback": [
      "\u001b[1;31m---------------------------------------------------------------------------\u001b[0m",
      "\u001b[1;31mFileNotFoundError\u001b[0m                         Traceback (most recent call last)",
      "File \u001b[1;32m~\\AppData\\Local\\Packages\\PythonSoftwareFoundation.Python.3.11_qbz5n2kfra8p0\\LocalCache\\local-packages\\Python311\\site-packages\\pydot\\core.py:1753\u001b[0m, in \u001b[0;36mDot.create\u001b[1;34m(self, prog, format, encoding)\u001b[0m\n\u001b[0;32m   1752\u001b[0m \u001b[38;5;28;01mtry\u001b[39;00m:\n\u001b[1;32m-> 1753\u001b[0m     stdout_data, stderr_data, process \u001b[38;5;241m=\u001b[39m \u001b[43mcall_graphviz\u001b[49m\u001b[43m(\u001b[49m\n\u001b[0;32m   1754\u001b[0m \u001b[43m        \u001b[49m\u001b[43mprogram\u001b[49m\u001b[38;5;241;43m=\u001b[39;49m\u001b[43mprog\u001b[49m\u001b[43m,\u001b[49m\n\u001b[0;32m   1755\u001b[0m \u001b[43m        \u001b[49m\u001b[43marguments\u001b[49m\u001b[38;5;241;43m=\u001b[39;49m\u001b[43marguments\u001b[49m\u001b[43m,\u001b[49m\n\u001b[0;32m   1756\u001b[0m \u001b[43m        \u001b[49m\u001b[43mworking_dir\u001b[49m\u001b[38;5;241;43m=\u001b[39;49m\u001b[43mtmp_dir\u001b[49m\u001b[43m,\u001b[49m\n\u001b[0;32m   1757\u001b[0m \u001b[43m    \u001b[49m\u001b[43m)\u001b[49m\n\u001b[0;32m   1758\u001b[0m \u001b[38;5;28;01mexcept\u001b[39;00m \u001b[38;5;167;01mOSError\u001b[39;00m \u001b[38;5;28;01mas\u001b[39;00m e:\n",
      "File \u001b[1;32m~\\AppData\\Local\\Packages\\PythonSoftwareFoundation.Python.3.11_qbz5n2kfra8p0\\LocalCache\\local-packages\\Python311\\site-packages\\pydot\\core.py:133\u001b[0m, in \u001b[0;36mcall_graphviz\u001b[1;34m(program, arguments, working_dir, **kwargs)\u001b[0m\n\u001b[0;32m    131\u001b[0m program_with_args \u001b[38;5;241m=\u001b[39m [program] \u001b[38;5;241m+\u001b[39m arguments\n\u001b[1;32m--> 133\u001b[0m process \u001b[38;5;241m=\u001b[39m \u001b[43msubprocess\u001b[49m\u001b[38;5;241;43m.\u001b[39;49m\u001b[43mPopen\u001b[49m\u001b[43m(\u001b[49m\n\u001b[0;32m    134\u001b[0m \u001b[43m    \u001b[49m\u001b[43mprogram_with_args\u001b[49m\u001b[43m,\u001b[49m\n\u001b[0;32m    135\u001b[0m \u001b[43m    \u001b[49m\u001b[43menv\u001b[49m\u001b[38;5;241;43m=\u001b[39;49m\u001b[43menv\u001b[49m\u001b[43m,\u001b[49m\n\u001b[0;32m    136\u001b[0m \u001b[43m    \u001b[49m\u001b[43mcwd\u001b[49m\u001b[38;5;241;43m=\u001b[39;49m\u001b[43mworking_dir\u001b[49m\u001b[43m,\u001b[49m\n\u001b[0;32m    137\u001b[0m \u001b[43m    \u001b[49m\u001b[43mshell\u001b[49m\u001b[38;5;241;43m=\u001b[39;49m\u001b[38;5;28;43;01mFalse\u001b[39;49;00m\u001b[43m,\u001b[49m\n\u001b[0;32m    138\u001b[0m \u001b[43m    \u001b[49m\u001b[43mstderr\u001b[49m\u001b[38;5;241;43m=\u001b[39;49m\u001b[43msubprocess\u001b[49m\u001b[38;5;241;43m.\u001b[39;49m\u001b[43mPIPE\u001b[49m\u001b[43m,\u001b[49m\n\u001b[0;32m    139\u001b[0m \u001b[43m    \u001b[49m\u001b[43mstdout\u001b[49m\u001b[38;5;241;43m=\u001b[39;49m\u001b[43msubprocess\u001b[49m\u001b[38;5;241;43m.\u001b[39;49m\u001b[43mPIPE\u001b[49m\u001b[43m,\u001b[49m\n\u001b[0;32m    140\u001b[0m \u001b[43m    \u001b[49m\u001b[38;5;241;43m*\u001b[39;49m\u001b[38;5;241;43m*\u001b[39;49m\u001b[43mkwargs\u001b[49m\u001b[43m,\u001b[49m\n\u001b[0;32m    141\u001b[0m \u001b[43m\u001b[49m\u001b[43m)\u001b[49m\n\u001b[0;32m    142\u001b[0m stdout_data, stderr_data \u001b[38;5;241m=\u001b[39m process\u001b[38;5;241m.\u001b[39mcommunicate()\n",
      "File \u001b[1;32mC:\\Program Files\\WindowsApps\\PythonSoftwareFoundation.Python.3.11_3.11.2544.0_x64__qbz5n2kfra8p0\\Lib\\subprocess.py:1026\u001b[0m, in \u001b[0;36mPopen.__init__\u001b[1;34m(self, args, bufsize, executable, stdin, stdout, stderr, preexec_fn, close_fds, shell, cwd, env, universal_newlines, startupinfo, creationflags, restore_signals, start_new_session, pass_fds, user, group, extra_groups, encoding, errors, text, umask, pipesize, process_group)\u001b[0m\n\u001b[0;32m   1023\u001b[0m             \u001b[38;5;28mself\u001b[39m\u001b[38;5;241m.\u001b[39mstderr \u001b[38;5;241m=\u001b[39m io\u001b[38;5;241m.\u001b[39mTextIOWrapper(\u001b[38;5;28mself\u001b[39m\u001b[38;5;241m.\u001b[39mstderr,\n\u001b[0;32m   1024\u001b[0m                     encoding\u001b[38;5;241m=\u001b[39mencoding, errors\u001b[38;5;241m=\u001b[39merrors)\n\u001b[1;32m-> 1026\u001b[0m     \u001b[38;5;28;43mself\u001b[39;49m\u001b[38;5;241;43m.\u001b[39;49m\u001b[43m_execute_child\u001b[49m\u001b[43m(\u001b[49m\u001b[43margs\u001b[49m\u001b[43m,\u001b[49m\u001b[43m \u001b[49m\u001b[43mexecutable\u001b[49m\u001b[43m,\u001b[49m\u001b[43m \u001b[49m\u001b[43mpreexec_fn\u001b[49m\u001b[43m,\u001b[49m\u001b[43m \u001b[49m\u001b[43mclose_fds\u001b[49m\u001b[43m,\u001b[49m\n\u001b[0;32m   1027\u001b[0m \u001b[43m                        \u001b[49m\u001b[43mpass_fds\u001b[49m\u001b[43m,\u001b[49m\u001b[43m \u001b[49m\u001b[43mcwd\u001b[49m\u001b[43m,\u001b[49m\u001b[43m \u001b[49m\u001b[43menv\u001b[49m\u001b[43m,\u001b[49m\n\u001b[0;32m   1028\u001b[0m \u001b[43m                        \u001b[49m\u001b[43mstartupinfo\u001b[49m\u001b[43m,\u001b[49m\u001b[43m \u001b[49m\u001b[43mcreationflags\u001b[49m\u001b[43m,\u001b[49m\u001b[43m \u001b[49m\u001b[43mshell\u001b[49m\u001b[43m,\u001b[49m\n\u001b[0;32m   1029\u001b[0m \u001b[43m                        \u001b[49m\u001b[43mp2cread\u001b[49m\u001b[43m,\u001b[49m\u001b[43m \u001b[49m\u001b[43mp2cwrite\u001b[49m\u001b[43m,\u001b[49m\n\u001b[0;32m   1030\u001b[0m \u001b[43m                        \u001b[49m\u001b[43mc2pread\u001b[49m\u001b[43m,\u001b[49m\u001b[43m \u001b[49m\u001b[43mc2pwrite\u001b[49m\u001b[43m,\u001b[49m\n\u001b[0;32m   1031\u001b[0m \u001b[43m                        \u001b[49m\u001b[43merrread\u001b[49m\u001b[43m,\u001b[49m\u001b[43m \u001b[49m\u001b[43merrwrite\u001b[49m\u001b[43m,\u001b[49m\n\u001b[0;32m   1032\u001b[0m \u001b[43m                        \u001b[49m\u001b[43mrestore_signals\u001b[49m\u001b[43m,\u001b[49m\n\u001b[0;32m   1033\u001b[0m \u001b[43m                        \u001b[49m\u001b[43mgid\u001b[49m\u001b[43m,\u001b[49m\u001b[43m \u001b[49m\u001b[43mgids\u001b[49m\u001b[43m,\u001b[49m\u001b[43m \u001b[49m\u001b[43muid\u001b[49m\u001b[43m,\u001b[49m\u001b[43m \u001b[49m\u001b[43mumask\u001b[49m\u001b[43m,\u001b[49m\n\u001b[0;32m   1034\u001b[0m \u001b[43m                        \u001b[49m\u001b[43mstart_new_session\u001b[49m\u001b[43m,\u001b[49m\u001b[43m \u001b[49m\u001b[43mprocess_group\u001b[49m\u001b[43m)\u001b[49m\n\u001b[0;32m   1035\u001b[0m \u001b[38;5;28;01mexcept\u001b[39;00m:\n\u001b[0;32m   1036\u001b[0m     \u001b[38;5;66;03m# Cleanup if the child failed starting.\u001b[39;00m\n",
      "File \u001b[1;32mC:\\Program Files\\WindowsApps\\PythonSoftwareFoundation.Python.3.11_3.11.2544.0_x64__qbz5n2kfra8p0\\Lib\\subprocess.py:1538\u001b[0m, in \u001b[0;36mPopen._execute_child\u001b[1;34m(self, args, executable, preexec_fn, close_fds, pass_fds, cwd, env, startupinfo, creationflags, shell, p2cread, p2cwrite, c2pread, c2pwrite, errread, errwrite, unused_restore_signals, unused_gid, unused_gids, unused_uid, unused_umask, unused_start_new_session, unused_process_group)\u001b[0m\n\u001b[0;32m   1537\u001b[0m \u001b[38;5;28;01mtry\u001b[39;00m:\n\u001b[1;32m-> 1538\u001b[0m     hp, ht, pid, tid \u001b[38;5;241m=\u001b[39m _winapi\u001b[38;5;241m.\u001b[39mCreateProcess(executable, args,\n\u001b[0;32m   1539\u001b[0m                              \u001b[38;5;66;03m# no special security\u001b[39;00m\n\u001b[0;32m   1540\u001b[0m                              \u001b[38;5;28;01mNone\u001b[39;00m, \u001b[38;5;28;01mNone\u001b[39;00m,\n\u001b[0;32m   1541\u001b[0m                              \u001b[38;5;28mint\u001b[39m(\u001b[38;5;129;01mnot\u001b[39;00m close_fds),\n\u001b[0;32m   1542\u001b[0m                              creationflags,\n\u001b[0;32m   1543\u001b[0m                              env,\n\u001b[0;32m   1544\u001b[0m                              cwd,\n\u001b[0;32m   1545\u001b[0m                              startupinfo)\n\u001b[0;32m   1546\u001b[0m \u001b[38;5;28;01mfinally\u001b[39;00m:\n\u001b[0;32m   1547\u001b[0m     \u001b[38;5;66;03m# Child is launched. Close the parent's copy of those pipe\u001b[39;00m\n\u001b[0;32m   1548\u001b[0m     \u001b[38;5;66;03m# handles that only the child should have open.  You need\u001b[39;00m\n\u001b[1;32m   (...)\u001b[0m\n\u001b[0;32m   1551\u001b[0m     \u001b[38;5;66;03m# pipe will not close when the child process exits and the\u001b[39;00m\n\u001b[0;32m   1552\u001b[0m     \u001b[38;5;66;03m# ReadFile will hang.\u001b[39;00m\n",
      "\u001b[1;31mFileNotFoundError\u001b[0m: [WinError 2] 지정된 파일을 찾을 수 없습니다",
      "\nDuring handling of the above exception, another exception occurred:\n",
      "\u001b[1;31mFileNotFoundError\u001b[0m                         Traceback (most recent call last)",
      "Cell \u001b[1;32mIn[7], line 22\u001b[0m\n\u001b[0;32m     19\u001b[0m V \u001b[38;5;241m=\u001b[39m [\u001b[38;5;241m1\u001b[39m,\u001b[38;5;241m2\u001b[39m,\u001b[38;5;241m3\u001b[39m,\u001b[38;5;241m4\u001b[39m,\u001b[38;5;241m5\u001b[39m]\n\u001b[0;32m     20\u001b[0m E \u001b[38;5;241m=\u001b[39m [(\u001b[38;5;241m1\u001b[39m,\u001b[38;5;241m3\u001b[39m),(\u001b[38;5;241m1\u001b[39m,\u001b[38;5;241m2\u001b[39m),(\u001b[38;5;241m2\u001b[39m,\u001b[38;5;241m4\u001b[39m),(\u001b[38;5;241m2\u001b[39m,\u001b[38;5;241m5\u001b[39m)]\n\u001b[1;32m---> 22\u001b[0m \u001b[43mdrawTree\u001b[49m\u001b[43m(\u001b[49m\u001b[43mV\u001b[49m\u001b[43m,\u001b[49m\u001b[43m \u001b[49m\u001b[43mE\u001b[49m\u001b[43m,\u001b[49m\u001b[43m \u001b[49m\u001b[38;5;241;43m1\u001b[39;49m\u001b[43m,\u001b[49m\u001b[43m \u001b[49m\u001b[38;5;241;43m1\u001b[39;49m\u001b[43m)\u001b[49m\n",
      "Cell \u001b[1;32mIn[7], line 16\u001b[0m, in \u001b[0;36mdrawTree\u001b[1;34m(V, E, isDirect, D, W)\u001b[0m\n\u001b[0;32m     14\u001b[0m \u001b[38;5;28;01mif\u001b[39;00m D\u001b[38;5;241m==\u001b[39m\u001b[38;5;241m0\u001b[39m: d1\u001b[38;5;241m.\u001b[39mset_rankdir(\u001b[38;5;124m\"\u001b[39m\u001b[38;5;124mLR\u001b[39m\u001b[38;5;124m\"\u001b[39m)   \u001b[38;5;66;03m# 수평방향 --> 이 코드 없으면 수직방향\u001b[39;00m\n\u001b[0;32m     15\u001b[0m d1\u001b[38;5;241m.\u001b[39mset_margin(\u001b[38;5;241m1\u001b[39m)\n\u001b[1;32m---> 16\u001b[0m img \u001b[38;5;241m=\u001b[39m Image(\u001b[43md1\u001b[49m\u001b[38;5;241;43m.\u001b[39;49m\u001b[43mcreate_png\u001b[49m\u001b[43m(\u001b[49m\u001b[43m)\u001b[49m, width\u001b[38;5;241m=\u001b[39mW)\n\u001b[0;32m     17\u001b[0m display(img)\n",
      "File \u001b[1;32m~\\AppData\\Local\\Packages\\PythonSoftwareFoundation.Python.3.11_qbz5n2kfra8p0\\LocalCache\\local-packages\\Python311\\site-packages\\pydot\\core.py:1578\u001b[0m, in \u001b[0;36mDot.__init__.<locals>.new_method\u001b[1;34m(f, prog, encoding)\u001b[0m\n\u001b[0;32m   1576\u001b[0m \u001b[38;5;28;01mdef\u001b[39;00m \u001b[38;5;21mnew_method\u001b[39m(f\u001b[38;5;241m=\u001b[39mfrmt, prog\u001b[38;5;241m=\u001b[39m\u001b[38;5;28;01mNone\u001b[39;00m, encoding\u001b[38;5;241m=\u001b[39m\u001b[38;5;28;01mNone\u001b[39;00m):\n\u001b[0;32m   1577\u001b[0m \u001b[38;5;250m    \u001b[39m\u001b[38;5;124;03m\"\"\"Refer to docstring of method `create`.\"\"\"\u001b[39;00m\n\u001b[1;32m-> 1578\u001b[0m     \u001b[38;5;28;01mreturn\u001b[39;00m \u001b[38;5;28;43mself\u001b[39;49m\u001b[38;5;241;43m.\u001b[39;49m\u001b[43mcreate\u001b[49m\u001b[43m(\u001b[49m\u001b[38;5;28;43mformat\u001b[39;49m\u001b[38;5;241;43m=\u001b[39;49m\u001b[43mf\u001b[49m\u001b[43m,\u001b[49m\u001b[43m \u001b[49m\u001b[43mprog\u001b[49m\u001b[38;5;241;43m=\u001b[39;49m\u001b[43mprog\u001b[49m\u001b[43m,\u001b[49m\u001b[43m \u001b[49m\u001b[43mencoding\u001b[49m\u001b[38;5;241;43m=\u001b[39;49m\u001b[43mencoding\u001b[49m\u001b[43m)\u001b[49m\n",
      "File \u001b[1;32m~\\AppData\\Local\\Packages\\PythonSoftwareFoundation.Python.3.11_qbz5n2kfra8p0\\LocalCache\\local-packages\\Python311\\site-packages\\pydot\\core.py:1762\u001b[0m, in \u001b[0;36mDot.create\u001b[1;34m(self, prog, format, encoding)\u001b[0m\n\u001b[0;32m   1760\u001b[0m     args \u001b[38;5;241m=\u001b[39m \u001b[38;5;28mlist\u001b[39m(e\u001b[38;5;241m.\u001b[39margs)\n\u001b[0;32m   1761\u001b[0m     args[\u001b[38;5;241m1\u001b[39m] \u001b[38;5;241m=\u001b[39m \u001b[38;5;124m'\u001b[39m\u001b[38;5;124m\"\u001b[39m\u001b[38;5;132;01m{prog}\u001b[39;00m\u001b[38;5;124m\"\u001b[39m\u001b[38;5;124m not found in path.\u001b[39m\u001b[38;5;124m'\u001b[39m\u001b[38;5;241m.\u001b[39mformat(prog\u001b[38;5;241m=\u001b[39mprog)\n\u001b[1;32m-> 1762\u001b[0m     \u001b[38;5;28;01mraise\u001b[39;00m \u001b[38;5;167;01mOSError\u001b[39;00m(\u001b[38;5;241m*\u001b[39margs)\n\u001b[0;32m   1763\u001b[0m \u001b[38;5;28;01melse\u001b[39;00m:\n\u001b[0;32m   1764\u001b[0m     \u001b[38;5;28;01mraise\u001b[39;00m\n",
      "\u001b[1;31mFileNotFoundError\u001b[0m: [WinError 2] \"dot\" not found in path."
     ]
    }
   ],
   "source": [
    "# 트리 그리기\n",
    "def drawTree(V, E, isDirect=0, D=0, W=300):  # 기본 isDirect=무향, D=가로방향, W=크기\n",
    "    from IPython.core.display import Image\n",
    "    import networkx as nx\n",
    "\n",
    "    if isDirect: G = nx.DiGraph()  # DirectedGraph(유향 그래프)\n",
    "    else: G = nx.Graph()           # Graph(무향 그래프)\n",
    "\n",
    "    G.add_nodes_from(V) # 점 추가\n",
    "    G.add_edges_from(E) # 간선 추가\n",
    "\n",
    "    d1 = nx.drawing.nx_pydot.to_pydot(G)  #  pydot graph  \n",
    "    d1.set_dpi(300)        # 도화지의 크기, 1인치에 넣을 dots의 개수 \n",
    "    if D==0: d1.set_rankdir(\"LR\")   # 수평방향 --> 이 코드 없으면 수직방향\n",
    "    d1.set_margin(1)\n",
    "    img = Image(d1.create_png(), width=W)\n",
    "    display(img)\n",
    "\n",
    "V = [1,2,3,4,5]\n",
    "E = [(1,3),(1,2),(2,4),(2,5)]\n",
    "\n",
    "drawTree(V, E, 1, 1)"
   ]
  },
  {
   "cell_type": "markdown",
   "id": "5d1d7313-a101-48af-ac34-39c09692e9e8",
   "metadata": {},
   "source": [
    "----------------"
   ]
  },
  {
   "cell_type": "markdown",
   "id": "a430d1cf-fd53-4672-886d-3dda96e856e2",
   "metadata": {},
   "source": [
    "### [Quiz] 루트 노드 찾기"
   ]
  },
  {
   "cell_type": "code",
   "execution_count": 10,
   "id": "fced52f5-70aa-4d91-97c8-945b9030e358",
   "metadata": {},
   "outputs": [
    {
     "name": "stdout",
     "output_type": "stream",
     "text": [
      "root node: v4\n"
     ]
    }
   ],
   "source": [
    "from collections import defaultdict\n",
    "def find_root(edges):\n",
    "    # 인접 리스트 생성\n",
    "    adj_list = defaultdict(list)\n",
    "    in_degree = defaultdict(int)\n",
    "\n",
    "    for u, v in edges:\n",
    "        adj_list[u].append(v)\n",
    "        in_degree[v] += 1\n",
    "\n",
    "    # 진입 차수가 0인 노드를 루트 노드로 간주\n",
    "    for node in adj_list:\n",
    "        if in_degree[node] == 0:\n",
    "            return node\n",
    "\n",
    "    # 루트 노드가 없는 경우 (사이클이 존재하는 경우)\n",
    "    return None\n",
    "\n",
    "edges = [('v2','v3'),('v2','v1'),('v4','v5'),('v4','v6'),('v5','v8'),\n",
    "         ('v6','v7'),('v4','v2'),('v7','v9'),('v7','v10')]\n",
    "\n",
    "print(f'root node: {find_root(edges)}')\n",
    "# drawTree(V, edges, 1, 1)"
   ]
  },
  {
   "cell_type": "code",
   "execution_count": 12,
   "id": "508d070d-6465-4a9e-8c8c-a09034c39b55",
   "metadata": {
    "scrolled": true
   },
   "outputs": [
    {
     "ename": "FileNotFoundError",
     "evalue": "[WinError 2] \"dot\" not found in path.",
     "output_type": "error",
     "traceback": [
      "\u001b[1;31m---------------------------------------------------------------------------\u001b[0m",
      "\u001b[1;31mFileNotFoundError\u001b[0m                         Traceback (most recent call last)",
      "File \u001b[1;32m~\\AppData\\Local\\Packages\\PythonSoftwareFoundation.Python.3.11_qbz5n2kfra8p0\\LocalCache\\local-packages\\Python311\\site-packages\\pydot\\core.py:1753\u001b[0m, in \u001b[0;36mDot.create\u001b[1;34m(self, prog, format, encoding)\u001b[0m\n\u001b[0;32m   1752\u001b[0m \u001b[38;5;28;01mtry\u001b[39;00m:\n\u001b[1;32m-> 1753\u001b[0m     stdout_data, stderr_data, process \u001b[38;5;241m=\u001b[39m \u001b[43mcall_graphviz\u001b[49m\u001b[43m(\u001b[49m\n\u001b[0;32m   1754\u001b[0m \u001b[43m        \u001b[49m\u001b[43mprogram\u001b[49m\u001b[38;5;241;43m=\u001b[39;49m\u001b[43mprog\u001b[49m\u001b[43m,\u001b[49m\n\u001b[0;32m   1755\u001b[0m \u001b[43m        \u001b[49m\u001b[43marguments\u001b[49m\u001b[38;5;241;43m=\u001b[39;49m\u001b[43marguments\u001b[49m\u001b[43m,\u001b[49m\n\u001b[0;32m   1756\u001b[0m \u001b[43m        \u001b[49m\u001b[43mworking_dir\u001b[49m\u001b[38;5;241;43m=\u001b[39;49m\u001b[43mtmp_dir\u001b[49m\u001b[43m,\u001b[49m\n\u001b[0;32m   1757\u001b[0m \u001b[43m    \u001b[49m\u001b[43m)\u001b[49m\n\u001b[0;32m   1758\u001b[0m \u001b[38;5;28;01mexcept\u001b[39;00m \u001b[38;5;167;01mOSError\u001b[39;00m \u001b[38;5;28;01mas\u001b[39;00m e:\n",
      "File \u001b[1;32m~\\AppData\\Local\\Packages\\PythonSoftwareFoundation.Python.3.11_qbz5n2kfra8p0\\LocalCache\\local-packages\\Python311\\site-packages\\pydot\\core.py:133\u001b[0m, in \u001b[0;36mcall_graphviz\u001b[1;34m(program, arguments, working_dir, **kwargs)\u001b[0m\n\u001b[0;32m    131\u001b[0m program_with_args \u001b[38;5;241m=\u001b[39m [program] \u001b[38;5;241m+\u001b[39m arguments\n\u001b[1;32m--> 133\u001b[0m process \u001b[38;5;241m=\u001b[39m \u001b[43msubprocess\u001b[49m\u001b[38;5;241;43m.\u001b[39;49m\u001b[43mPopen\u001b[49m\u001b[43m(\u001b[49m\n\u001b[0;32m    134\u001b[0m \u001b[43m    \u001b[49m\u001b[43mprogram_with_args\u001b[49m\u001b[43m,\u001b[49m\n\u001b[0;32m    135\u001b[0m \u001b[43m    \u001b[49m\u001b[43menv\u001b[49m\u001b[38;5;241;43m=\u001b[39;49m\u001b[43menv\u001b[49m\u001b[43m,\u001b[49m\n\u001b[0;32m    136\u001b[0m \u001b[43m    \u001b[49m\u001b[43mcwd\u001b[49m\u001b[38;5;241;43m=\u001b[39;49m\u001b[43mworking_dir\u001b[49m\u001b[43m,\u001b[49m\n\u001b[0;32m    137\u001b[0m \u001b[43m    \u001b[49m\u001b[43mshell\u001b[49m\u001b[38;5;241;43m=\u001b[39;49m\u001b[38;5;28;43;01mFalse\u001b[39;49;00m\u001b[43m,\u001b[49m\n\u001b[0;32m    138\u001b[0m \u001b[43m    \u001b[49m\u001b[43mstderr\u001b[49m\u001b[38;5;241;43m=\u001b[39;49m\u001b[43msubprocess\u001b[49m\u001b[38;5;241;43m.\u001b[39;49m\u001b[43mPIPE\u001b[49m\u001b[43m,\u001b[49m\n\u001b[0;32m    139\u001b[0m \u001b[43m    \u001b[49m\u001b[43mstdout\u001b[49m\u001b[38;5;241;43m=\u001b[39;49m\u001b[43msubprocess\u001b[49m\u001b[38;5;241;43m.\u001b[39;49m\u001b[43mPIPE\u001b[49m\u001b[43m,\u001b[49m\n\u001b[0;32m    140\u001b[0m \u001b[43m    \u001b[49m\u001b[38;5;241;43m*\u001b[39;49m\u001b[38;5;241;43m*\u001b[39;49m\u001b[43mkwargs\u001b[49m\u001b[43m,\u001b[49m\n\u001b[0;32m    141\u001b[0m \u001b[43m\u001b[49m\u001b[43m)\u001b[49m\n\u001b[0;32m    142\u001b[0m stdout_data, stderr_data \u001b[38;5;241m=\u001b[39m process\u001b[38;5;241m.\u001b[39mcommunicate()\n",
      "File \u001b[1;32mC:\\Program Files\\WindowsApps\\PythonSoftwareFoundation.Python.3.11_3.11.2544.0_x64__qbz5n2kfra8p0\\Lib\\subprocess.py:1026\u001b[0m, in \u001b[0;36mPopen.__init__\u001b[1;34m(self, args, bufsize, executable, stdin, stdout, stderr, preexec_fn, close_fds, shell, cwd, env, universal_newlines, startupinfo, creationflags, restore_signals, start_new_session, pass_fds, user, group, extra_groups, encoding, errors, text, umask, pipesize, process_group)\u001b[0m\n\u001b[0;32m   1023\u001b[0m             \u001b[38;5;28mself\u001b[39m\u001b[38;5;241m.\u001b[39mstderr \u001b[38;5;241m=\u001b[39m io\u001b[38;5;241m.\u001b[39mTextIOWrapper(\u001b[38;5;28mself\u001b[39m\u001b[38;5;241m.\u001b[39mstderr,\n\u001b[0;32m   1024\u001b[0m                     encoding\u001b[38;5;241m=\u001b[39mencoding, errors\u001b[38;5;241m=\u001b[39merrors)\n\u001b[1;32m-> 1026\u001b[0m     \u001b[38;5;28;43mself\u001b[39;49m\u001b[38;5;241;43m.\u001b[39;49m\u001b[43m_execute_child\u001b[49m\u001b[43m(\u001b[49m\u001b[43margs\u001b[49m\u001b[43m,\u001b[49m\u001b[43m \u001b[49m\u001b[43mexecutable\u001b[49m\u001b[43m,\u001b[49m\u001b[43m \u001b[49m\u001b[43mpreexec_fn\u001b[49m\u001b[43m,\u001b[49m\u001b[43m \u001b[49m\u001b[43mclose_fds\u001b[49m\u001b[43m,\u001b[49m\n\u001b[0;32m   1027\u001b[0m \u001b[43m                        \u001b[49m\u001b[43mpass_fds\u001b[49m\u001b[43m,\u001b[49m\u001b[43m \u001b[49m\u001b[43mcwd\u001b[49m\u001b[43m,\u001b[49m\u001b[43m \u001b[49m\u001b[43menv\u001b[49m\u001b[43m,\u001b[49m\n\u001b[0;32m   1028\u001b[0m \u001b[43m                        \u001b[49m\u001b[43mstartupinfo\u001b[49m\u001b[43m,\u001b[49m\u001b[43m \u001b[49m\u001b[43mcreationflags\u001b[49m\u001b[43m,\u001b[49m\u001b[43m \u001b[49m\u001b[43mshell\u001b[49m\u001b[43m,\u001b[49m\n\u001b[0;32m   1029\u001b[0m \u001b[43m                        \u001b[49m\u001b[43mp2cread\u001b[49m\u001b[43m,\u001b[49m\u001b[43m \u001b[49m\u001b[43mp2cwrite\u001b[49m\u001b[43m,\u001b[49m\n\u001b[0;32m   1030\u001b[0m \u001b[43m                        \u001b[49m\u001b[43mc2pread\u001b[49m\u001b[43m,\u001b[49m\u001b[43m \u001b[49m\u001b[43mc2pwrite\u001b[49m\u001b[43m,\u001b[49m\n\u001b[0;32m   1031\u001b[0m \u001b[43m                        \u001b[49m\u001b[43merrread\u001b[49m\u001b[43m,\u001b[49m\u001b[43m \u001b[49m\u001b[43merrwrite\u001b[49m\u001b[43m,\u001b[49m\n\u001b[0;32m   1032\u001b[0m \u001b[43m                        \u001b[49m\u001b[43mrestore_signals\u001b[49m\u001b[43m,\u001b[49m\n\u001b[0;32m   1033\u001b[0m \u001b[43m                        \u001b[49m\u001b[43mgid\u001b[49m\u001b[43m,\u001b[49m\u001b[43m \u001b[49m\u001b[43mgids\u001b[49m\u001b[43m,\u001b[49m\u001b[43m \u001b[49m\u001b[43muid\u001b[49m\u001b[43m,\u001b[49m\u001b[43m \u001b[49m\u001b[43mumask\u001b[49m\u001b[43m,\u001b[49m\n\u001b[0;32m   1034\u001b[0m \u001b[43m                        \u001b[49m\u001b[43mstart_new_session\u001b[49m\u001b[43m,\u001b[49m\u001b[43m \u001b[49m\u001b[43mprocess_group\u001b[49m\u001b[43m)\u001b[49m\n\u001b[0;32m   1035\u001b[0m \u001b[38;5;28;01mexcept\u001b[39;00m:\n\u001b[0;32m   1036\u001b[0m     \u001b[38;5;66;03m# Cleanup if the child failed starting.\u001b[39;00m\n",
      "File \u001b[1;32mC:\\Program Files\\WindowsApps\\PythonSoftwareFoundation.Python.3.11_3.11.2544.0_x64__qbz5n2kfra8p0\\Lib\\subprocess.py:1538\u001b[0m, in \u001b[0;36mPopen._execute_child\u001b[1;34m(self, args, executable, preexec_fn, close_fds, pass_fds, cwd, env, startupinfo, creationflags, shell, p2cread, p2cwrite, c2pread, c2pwrite, errread, errwrite, unused_restore_signals, unused_gid, unused_gids, unused_uid, unused_umask, unused_start_new_session, unused_process_group)\u001b[0m\n\u001b[0;32m   1537\u001b[0m \u001b[38;5;28;01mtry\u001b[39;00m:\n\u001b[1;32m-> 1538\u001b[0m     hp, ht, pid, tid \u001b[38;5;241m=\u001b[39m _winapi\u001b[38;5;241m.\u001b[39mCreateProcess(executable, args,\n\u001b[0;32m   1539\u001b[0m                              \u001b[38;5;66;03m# no special security\u001b[39;00m\n\u001b[0;32m   1540\u001b[0m                              \u001b[38;5;28;01mNone\u001b[39;00m, \u001b[38;5;28;01mNone\u001b[39;00m,\n\u001b[0;32m   1541\u001b[0m                              \u001b[38;5;28mint\u001b[39m(\u001b[38;5;129;01mnot\u001b[39;00m close_fds),\n\u001b[0;32m   1542\u001b[0m                              creationflags,\n\u001b[0;32m   1543\u001b[0m                              env,\n\u001b[0;32m   1544\u001b[0m                              cwd,\n\u001b[0;32m   1545\u001b[0m                              startupinfo)\n\u001b[0;32m   1546\u001b[0m \u001b[38;5;28;01mfinally\u001b[39;00m:\n\u001b[0;32m   1547\u001b[0m     \u001b[38;5;66;03m# Child is launched. Close the parent's copy of those pipe\u001b[39;00m\n\u001b[0;32m   1548\u001b[0m     \u001b[38;5;66;03m# handles that only the child should have open.  You need\u001b[39;00m\n\u001b[1;32m   (...)\u001b[0m\n\u001b[0;32m   1551\u001b[0m     \u001b[38;5;66;03m# pipe will not close when the child process exits and the\u001b[39;00m\n\u001b[0;32m   1552\u001b[0m     \u001b[38;5;66;03m# ReadFile will hang.\u001b[39;00m\n",
      "\u001b[1;31mFileNotFoundError\u001b[0m: [WinError 2] 지정된 파일을 찾을 수 없습니다",
      "\nDuring handling of the above exception, another exception occurred:\n",
      "\u001b[1;31mFileNotFoundError\u001b[0m                         Traceback (most recent call last)",
      "Cell \u001b[1;32mIn[12], line 3\u001b[0m\n\u001b[0;32m      1\u001b[0m vertices \u001b[38;5;241m=\u001b[39m [\u001b[38;5;28mchr\u001b[39m(code) \u001b[38;5;28;01mfor\u001b[39;00m code \u001b[38;5;129;01min\u001b[39;00m \u001b[38;5;28mrange\u001b[39m(\u001b[38;5;241m65\u001b[39m,\u001b[38;5;241m72\u001b[39m)] \u001b[38;5;66;03m#알파벳 대문자 아스키코드\u001b[39;00m\n\u001b[0;32m      2\u001b[0m edges \u001b[38;5;241m=\u001b[39m [(\u001b[38;5;124m'\u001b[39m\u001b[38;5;124mA\u001b[39m\u001b[38;5;124m'\u001b[39m,\u001b[38;5;124m'\u001b[39m\u001b[38;5;124mB\u001b[39m\u001b[38;5;124m'\u001b[39m),(\u001b[38;5;124m'\u001b[39m\u001b[38;5;124mA\u001b[39m\u001b[38;5;124m'\u001b[39m,\u001b[38;5;124m'\u001b[39m\u001b[38;5;124mC\u001b[39m\u001b[38;5;124m'\u001b[39m),(\u001b[38;5;124m'\u001b[39m\u001b[38;5;124mB\u001b[39m\u001b[38;5;124m'\u001b[39m,\u001b[38;5;124m'\u001b[39m\u001b[38;5;124mD\u001b[39m\u001b[38;5;124m'\u001b[39m),(\u001b[38;5;124m'\u001b[39m\u001b[38;5;124mC\u001b[39m\u001b[38;5;124m'\u001b[39m,\u001b[38;5;124m'\u001b[39m\u001b[38;5;124mE\u001b[39m\u001b[38;5;124m'\u001b[39m),(\u001b[38;5;124m'\u001b[39m\u001b[38;5;124mD\u001b[39m\u001b[38;5;124m'\u001b[39m,\u001b[38;5;124m'\u001b[39m\u001b[38;5;124mF\u001b[39m\u001b[38;5;124m'\u001b[39m), (\u001b[38;5;124m'\u001b[39m\u001b[38;5;124mD\u001b[39m\u001b[38;5;124m'\u001b[39m,\u001b[38;5;124m'\u001b[39m\u001b[38;5;124mG\u001b[39m\u001b[38;5;124m'\u001b[39m)]\n\u001b[1;32m----> 3\u001b[0m \u001b[43mdrawTree\u001b[49m\u001b[43m(\u001b[49m\u001b[43mvertices\u001b[49m\u001b[43m,\u001b[49m\u001b[43m \u001b[49m\u001b[43medges\u001b[49m\u001b[43m,\u001b[49m\u001b[43m \u001b[49m\u001b[43mD\u001b[49m\u001b[38;5;241;43m=\u001b[39;49m\u001b[38;5;241;43m1\u001b[39;49m\u001b[43m,\u001b[49m\u001b[43m \u001b[49m\u001b[43mW\u001b[49m\u001b[38;5;241;43m=\u001b[39;49m\u001b[38;5;241;43m300\u001b[39;49m\u001b[43m)\u001b[49m  \u001b[38;5;66;03m#(V, E, D:가로방향, W:그래프크기)\u001b[39;00m\n",
      "Cell \u001b[1;32mIn[7], line 16\u001b[0m, in \u001b[0;36mdrawTree\u001b[1;34m(V, E, isDirect, D, W)\u001b[0m\n\u001b[0;32m     14\u001b[0m \u001b[38;5;28;01mif\u001b[39;00m D\u001b[38;5;241m==\u001b[39m\u001b[38;5;241m0\u001b[39m: d1\u001b[38;5;241m.\u001b[39mset_rankdir(\u001b[38;5;124m\"\u001b[39m\u001b[38;5;124mLR\u001b[39m\u001b[38;5;124m\"\u001b[39m)   \u001b[38;5;66;03m# 수평방향 --> 이 코드 없으면 수직방향\u001b[39;00m\n\u001b[0;32m     15\u001b[0m d1\u001b[38;5;241m.\u001b[39mset_margin(\u001b[38;5;241m1\u001b[39m)\n\u001b[1;32m---> 16\u001b[0m img \u001b[38;5;241m=\u001b[39m Image(\u001b[43md1\u001b[49m\u001b[38;5;241;43m.\u001b[39;49m\u001b[43mcreate_png\u001b[49m\u001b[43m(\u001b[49m\u001b[43m)\u001b[49m, width\u001b[38;5;241m=\u001b[39mW)\n\u001b[0;32m     17\u001b[0m display(img)\n",
      "File \u001b[1;32m~\\AppData\\Local\\Packages\\PythonSoftwareFoundation.Python.3.11_qbz5n2kfra8p0\\LocalCache\\local-packages\\Python311\\site-packages\\pydot\\core.py:1578\u001b[0m, in \u001b[0;36mDot.__init__.<locals>.new_method\u001b[1;34m(f, prog, encoding)\u001b[0m\n\u001b[0;32m   1576\u001b[0m \u001b[38;5;28;01mdef\u001b[39;00m \u001b[38;5;21mnew_method\u001b[39m(f\u001b[38;5;241m=\u001b[39mfrmt, prog\u001b[38;5;241m=\u001b[39m\u001b[38;5;28;01mNone\u001b[39;00m, encoding\u001b[38;5;241m=\u001b[39m\u001b[38;5;28;01mNone\u001b[39;00m):\n\u001b[0;32m   1577\u001b[0m \u001b[38;5;250m    \u001b[39m\u001b[38;5;124;03m\"\"\"Refer to docstring of method `create`.\"\"\"\u001b[39;00m\n\u001b[1;32m-> 1578\u001b[0m     \u001b[38;5;28;01mreturn\u001b[39;00m \u001b[38;5;28;43mself\u001b[39;49m\u001b[38;5;241;43m.\u001b[39;49m\u001b[43mcreate\u001b[49m\u001b[43m(\u001b[49m\u001b[38;5;28;43mformat\u001b[39;49m\u001b[38;5;241;43m=\u001b[39;49m\u001b[43mf\u001b[49m\u001b[43m,\u001b[49m\u001b[43m \u001b[49m\u001b[43mprog\u001b[49m\u001b[38;5;241;43m=\u001b[39;49m\u001b[43mprog\u001b[49m\u001b[43m,\u001b[49m\u001b[43m \u001b[49m\u001b[43mencoding\u001b[49m\u001b[38;5;241;43m=\u001b[39;49m\u001b[43mencoding\u001b[49m\u001b[43m)\u001b[49m\n",
      "File \u001b[1;32m~\\AppData\\Local\\Packages\\PythonSoftwareFoundation.Python.3.11_qbz5n2kfra8p0\\LocalCache\\local-packages\\Python311\\site-packages\\pydot\\core.py:1762\u001b[0m, in \u001b[0;36mDot.create\u001b[1;34m(self, prog, format, encoding)\u001b[0m\n\u001b[0;32m   1760\u001b[0m     args \u001b[38;5;241m=\u001b[39m \u001b[38;5;28mlist\u001b[39m(e\u001b[38;5;241m.\u001b[39margs)\n\u001b[0;32m   1761\u001b[0m     args[\u001b[38;5;241m1\u001b[39m] \u001b[38;5;241m=\u001b[39m \u001b[38;5;124m'\u001b[39m\u001b[38;5;124m\"\u001b[39m\u001b[38;5;132;01m{prog}\u001b[39;00m\u001b[38;5;124m\"\u001b[39m\u001b[38;5;124m not found in path.\u001b[39m\u001b[38;5;124m'\u001b[39m\u001b[38;5;241m.\u001b[39mformat(prog\u001b[38;5;241m=\u001b[39mprog)\n\u001b[1;32m-> 1762\u001b[0m     \u001b[38;5;28;01mraise\u001b[39;00m \u001b[38;5;167;01mOSError\u001b[39;00m(\u001b[38;5;241m*\u001b[39margs)\n\u001b[0;32m   1763\u001b[0m \u001b[38;5;28;01melse\u001b[39;00m:\n\u001b[0;32m   1764\u001b[0m     \u001b[38;5;28;01mraise\u001b[39;00m\n",
      "\u001b[1;31mFileNotFoundError\u001b[0m: [WinError 2] \"dot\" not found in path."
     ]
    }
   ],
   "source": [
    "vertices = [chr(code) for code in range(65,72)] #알파벳 대문자 아스키코드\n",
    "edges = [('A','B'),('A','C'),('B','D'),('C','E'),('D','F'), ('D','G')]\n",
    "drawTree(vertices, edges, D=1, W=300)  #(V, E, D:가로방향, W:그래프크기)"
   ]
  },
  {
   "cell_type": "markdown",
   "id": "2dbcc0ff-e6a2-4ac5-8d72-55d91ba4e815",
   "metadata": {},
   "source": [
    "--------------------------"
   ]
  },
  {
   "cell_type": "markdown",
   "id": "017d9435-2e3e-49b1-a506-1fcb088206dd",
   "metadata": {},
   "source": [
    "### 1-2. 이진 트리"
   ]
  },
  {
   "cell_type": "markdown",
   "id": "33ca7162-aedb-4497-b14d-a47071866ad0",
   "metadata": {},
   "source": [
    "#### #이진 트리의 표현 방법 : 연결된 구조 표현(링크 표현법)"
   ]
  },
  {
   "cell_type": "code",
   "execution_count": 13,
   "id": "eb0fc946-f811-484b-8a94-feca6fd0c18f",
   "metadata": {},
   "outputs": [],
   "source": [
    "# 이진트리를 위한 노드 클래스\n",
    "class BTNode:\n",
    "    def __init__ (self, elem, left=None, right=None):   #(노드명, 왼쪽 노드명, 오른쪽 노드명)\n",
    "        self.data = elem \n",
    "        self.left = left        # 왼쪽 자식을 위한 링크\n",
    "        self.right = right      # 오른쪽 자식을 위한 링크\n",
    "\n",
    "    def isLeaf(self):\n",
    "        return self.left is None and self.right is None\n",
    "        "
   ]
  },
  {
   "cell_type": "markdown",
   "id": "9d64eef6-a0f6-4dca-8d86-3609054e71e4",
   "metadata": {},
   "source": [
    "------------------------"
   ]
  },
  {
   "attachments": {},
   "cell_type": "markdown",
   "id": "c0bf4803-de1b-4da8-bcc1-081f3c8f39d0",
   "metadata": {},
   "source": [
    "### 1-3. 이진 트리 연산\n",
    "- 노드 순회(traversal) \n",
    "- 전체 노드 수 (count nodes)\n",
    "- 트리 높이 계산(calculate tree height)"
   ]
  },
  {
   "cell_type": "markdown",
   "id": "8f8b75b5-9806-4884-a1c2-586455268ac1",
   "metadata": {},
   "source": [
    "#### #노드 표준순회 방법(traversal)\n",
    "- 전위 순회(preorder traversal)  ：VLR\n",
    "- 중위 순회(inorder traversal)   ：LVR\n",
    "- 후위 순회(postorder traversal) ：LRV\n"
   ]
  },
  {
   "cell_type": "code",
   "execution_count": 14,
   "id": "e4c5566d-8cdc-4d18-aa4a-7fb1a26b1ff8",
   "metadata": {},
   "outputs": [],
   "source": [
    "# 이진트리의 전위순회\n",
    "def preorder(n) :\n",
    "    if n is not None :\n",
    "        print('(', end=' ')     # 중첩된 괄호 표현을 위한 출력\n",
    "        print(n.data, end=' ')\n",
    "        preorder(n.left)\n",
    "        preorder(n.right)\n",
    "        print(')', end=' ')     # 중첩된 괄호 표현을 위한 출력\n"
   ]
  },
  {
   "cell_type": "code",
   "execution_count": 15,
   "id": "e3a7c28c-ec8e-453c-976c-e863a19282ed",
   "metadata": {},
   "outputs": [],
   "source": [
    "# 이진트리의 중위 순회\n",
    "def inorder(n) :\n",
    "    if n is not None :\n",
    "        inorder(n.left)\n",
    "        print(n.data, end=' ')\n",
    "        inorder(n.right)\n",
    "        "
   ]
  },
  {
   "cell_type": "code",
   "execution_count": 16,
   "id": "e397b093-c864-4a52-ad63-f7301592d2ee",
   "metadata": {},
   "outputs": [],
   "source": [
    "# 이진트리의 후위 순회\n",
    "def postorder(n) :\n",
    "    if n is not None :\n",
    "        postorder(n.left)\n",
    "        postorder(n.right)\n",
    "        print(n.data, end=' ')\n",
    "        "
   ]
  },
  {
   "cell_type": "markdown",
   "id": "5899af91-c6f0-44a2-8c03-81222c612d54",
   "metadata": {},
   "source": [
    "#### #레벨 순회(level order)"
   ]
  },
  {
   "cell_type": "code",
   "execution_count": 17,
   "id": "66063282-b5d9-45ff-83bd-b78f281cee5f",
   "metadata": {},
   "outputs": [],
   "source": [
    "# 이진트리의 레벨 순회\n",
    "def levelorder(root) :\n",
    "    queue = ArrayQueue()   # 원형 큐 사용\n",
    "    queue.enqueue(root)\n",
    "    while not queue.isEmpty() :\n",
    "        n = queue.dequeue()\n",
    "        if n is not None :\n",
    "            print(n.data, end=' ')\n",
    "            queue.enqueue(n.left)\n",
    "            queue.enqueue(n.right)\n"
   ]
  },
  {
   "cell_type": "markdown",
   "id": "c426225e-96de-4d4b-affc-d9ad1b9db056",
   "metadata": {},
   "source": [
    "#### #전체 노드 수 구하기\n",
    "순환 이용: 왼쪽 서브 트리 노드 수 + 오른쪽 서브 트리 노드 수 + 1(루트 노드)"
   ]
  },
  {
   "cell_type": "code",
   "execution_count": 18,
   "id": "c34c1b4f-3191-4e27-9994-ce045654ab00",
   "metadata": {},
   "outputs": [],
   "source": [
    "# 이진트리의 노드의 개수 구하기\n",
    "def count_node(n) :\n",
    "    if n is None : \n",
    "        return 0\n",
    "    else : \n",
    "        return 1 + count_node(n.left) + count_node(n.right)"
   ]
  },
  {
   "cell_type": "markdown",
   "id": "2271d7dd-6b39-4bd1-a489-6ab641a4bb7d",
   "metadata": {},
   "source": [
    "#### #트리 높이 구하기\n",
    "순환 이용: 왼쪽 서브 트리 높이와 오른쪽 서브 높이 중 큰 값 + 1(루트 노드)ㅡ"
   ]
  },
  {
   "cell_type": "code",
   "execution_count": null,
   "id": "e813ff0a-c71e-490a-b8d4-2adde84eec93",
   "metadata": {},
   "outputs": [],
   "source": [
    "# 이진트리의 높이 구하기\n",
    "def calc_height(n) :\n",
    "    if n is None : \n",
    "        return 0\n",
    "    hLeft = calc_height(n.left)\n",
    "    hRight = calc_height(n.right)\n",
    "    if (hLeft > hRight) : return hLeft + 1\n",
    "    else: return hRight + 1"
   ]
  },
  {
   "cell_type": "markdown",
   "id": "14ae393e-1b4f-45ed-bd0c-d1349a035fde",
   "metadata": {},
   "source": [
    "### [실습문제] 이진 트리 만들어 테스트 하기(통합)"
   ]
  },
  {
   "cell_type": "markdown",
   "id": "36dddab5-2511-44fd-bb19-a33b8a849763",
   "metadata": {},
   "source": [
    "#### 1.(이진트리 레벨 순회를 위한) 원형 큐"
   ]
  },
  {
   "cell_type": "code",
   "execution_count": 19,
   "id": "322a3907-34ca-4bf7-af23-d9bcb2ca6404",
   "metadata": {},
   "outputs": [],
   "source": [
    "# 2주차에서 학습한 원형 큐 예)\n",
    "class ArrayQueue:\n",
    "    def __init__(self, capacity=10):    \n",
    "        self.capacity = capacity\n",
    "        self.array = [None] * capacity\n",
    "        self.front = 0\n",
    "        self.rear = 0\n",
    "        \n",
    "    # 2.(원형 큐) : 공백 상태와 포화 상태 검사\n",
    "    def isEmpty(self):\n",
    "        return self.front == self.rear\n",
    "\n",
    "    def isFull(self):\n",
    "        return self.front == (self.rear+1)%self.capacity  \n",
    "    \n",
    "    # 3.(원형 큐) : 삽입 연산\n",
    "    def enqueue(self, item):\n",
    "        if not self.isFull():\n",
    "            self.rear = (self.rear+1)%self.capacity # 후단 회전\n",
    "            self.array[self.rear] = item\n",
    "        else:\n",
    "            print('stack overflow!')\n",
    "            pass\n",
    "            \n",
    "    # 4.(원형 큐) : 삭제 연산\n",
    "    def dequeue(self):\n",
    "        if not self.isEmpty():\n",
    "            self.front = (self.front+1)%self.capacity  # 전단 회전\n",
    "            return self.array[self.front]\n",
    "        \n",
    "    # 5. (원형 큐) : 상단 참조 연산\n",
    "    def peek(self):\n",
    "        if not self.isEmpty():\n",
    "            return self.array[(self.front+1)%self.capacity]\n",
    "        else: pass\n",
    "        \n",
    "    # 6. (원형 큐) : 전체 요소 수\n",
    "    def size(self):\n",
    "        return (self.rear - self.front + self.capacity) % self.capacity\n",
    "    \n",
    "    # 7. (원형 큐) : 전체 요소 화면에 출력\n",
    "    def display(self, msg='Queue: '):\n",
    "        print(msg, end='=[')\n",
    "        count = self.size()\n",
    "        for i in range(count):\n",
    "            print(self.array[(self.front+1+i)%self.capacity], end=' ')\n",
    "        print(\"]\")"
   ]
  },
  {
   "cell_type": "markdown",
   "id": "ff4981e1-b389-42b3-a882-85c49c46e584",
   "metadata": {},
   "source": [
    "#### 2.이진 트리 통합 클래스와 함수들"
   ]
  },
  {
   "cell_type": "code",
   "execution_count": 20,
   "id": "4ba8306c-a6bf-4a0a-8bb5-d7a4e821a73f",
   "metadata": {},
   "outputs": [],
   "source": [
    "# 이진트리를 위한 노드 클래스\n",
    "class BTNode:\n",
    "    def __init__ (self, elem, left=None, right=None):\n",
    "        self.data = elem \n",
    "        self.left = left        # 왼쪽 자식을 위한 링크\n",
    "        self.right = right      # 오른쪽 자식을 위한 링크\n",
    "\n",
    "    def isLeaf(self):\n",
    "        return self.left is None and self.right is None\n",
    "\n",
    "\n",
    "# 이진트리의 전위순회\n",
    "def preorder(n) :\n",
    "    if n is not None :\n",
    "        print('(', end=' ')     # 중첩된 괄호 표현을 위한 출력\n",
    "        print(n.data, end=' ')\n",
    "        preorder(n.left)\n",
    "        preorder(n.right)\n",
    "        print(')', end=' ')     # 중첩된 괄호 표현을 위한 출력\n",
    "\n",
    "# 이진트리의 중위 순회\n",
    "def inorder(n) :\n",
    "    if n is not None :\n",
    "        inorder(n.left)\n",
    "        print(n.data, end=' ')\n",
    "        inorder(n.right)\n",
    "\n",
    "# 이진트리의 후위 순회\n",
    "def postorder(n) :\n",
    "    if n is not None :\n",
    "        postorder(n.left)\n",
    "        postorder(n.right)\n",
    "        print(n.data, end=' ')\n",
    "\n",
    "\n",
    "# 이진트리의 레벨 순회\n",
    "def levelorder(root) :\n",
    "    queue = ArrayQueue()\n",
    "    queue.enqueue(root)\n",
    "    while not queue.isEmpty() :\n",
    "        n = queue.dequeue()\n",
    "        if n is not None :\n",
    "            print(n.data, end=' ')\n",
    "            queue.enqueue(n.left)\n",
    "            queue.enqueue(n.right)\n",
    "\n",
    "\n",
    "# 이진트리의 노드의 개수 구하기\n",
    "def count_node(n) :\n",
    "    if n is None : \n",
    "        return 0\n",
    "    else : \n",
    "        return 1 + count_node(n.left) + count_node(n.right)\n",
    "\n",
    "# 이진트리의 높이 구하기\n",
    "def calc_height(n) :\n",
    "    if n is None : \n",
    "        return 0\n",
    "    hLeft = calc_height(n.left)\n",
    "    hRight = calc_height(n.right)\n",
    "    if (hLeft > hRight) : return hLeft + 1\n",
    "    else: return hRight + 1\n"
   ]
  },
  {
   "attachments": {},
   "cell_type": "markdown",
   "id": "43dc199f-c7bd-4438-8c61-ab54f5a9ed48",
   "metadata": {},
   "source": [
    "### [실습문제] 이진 트리 연산 테스트\n",
    "앞에서 구성한 이진 트리 클래스(BTNode)와 연산 방법을 파이썬으로 구현하고 결과를 출력하세요.\n",
    "1. 옆 트리를 구현하세요.\n",
    "2. 전위 순회 결과를 출력하세요.\n",
    "3. 중위 순회 결과를 출력하세요\n",
    "4. 후위 순회 결과를 출력하세요\n",
    "5. 레벨 순회 결과를 출력하세요.\n",
    "6. 전체 노드의 수를 출력하세요.\n",
    "7. 트리의 높이를 출력하세요. "
   ]
  },
  {
   "cell_type": "code",
   "execution_count": 21,
   "id": "333f1bba-a0ca-49f8-8a64-a6bb69f60897",
   "metadata": {},
   "outputs": [
    {
     "name": "stdout",
     "output_type": "stream",
     "text": [
      "2.  Pre-Order : ( A ( B ( D ( F ) ( G ) ) ) ( C ( E ) ) ) \n",
      "3.   In-Order : F D G B A E C \n",
      "4. Post-Order : F G D B E C A \n",
      "5.Level-Order : A B C D E F G \n",
      "\n",
      "6. 노드의 개수 = 7개\n",
      "7. 트리의 높이 = 4\n",
      "\n"
     ]
    }
   ],
   "source": [
    "# 1.옆 트리를 구현하세요.\n",
    "# 단말 노드 --> 루트 노드 순으로 노드 추가한다.\n",
    "F = BTNode('F', None, None) #  (노드명, 왼쪽, 오른쪽)\n",
    "G = BTNode('G', None, None)\n",
    "D = BTNode('D', F, G)\n",
    "E = BTNode('E', None, None)\n",
    "B = BTNode('B', D, None)\n",
    "C = BTNode('C', E, None)\n",
    "root = BTNode('A', B, C)\n",
    "\n",
    "# 2.전위 순회 결과를 출력하세요.\n",
    "print('2.  Pre-Order : ', end=''); preorder(root)\n",
    "print()\n",
    "\n",
    "# 3.중위 순회 결과를 출력하세요\n",
    "print('3.   In-Order : ', end=''); inorder(root)\n",
    "print()\n",
    "\n",
    "# 4.후위 순회 결과를 출력하세요\n",
    "print('4. Post-Order : ', end=''); postorder(root)\n",
    "print()\n",
    "\n",
    "# 5.레벨 순회 결과를 출력하세요.\n",
    "print('5.Level-Order : ', end=''); levelorder(root)\n",
    "print()\n",
    "\n",
    "# 6.전체 노드의 수를 출력하세요.\n",
    "print(\"\\n6. 노드의 개수 = %d개\" % count_node(root))\n",
    "\n",
    "# 7.트리의 높이를 출력하세요\n",
    "print(\"7. 트리의 높이 = %d\" % calc_height(root))\n",
    "print()"
   ]
  },
  {
   "cell_type": "markdown",
   "id": "1f45a9a3",
   "metadata": {
    "jp-MarkdownHeadingCollapsed": true
   },
   "source": [
    "-----------------"
   ]
  },
  {
   "cell_type": "markdown",
   "id": "fb4dc4a0",
   "metadata": {},
   "source": [
    "## <a name=\"2.트리응용\">2. 트리 응용</a>"
   ]
  },
  {
   "cell_type": "markdown",
   "id": "a9a0ae15-25aa-4c34-be8f-3c352ebfc97a",
   "metadata": {},
   "source": [
    "### 2-1. 모스 코드(Morse Code) 결정 트리"
   ]
  },
  {
   "attachments": {},
   "cell_type": "markdown",
   "id": "0be1a505-4900-4b99-a784-e8d3464daa22",
   "metadata": {},
   "source": [
    "#### #문자를 모스 코드로 변환하는 과정: 인코딩"
   ]
  },
  {
   "cell_type": "markdown",
   "id": "70775809-0304-404d-bafd-98cbabb9a739",
   "metadata": {},
   "source": [
    "- **코드 표(Table)**"
   ]
  },
  {
   "cell_type": "code",
   "execution_count": null,
   "id": "b002edad-fd9c-4ffc-9eb2-01a42f3e932a",
   "metadata": {},
   "outputs": [],
   "source": [
    "# 영어 대문자에 대한 모스코드 표\n",
    "table =[('A', '.-'),    ('B', '-...'),  ('C', '-.-.'),  ('D', '-..'),\n",
    "        ('E', '.'),     ('F', '..-.'),  ('G', '--.'),   ('H', '....'),\n",
    "        ('I', '..'),    ('J', '.---'),  ('K', '-.-'),   ('L', '.-..'),\n",
    "        ('M', '--'),    ('N', '-.'),    ('O', '---'),   ('P', '.--.'),\n",
    "        ('Q', '--.-'),  ('R', '.-.'),   ('S', '...'),   ('T', '-'),\n",
    "        ('U', '..-'),   ('V', '...-'),  ('W', '.--'),   ('X', '-..-'),\n",
    "        ('Y', '-.--'),  ('Z', '--..') ]\n"
   ]
  },
  {
   "cell_type": "markdown",
   "id": "319f72c8-9c3e-42da-ad9e-3450fb3c29dc",
   "metadata": {},
   "source": [
    "- **인코딩 함수**"
   ]
  },
  {
   "cell_type": "code",
   "execution_count": null,
   "id": "b8fc50a4-df97-407b-aea8-92108d6f5d18",
   "metadata": {},
   "outputs": [],
   "source": [
    "def encode(ch):\n",
    "    idx = ord(ch.upper())-ord('A')  # 해당 문자의 인덱스\n",
    "    return table[idx][1]            # 해당 모스 부호 반환   "
   ]
  },
  {
   "cell_type": "code",
   "execution_count": null,
   "id": "0cb24cf2-df5e-4794-a031-00564c47dfe7",
   "metadata": {},
   "outputs": [],
   "source": [
    "# 테스트\n",
    "msg = 'sos'\n",
    "for i in msg:\n",
    "    print(encode(i), end='')"
   ]
  },
  {
   "attachments": {},
   "cell_type": "markdown",
   "id": "453f3445-82f3-454e-8cbe-557ea5a39f4a",
   "metadata": {},
   "source": [
    "#### #모스 코드를 문자로 변환하는 과정: 디코딩"
   ]
  },
  {
   "cell_type": "markdown",
   "id": "7c4b8559-06ed-4312-b609-d2d275f88a2a",
   "metadata": {},
   "source": [
    "- **디코딩 함수**"
   ]
  },
  {
   "cell_type": "code",
   "execution_count": null,
   "id": "656662bd-dbf2-4c71-a672-245421474bd6",
   "metadata": {},
   "outputs": [],
   "source": [
    "# 단순한 방법의 모스코드 디코딩 함수\n",
    "def decode_simple(morse):\n",
    "    for tp in table :               # 모스 코드 표의 모든 문자에 대해\n",
    "        if morse == tp[1] :         # 찾는 코드와 같으면\n",
    "            return tp[0]            # 그 코드의 문자를 반환               "
   ]
  },
  {
   "cell_type": "markdown",
   "id": "ba052d79-e1c7-4a9d-8cd7-6ab7d09ad874",
   "metadata": {},
   "source": [
    "#### #결정 트리를 이용한 모스 코드의 디코딩"
   ]
  },
  {
   "cell_type": "markdown",
   "id": "259c73be-0cf9-41b7-bbbc-3a44dbb0b639",
   "metadata": {},
   "source": [
    "- **모스 코드를 위한 결정 트리 만들기**"
   ]
  },
  {
   "cell_type": "code",
   "execution_count": null,
   "id": "c7947e98-6b5e-4431-8a35-524a48f74ec7",
   "metadata": {},
   "outputs": [],
   "source": [
    "# 결정트리 노드 클래스\n",
    "class TNode:\n",
    "    def __init__ (self, elem, left, right):\n",
    "        self.data = elem \n",
    "        self.left = left\n",
    "        self.right = right                         "
   ]
  },
  {
   "cell_type": "code",
   "execution_count": null,
   "id": "ddd01eb7-0785-40e8-871b-9050e87e6ec0",
   "metadata": {},
   "outputs": [],
   "source": [
    "# 모스코드 디코딩을 위한 결정트리 만들기\n",
    "def make_morse_tree():\n",
    "    root = TNode( None, None, None )\n",
    "    for tp in table :\n",
    "        code = tp[1]                    # 모스 코드\n",
    "        node = root\n",
    "        for c in code :                 # 맨 마지막 문자 이전까지 --> 이동\n",
    "            if c == '.' :               # 왼쪽으로 이동\n",
    "                if node.left == None :  # 비었으면 빈 노드 만들기\n",
    "                    node.left = TNode (None, None, None)\n",
    "                node = node.left        # 그쪽으로 이동\n",
    "            elif c == '-' :             # 오른쪽으로 이동\n",
    "                if node.right == None : # 비었으면 빈 노드 만들기\n",
    "                    node.right = TNode (None, None, None)\n",
    "                node = node.right     # 그쪽으로 이동\n",
    "\n",
    "        node.data = tp[0]               # 코드의 알파벳\n",
    "    return root\n",
    "    "
   ]
  },
  {
   "cell_type": "markdown",
   "id": "fab5c79a-33af-49a8-a072-5425e7a28f32",
   "metadata": {},
   "source": [
    "- **결정트리(decision tree)를 이용한 디코딩 함수**"
   ]
  },
  {
   "cell_type": "code",
   "execution_count": null,
   "id": "130f3b1d-17e7-4163-aeef-7c97407432c2",
   "metadata": {},
   "outputs": [],
   "source": [
    "# 결정트리를 이용한 디코딩 함수\n",
    "def decode(root, code):\n",
    "    node = root\n",
    "    for c in code :                 # 맨 마지막 문자 이전까지 --> 이동\n",
    "        if c == '.' :               # 왼쪽으로 이동\n",
    "            node = node.left\n",
    "        elif c=='-' :\n",
    "           node = node.right\n",
    "    return node.data                                                   "
   ]
  },
  {
   "cell_type": "markdown",
   "id": "ae11f6e1-0e1d-4d18-8386-6642d68fbb85",
   "metadata": {},
   "source": [
    "### [실습문제] 결정트리를 이용한 모스 코드 테스트"
   ]
  },
  {
   "cell_type": "code",
   "execution_count": null,
   "id": "5cb63cb7-1157-4998-a8f4-3e7356aa099b",
   "metadata": {},
   "outputs": [],
   "source": [
    "# 모스코드 인코딩과 디코딩 테스트 프로그램\n",
    "morseCodeTree = make_morse_tree()  # 모스코드 트리\n",
    "\n",
    "str = input(\"1.입력 문장 : \")\n",
    "\n",
    "morselist = []                    # 모스코드 리스트\n",
    "for ch in str:\n",
    "    code = encode(ch)\n",
    "    morselist.append(code)\n",
    "print(\"2.Morse Code: \", morselist)\n",
    "print(\"3.Decoding  : \", end='')\n",
    "for code in morselist:\n",
    "    ch = decode(morseCodeTree, code)\n",
    "    print(ch, end='')\n",
    "print()"
   ]
  },
  {
   "cell_type": "markdown",
   "id": "5be585c9-eafe-479b-819d-d06b2abd7bbf",
   "metadata": {},
   "source": [
    "--------------------------------------------------------"
   ]
  },
  {
   "cell_type": "markdown",
   "id": "d37a29c6-6106-4d08-9aa9-ef88cdba859a",
   "metadata": {},
   "source": [
    "### 2-2. 수식 트리"
   ]
  },
  {
   "cell_type": "markdown",
   "id": "53495ec0-ab58-4f74-8243-17b2679154cb",
   "metadata": {
    "jp-MarkdownHeadingCollapsed": true
   },
   "source": [
    "#### #수식 트리(Expression Tree)\n",
    "- 산술식을 트리 형태로 표현한 이진 트리\n",
    "- 수식 트리는 하나의 연산자가 두 개의 피연산자를 갖는다고 가정"
   ]
  },
  {
   "cell_type": "markdown",
   "id": "1bdbec6e-8132-470f-b1e8-5df37c3828c5",
   "metadata": {},
   "source": [
    "#### #수식 트리의 계산\n",
    "**앞에서 만든 이진 트리BTNode 클래스와 연산 그대로 사용한다.**"
   ]
  },
  {
   "cell_type": "code",
   "execution_count": null,
   "id": "f81c1e65-d445-456f-b2a2-0b80ce0e44f9",
   "metadata": {},
   "outputs": [],
   "source": [
    "# 수식트리 계산 함수\n",
    "def evaluate(node) :\n",
    "    if node is None :                 # 공백 트리면 0 반환\n",
    "       return 0\n",
    "    elif node.isLeaf() :              # 단말 노드이면 --> 피연산자\n",
    "       return node.data               # 그 노드의 값(데이터) 반환\n",
    "    else :                            # 루트나 가지노드라면 --> 연산자\n",
    "        op1 = evaluate(node.left)     # 왼쪽 서브트리 먼저 계산\n",
    "        op2 = evaluate(node.right)    # 오른쪽 서브트리 먼저 계산\n",
    "        if node.data == '+' : return op1 + op2\n",
    "        elif node.data == '-' : return op1 - op2\n",
    "        elif node.data == '*' : return op1 * op2\n",
    "        elif node.data == '/' : return op1 / op2\n",
    "            "
   ]
  },
  {
   "cell_type": "markdown",
   "id": "a6c60176-6544-4108-9f4b-83f4b420f9c5",
   "metadata": {},
   "source": [
    "#### #수식 트리 만들기"
   ]
  },
  {
   "cell_type": "code",
   "execution_count": null,
   "id": "9b98c22f-f8ab-4dbd-8215-9d9904273924",
   "metadata": {},
   "outputs": [],
   "source": [
    "# 후위표기 수식을 이용한 수식트리 만들기\n",
    "def buildETree( expr ):\n",
    "    if len(expr) == 0 :                 \n",
    "        return None\n",
    "\n",
    "    token = expr.pop()                  \n",
    "    if token in \"+-*/\" :                \n",
    "        node = BTNode(token)            \n",
    "        node.right= buildETree(expr)    \n",
    "        node.left = buildETree(expr)    \n",
    "        return node\n",
    "    else :                              \n",
    "        return BTNode(float(token))     \n"
   ]
  },
  {
   "cell_type": "code",
   "execution_count": null,
   "id": "48ef9926-816d-450e-a160-a5636083209d",
   "metadata": {},
   "outputs": [],
   "source": [
    "# 전위표기 수식을 이용해 수식트리를 만들고 루트를 반환함\n",
    "def buildETree2( expr ):\n",
    "    if len(expr) == 0 :                 \n",
    "        return None\n",
    "\n",
    "    token = expr.pop(0)                 \n",
    "    if token in \"+-*/\" :                \n",
    "        node = BTNode(token)            \n",
    "        node.left = buildETree2(expr)   \n",
    "        node.right= buildETree2(expr)   \n",
    "        return node\n",
    "    else :                              \n",
    "        return BTNode(float(token)) \n"
   ]
  },
  {
   "cell_type": "markdown",
   "id": "9dfc9965-d2b5-4267-a8f4-f54fa9b0e34d",
   "metadata": {},
   "source": [
    "### [실습문제] 수식 트리 테스트"
   ]
  },
  {
   "cell_type": "code",
   "execution_count": null,
   "id": "3f614d29-74ff-462f-96b7-5bfcda0f29f3",
   "metadata": {},
   "outputs": [],
   "source": [
    "# 수식트리 테스트 프로그램\n",
    "txt = input(\"입력(후위표기): \")\t\t# 후위표기식 입력\n",
    "expr = txt.split()\t\t\t        # 토큰 리스트로 변환\n",
    "print(\"토큰분리(expr): \", expr)\n",
    "root = buildETree(expr)\t\t\t    # 후위표기 --> 수식트리\n",
    "print('\\n전위 순회: ', end=''); preorder(root)\n",
    "print('\\n중위 순회: ', end=''); inorder(root)\n",
    "print('\\n후위 순회: ', end=''); postorder(root)\n",
    "print('\\n계산 결과 : ', evaluate(root))\t# 수식트리 계산\n"
   ]
  },
  {
   "cell_type": "markdown",
   "id": "88fbbcf6",
   "metadata": {},
   "source": [
    "----------------------\n",
    "THE END"
   ]
  }
 ],
 "metadata": {
  "kernelspec": {
   "display_name": "Python 3 (ipykernel)",
   "language": "python",
   "name": "python3"
  },
  "language_info": {
   "codemirror_mode": {
    "name": "ipython",
    "version": 3
   },
   "file_extension": ".py",
   "mimetype": "text/x-python",
   "name": "python",
   "nbconvert_exporter": "python",
   "pygments_lexer": "ipython3",
   "version": "3.11.9"
  }
 },
 "nbformat": 4,
 "nbformat_minor": 5
}
