{
 "cells": [
  {
   "cell_type": "markdown",
   "id": "f44bcd12",
   "metadata": {},
   "source": [
    "# 3주차 : 리스트"
   ]
  },
  {
   "cell_type": "markdown",
   "id": "f88f6bf7",
   "metadata": {},
   "source": [
    "- <a href=\"#1.연결자료구조\">1. 연결 자료구조</a>\n",
    "- <a href=\"#2.리스트\">2. 리스트</a>"
   ]
  },
  {
   "cell_type": "markdown",
   "id": "d9719ece",
   "metadata": {},
   "source": [
    "------------------------------"
   ]
  },
  {
   "cell_type": "markdown",
   "id": "1d10bdc6",
   "metadata": {},
   "source": [
    "## <a name=\"1.연결자료구조\">1. 연결 자료구조</a>"
   ]
  },
  {
   "cell_type": "markdown",
   "id": "e6e94c54",
   "metadata": {},
   "source": [
    "### 1-1. 연결 자료구조"
   ]
  },
  {
   "cell_type": "markdown",
   "id": "017d9435-2e3e-49b1-a506-1fcb088206dd",
   "metadata": {},
   "source": [
    "### 1-2.파이썬 자료구조"
   ]
  },
  {
   "cell_type": "code",
   "execution_count": 2,
   "id": "9b420a35-4e53-4b68-a104-465727f9b198",
   "metadata": {},
   "outputs": [
    {
     "name": "stdout",
     "output_type": "stream",
     "text": [
      "Help on class list in module builtins:\n",
      "\n",
      "class list(object)\n",
      " |  list(iterable=(), /)\n",
      " |  \n",
      " |  Built-in mutable sequence.\n",
      " |  \n",
      " |  If no argument is given, the constructor creates a new empty list.\n",
      " |  The argument must be an iterable if specified.\n",
      " |  \n",
      " |  Methods defined here:\n",
      " |  \n",
      " |  __add__(self, value, /)\n",
      " |      Return self+value.\n",
      " |  \n",
      " |  __contains__(self, key, /)\n",
      " |      Return key in self.\n",
      " |  \n",
      " |  __delitem__(self, key, /)\n",
      " |      Delete self[key].\n",
      " |  \n",
      " |  __eq__(self, value, /)\n",
      " |      Return self==value.\n",
      " |  \n",
      " |  __ge__(self, value, /)\n",
      " |      Return self>=value.\n",
      " |  \n",
      " |  __getattribute__(self, name, /)\n",
      " |      Return getattr(self, name).\n",
      " |  \n",
      " |  __getitem__(...)\n",
      " |      x.__getitem__(y) <==> x[y]\n",
      " |  \n",
      " |  __gt__(self, value, /)\n",
      " |      Return self>value.\n",
      " |  \n",
      " |  __iadd__(self, value, /)\n",
      " |      Implement self+=value.\n",
      " |  \n",
      " |  __imul__(self, value, /)\n",
      " |      Implement self*=value.\n",
      " |  \n",
      " |  __init__(self, /, *args, **kwargs)\n",
      " |      Initialize self.  See help(type(self)) for accurate signature.\n",
      " |  \n",
      " |  __iter__(self, /)\n",
      " |      Implement iter(self).\n",
      " |  \n",
      " |  __le__(self, value, /)\n",
      " |      Return self<=value.\n",
      " |  \n",
      " |  __len__(self, /)\n",
      " |      Return len(self).\n",
      " |  \n",
      " |  __lt__(self, value, /)\n",
      " |      Return self<value.\n",
      " |  \n",
      " |  __mul__(self, value, /)\n",
      " |      Return self*value.\n",
      " |  \n",
      " |  __ne__(self, value, /)\n",
      " |      Return self!=value.\n",
      " |  \n",
      " |  __repr__(self, /)\n",
      " |      Return repr(self).\n",
      " |  \n",
      " |  __reversed__(self, /)\n",
      " |      Return a reverse iterator over the list.\n",
      " |  \n",
      " |  __rmul__(self, value, /)\n",
      " |      Return value*self.\n",
      " |  \n",
      " |  __setitem__(self, key, value, /)\n",
      " |      Set self[key] to value.\n",
      " |  \n",
      " |  __sizeof__(self, /)\n",
      " |      Return the size of the list in memory, in bytes.\n",
      " |  \n",
      " |  append(self, object, /)\n",
      " |      Append object to the end of the list.\n",
      " |  \n",
      " |  clear(self, /)\n",
      " |      Remove all items from list.\n",
      " |  \n",
      " |  copy(self, /)\n",
      " |      Return a shallow copy of the list.\n",
      " |  \n",
      " |  count(self, value, /)\n",
      " |      Return number of occurrences of value.\n",
      " |  \n",
      " |  extend(self, iterable, /)\n",
      " |      Extend list by appending elements from the iterable.\n",
      " |  \n",
      " |  index(self, value, start=0, stop=9223372036854775807, /)\n",
      " |      Return first index of value.\n",
      " |      \n",
      " |      Raises ValueError if the value is not present.\n",
      " |  \n",
      " |  insert(self, index, object, /)\n",
      " |      Insert object before index.\n",
      " |  \n",
      " |  pop(self, index=-1, /)\n",
      " |      Remove and return item at index (default last).\n",
      " |      \n",
      " |      Raises IndexError if list is empty or index is out of range.\n",
      " |  \n",
      " |  remove(self, value, /)\n",
      " |      Remove first occurrence of value.\n",
      " |      \n",
      " |      Raises ValueError if the value is not present.\n",
      " |  \n",
      " |  reverse(self, /)\n",
      " |      Reverse *IN PLACE*.\n",
      " |  \n",
      " |  sort(self, /, *, key=None, reverse=False)\n",
      " |      Sort the list in ascending order and return None.\n",
      " |      \n",
      " |      The sort is in-place (i.e. the list itself is modified) and stable (i.e. the\n",
      " |      order of two equal elements is maintained).\n",
      " |      \n",
      " |      If a key function is given, apply it once to each list item and sort them,\n",
      " |      ascending or descending, according to their function values.\n",
      " |      \n",
      " |      The reverse flag can be set to sort in descending order.\n",
      " |  \n",
      " |  ----------------------------------------------------------------------\n",
      " |  Class methods defined here:\n",
      " |  \n",
      " |  __class_getitem__(...) from builtins.type\n",
      " |      See PEP 585\n",
      " |  \n",
      " |  ----------------------------------------------------------------------\n",
      " |  Static methods defined here:\n",
      " |  \n",
      " |  __new__(*args, **kwargs) from builtins.type\n",
      " |      Create and return a new object.  See help(type) for accurate signature.\n",
      " |  \n",
      " |  ----------------------------------------------------------------------\n",
      " |  Data and other attributes defined here:\n",
      " |  \n",
      " |  __hash__ = None\n",
      "\n"
     ]
    }
   ],
   "source": [
    "help(list)"
   ]
  },
  {
   "cell_type": "markdown",
   "id": "8db2f94b-d377-4409-bb8b-eb8128be5ce0",
   "metadata": {},
   "source": [
    "#### #파이썬 리스트 자료구조"
   ]
  },
  {
   "cell_type": "markdown",
   "id": "2dd0932b-33d0-4579-a264-edfeb46ef062",
   "metadata": {},
   "source": [
    "- 파이썬 리스트는 어떠한 자료형도 요소(element)로 담을 수 있다."
   ]
  },
  {
   "cell_type": "code",
   "execution_count": 1,
   "id": "636424a8-94ff-4610-8106-5707334f4580",
   "metadata": {},
   "outputs": [
    {
     "name": "stdout",
     "output_type": "stream",
     "text": [
      "[1, 2.2, (3, 4), '5', array([6, 7]), {'key8': 9}, 10]\n"
     ]
    }
   ],
   "source": [
    "import numpy as np\n",
    "\n",
    "a = [1, 2.2, (3,4), \"5\", np.array([6,7]), {\"key8\": 9}, 10]\n",
    "print(a)"
   ]
  },
  {
   "cell_type": "code",
   "execution_count": 3,
   "id": "2f3090e6-c36f-47c8-85cb-d6d73f4280f3",
   "metadata": {},
   "outputs": [
    {
     "name": "stdout",
     "output_type": "stream",
     "text": [
      "[1, <function print_number at 0x00000224505C6520>, <class '__main__.Text'>]\n",
      "function number :  10\n",
      "method number :  20\n"
     ]
    }
   ],
   "source": [
    "# 리스트 안에 function, class도 담을 수 있다\n",
    "def print_number(num):\n",
    "    print(\"function number : \", num)\n",
    "\n",
    "class Text:\n",
    "    def __init__(self, num):\n",
    "        self.num = num     \n",
    "    def print_number_method(self):\n",
    "        print(\"method number : \", self.num)\n",
    "\n",
    "a_list = [1, print_number, Text]    \n",
    "print(a_list)\n",
    "c = a_list[1](10)  \n",
    "d = a_list[2](20)  \n",
    "d.print_number_method()\n"
   ]
  },
  {
   "cell_type": "markdown",
   "id": "1f45a9a3",
   "metadata": {
    "jp-MarkdownHeadingCollapsed": true
   },
   "source": [
    "-----------------"
   ]
  },
  {
   "cell_type": "markdown",
   "id": "fb4dc4a0",
   "metadata": {},
   "source": [
    "## <a name=\"2.리스트\">2. 리스트</a>"
   ]
  },
  {
   "cell_type": "markdown",
   "id": "a9a0ae15-25aa-4c34-be8f-3c352ebfc97a",
   "metadata": {},
   "source": [
    "### 2-1. 리스트 개요"
   ]
  },
  {
   "cell_type": "markdown",
   "id": "0be1a505-4900-4b99-a784-e8d3464daa22",
   "metadata": {},
   "source": [
    "#### #리스트의 주요 연산"
   ]
  },
  {
   "attachments": {},
   "cell_type": "markdown",
   "id": "ec693e93-070a-4bb0-8947-c3667ecfc01a",
   "metadata": {},
   "source": [
    " 연산 | 설명 |\n",
    "----|-----|\n",
    " **insert(pos, e)** | pos 위치에 새로운 데이터(요소) 삽입 |\n",
    " **delete(pos)** | pos 위치에 있는 요소 꺼내서 반환 |\n",
    " **getEntry(pos)** |  pos 위치에 있는 요소를 삭제하지 않고 반환 |\n",
    " **isEmpty()** | 리스트가 비어 있는지 여부 반환, True/False 반환 |\n",
    " **isFull()** |  리스트가 가득 차 있는지 확인, True/False 반환 |\n",
    " **size()** |  리스트에 들어 있는 전체 요소의 수 반환 |\n"
   ]
  },
  {
   "cell_type": "markdown",
   "id": "453f3445-82f3-454e-8cbe-557ea5a39f4a",
   "metadata": {},
   "source": [
    "#### #(연결) 리스트의 연산 동작\n",
    "- https://pythontutor.com/ "
   ]
  },
  {
   "cell_type": "code",
   "execution_count": null,
   "id": "0b990e18-00ac-4590-adf9-5cc5fd41c226",
   "metadata": {},
   "outputs": [],
   "source": [
    "# 노드 클래스와 리스트 클래스 정의하기 \n",
    "class Node:\n",
    "    def __init__(self, data):\n",
    "        self.data = data  # 데이터\n",
    "        self.link = None  # 연결 링크\n",
    "\n",
    "class LinkedList:\n",
    "    def __init__(self):\n",
    "        self.head = None  # 헤더 포인터\n",
    "\n",
    "    def insert(self, pos, e): # 삽입 연산\n",
    "        new_node = Node(e)                 # 신규 노드 추가\n",
    "        if pos == 0:                       # 위치가 처음이면\n",
    "            new_node.link = self.head      # 신규 노드 링크는 헤드 포인터(null)로 지정\n",
    "            self.head = new_node           # 헤드 포인터는 신규 노드를 가르키도록 지정\n",
    "            return                         # 반환\n",
    "        current = self.head                # 추가 위치 찾기 위해 처음 지정하여 순회\n",
    "        count = 1                          #\n",
    "        while current and count < pos:     #\n",
    "            current = current.link         # 다음 진행\n",
    "            count += 1                     #\n",
    "        if current is None:\n",
    "            raise IndexError(\"Index out of bounds\")\n",
    "        new_node.link = current.link    # 현재 포인터\n",
    "        current.link = new_node\n",
    "\n",
    "    def delete(self, pos):       # 삭제 연산\n",
    "        if self.head is None:\n",
    "            raise IndexError(\"List is empty\")\n",
    "        if pos == 0:\n",
    "            self.head = self.head.link\n",
    "            return\n",
    "        current = self.head                        # 삭제 위치 찾기 위해 처음 지정하여 순회\n",
    "        count = 1                                  #\n",
    "        while current.link and count < pos:        #\n",
    "            current = current.link                 # 다음 진행\n",
    "            count += 1                             #\n",
    "        if current.link is None:\n",
    "            raise IndexError(\"Index out of bounds\")\n",
    "        current.link = current.next.link\n",
    "\n",
    "    def getEntry(self, pos):    # 해당 노드 값 반환 연산\n",
    "        current = self.head                       # 해당 위치 찾기 위해 처음 지정하여 순회\n",
    "        count = 0                                 #\n",
    "        while current and count < pos:            #\n",
    "            current = current.link                # 다음 진행 \n",
    "            count += 1                            #\n",
    "        if current is None:\n",
    "            raise IndexError(\"Index out of bounds\")\n",
    "        return current.data\n",
    "\n",
    "    def isEmpty(self):         # 빈 리스트 여부 반환\n",
    "        return self.head is None\n",
    "\n",
    "    def size(self):            # 리스트 크기 반환\n",
    "        current = self.head\n",
    "        count = 0\n",
    "        while current:\n",
    "            current = current.link\n",
    "            count += 1\n",
    "        return count\n",
    "\n",
    "    def display(self, msg='LinkedList:' ):\n",
    "        print(msg, end='')\n",
    "        current = self.head\n",
    "        while current is not None :\n",
    "            print(current.data, end='->')\n",
    "            current = current.link\n",
    "        print('None')\n"
   ]
  },
  {
   "cell_type": "markdown",
   "id": "84381281-dbae-4561-9100-7beb083847fb",
   "metadata": {},
   "source": [
    "### [실습] 연결 리스트 연산결과 출력하기"
   ]
  },
  {
   "cell_type": "code",
   "execution_count": null,
   "id": "b4c0a301-c2ea-4eba-9be0-99f62543ef5d",
   "metadata": {
    "scrolled": true
   },
   "outputs": [],
   "source": [
    "\n",
    "\n"
   ]
  },
  {
   "cell_type": "markdown",
   "id": "5be585c9-eafe-479b-819d-d06b2abd7bbf",
   "metadata": {},
   "source": [
    "--------------------------------------------------------"
   ]
  },
  {
   "cell_type": "markdown",
   "id": "d37a29c6-6106-4d08-9aa9-ef88cdba859a",
   "metadata": {},
   "source": [
    "### 2-2. 배열 구조 리스트 vs 연결된 구조 리스트"
   ]
  },
  {
   "cell_type": "markdown",
   "id": "0252fb6d-da11-48ac-8b70-aba578079bd4",
   "metadata": {},
   "source": [
    "* 배열 구조 리스트\n",
    "  - 모든 요소의 크기가 같다\n",
    "  - 연속된 메모리 공간에 있다\n",
    "* 연결된 구조 리스트\n",
    "  - 노드(node) : data + link"
   ]
  },
  {
   "cell_type": "markdown",
   "id": "096a2745-b127-40bd-9c62-11a2aa33c877",
   "metadata": {},
   "source": [
    "#### #리스트 요소들에 대한 접근\n",
    "- https://docs.python.org/ko/3/library/functions.html#id"
   ]
  },
  {
   "cell_type": "code",
   "execution_count": null,
   "id": "c411c01c-27e4-43de-b513-20901f3b985e",
   "metadata": {},
   "outputs": [],
   "source": [
    "# 파이썬에서 메모리 위치 확인 :  리스트(name)와 리스트값(value)은 메모리 별도 관리됨 \n",
    "myList = [10,20,30,40]\n",
    "\n"
   ]
  },
  {
   "cell_type": "markdown",
   "id": "feda1544-111b-4ae3-b214-89bb8bcdc5f8",
   "metadata": {},
   "source": [
    "#### #리스트의 용량"
   ]
  },
  {
   "cell_type": "code",
   "execution_count": null,
   "id": "a6daa432-af2d-4a28-913c-a3613a13dfa4",
   "metadata": {},
   "outputs": [],
   "source": [
    "\n",
    "\n"
   ]
  },
  {
   "attachments": {},
   "cell_type": "markdown",
   "id": "204fb5a4-9eb1-4cda-84e6-44034e0e75cd",
   "metadata": {},
   "source": [
    "#### #파이썬 리스트는 배열 구조 리스트\n",
    "- 파이썬 리스트는 배열 구조 리스트\n",
    "- 용량이 제한되지 않도록 **동적 배열로 구현**됨\n",
    "- 용량 확장은 내부적으로 처리되므로 사용자는 신경을 쓰지 않아도 됨\n",
    "- 파이썬 리스트의 append() 연산의 처리 시간은 항상 동일하지 않음\n",
    "- **파이썬 리스트 연산(함수)들**"
   ]
  },
  {
   "cell_type": "code",
   "execution_count": null,
   "id": "d1be67ea-c5a5-41b3-94cd-1a8c77539ace",
   "metadata": {},
   "outputs": [],
   "source": [
    "# 파이썬 리스트 연산(함수)들\n",
    "myList = [10, 20, 30, 40]\n",
    "\n",
    "print('myList               :', myList)\n",
    "\n",
    "print('append(50)           :', myList)\n",
    "\n",
    "print('extend([10, 30, 50]) :', myList)\n",
    "\n",
    "print('count(10)            :', myList)\n",
    "\n",
    "print('index(30)            :', myList)\n",
    "\n",
    "print('insert(1, 60)        :', myList)\n",
    "\n",
    "print('pop(2)               :', myList)\n",
    "\n",
    "print('pop()                :', myList)\n",
    "\n",
    "print('remove(30)           :', myList)\n",
    "\n",
    "print('reverse()            :', myList)\n",
    "\n",
    "print('sort()               :', myList)"
   ]
  },
  {
   "cell_type": "markdown",
   "id": "177a655f-e95e-4b68-b39d-21e80ce42304",
   "metadata": {},
   "source": [
    "#### #연결 리스트의 종류\n",
    "* 단순 연결 리스트(Singly Linked List)\n",
    "  - 꼬리 노드의 링크가 None\n",
    "* 더블 연결 리스트(Doubly Linked List)\n",
    "  - 이전 노드(previous), 다음 노드(next)를 가리킴\n",
    "* 원형 연결 리스트(Circular Linked List)\n",
    "  - 꼬리 노드의 링크가 머리 노드를 가리킴\n"
   ]
  },
  {
   "cell_type": "markdown",
   "id": "f534d6bd-1202-4f21-a8c5-042137d1b347",
   "metadata": {},
   "source": [
    "---------------------------------"
   ]
  },
  {
   "cell_type": "markdown",
   "id": "357c694e",
   "metadata": {},
   "source": [
    "### 2-3. 단순 연결 리스트 구현하기"
   ]
  },
  {
   "cell_type": "markdown",
   "id": "89f81b7a-bc3f-444f-8839-7cc0ca9b73c0",
   "metadata": {},
   "source": [
    "#### **방법1)**\n",
    "- 앞에서 사용한 LinkedList  상속받아 그대로 사용"
   ]
  },
  {
   "cell_type": "code",
   "execution_count": null,
   "id": "4f636f70-9eae-4bde-84ec-d82421fb9804",
   "metadata": {},
   "outputs": [],
   "source": [
    "\n",
    "\n",
    "\n"
   ]
  },
  {
   "cell_type": "markdown",
   "id": "4c3ed600-34f0-4231-bfde-0ad75e4ff025",
   "metadata": {},
   "source": [
    "#### **방법2) 부교재 방법**"
   ]
  },
  {
   "cell_type": "markdown",
   "id": "77c7a483-56f5-477f-bfca-7ea58b63ba4c",
   "metadata": {},
   "source": [
    "#### 1.(노드) 클래스 정의하기"
   ]
  },
  {
   "cell_type": "code",
   "execution_count": null,
   "id": "acf4a5b9",
   "metadata": {},
   "outputs": [],
   "source": [
    "# 단순 연결 구조를 위한 Node 클래스\n",
    "class Node:                             # 단순 연결 구조를 위한 노드 클래스\n",
    "    def __init__ (self, e, next=None):\n",
    "        self.data = e \n",
    "        self.link = next\n",
    "        \n",
    "    # append(node) 연산\n",
    "    def append (self, node):            # 현재 노드(self) 다음에 node를 넣는 연산\n",
    "        if node is not None :           # node가 None이 아니면\n",
    "            node.link = self.link       # node의 link에 self 다음 노드를 연결\n",
    "        self.link = node                # 이제 다음 노드는 node가 됨\n",
    "\n",
    "    # popNext() 연산\n",
    "    def popNext (self):                 # 현재 노드(self)의 다음 노드를 삭제하는 연산\n",
    "        next = self.link                # 현재 노드(self)의 다음 노드\n",
    "        if next is not None :           # next가 None이 아니면\n",
    "            self.link = next.link       # self의 다음 노드는 next.link\n",
    "        return next                     # 다음 노드를 반환\n"
   ]
  },
  {
   "cell_type": "markdown",
   "id": "8bb22999",
   "metadata": {},
   "source": [
    "#### 2.연산 정의하기"
   ]
  },
  {
   "cell_type": "code",
   "execution_count": null,
   "id": "27bcdf87",
   "metadata": {},
   "outputs": [],
   "source": [
    "class SinglyLinkedList:                       # 단순연결리스트 클래스\n",
    "    def __init__( self ):               # 생성자\n",
    "        self.head = None                # head 선언 및 None으로 초기화\n",
    "\n",
    "    # 연산: 포화, 공백 상태 검사\n",
    "    def isEmpty( self ):                # 공백상태 검사\n",
    "        return self.head == None         # head가 None이면 공백\n",
    "\n",
    "    def isFull( self ):                 # 포화상태 검사\n",
    "        return False                     # 연결된 구조에서는 포화상태 없음\n",
    "\n",
    "    def clear( self ) : self.head = None\n",
    "\n",
    "    # 연산: getNode(pos)\n",
    "    def getNode(self, pos) :\n",
    "        if pos < 0 : return None        # 잘못된 위치 -> None 반환\n",
    "        ptr = self.head                 # 시작 위치 -> head\n",
    "        for i in range(pos):            # pos-1번 링크를 따라 이동\n",
    "            if ptr == None :            # pos가 리스트 크기보다 큰 경우\n",
    "               return None              # None 반환\n",
    "            ptr = ptr.link              # ptr을 진행시킴\n",
    "        return ptr                      # 최종 노드를 반환\n",
    "\n",
    "    # 연산: getEntry(pos)\n",
    "    def getEntry(self, pos) :\n",
    "        node = self.getNode(pos)        # pos번째 노드를 구함\n",
    "        if node == None : return None   # 해당 노드가 없는 경우\n",
    "        else : return node.data         # 있는 경우 데이터 필드 반환\n",
    "\n",
    "    def replace(self, pos, elem) :\n",
    "        node = self.getNode(pos)\n",
    "        if node != None : node.data = elem\n",
    "\n",
    "    def find(self, val) :\n",
    "        node = self.head;\n",
    "        while node is not None:\n",
    "            if node.data == val : return node\n",
    "            node = node.link\n",
    "        return node\n",
    "\n",
    "    # 연산: 삽입 연산 insert(pos, e)\n",
    "    def insert(self, pos, elem) :\n",
    "        node = Node(elem, None)         # 삽입할 새로운 노드를 만듦\n",
    "        before = self.getNode(pos-1)    # 삽입할 위치 이전 노드 탐색\n",
    "        if before == None :             # 머리 노드로 삽입하는 경우\n",
    "            node.link = self.head       # node의 링크가 머리노드를 가리킴\n",
    "            self.head = node            # 이제 node가 머리노드가 됨\n",
    "        else : before.append(node)      # 아닌 경우: before 다음에 추가\n",
    "\n",
    "    # 연산: 삭제 연산 delete(pos)\n",
    "    def delete(self, pos) :\n",
    "        before = self.getNode(pos-1)        # 삭제할 위치 이전 노드 탐색\n",
    "        if before == None :                 # 머리노드 삭제 경우\n",
    "            if self.head is not None :      # 공백 상태가 아니면\n",
    "                self.head = self.head.link  # 머리노드를 갱신\n",
    "        else: before.popNext()              # before의 다음노드 삭제\n",
    "\n",
    "    # 연산: 전체 요소의 수 size()\n",
    "    def size( self ) :\n",
    "        ptr = self.head                 # ptr은 머리노드에서 시작함\n",
    "        count = 0;                      # 맨 처음에 count는 0\n",
    "        while ptr is not None :         # ptr이 None이 아닌 동안\n",
    "            ptr = ptr.link              # 링크를 따라 ptr 이동\n",
    "            count += 1                  # 이동할 때 마다 count 증가\n",
    "        return count                    # count 반환\n",
    "\n",
    "    # 화면 출력 display( )\n",
    "    def display(self, msg='SinglyLinkedList:' ):\n",
    "        print(msg, end='')\n",
    "        ptr = self.head\n",
    "        while ptr is not None :\n",
    "            print(ptr.data, end='->')\n",
    "            ptr = ptr.link\n",
    "        print('None')"
   ]
  },
  {
   "cell_type": "markdown",
   "id": "80ea4403-b0f7-44d3-8663-64ec017e73e3",
   "metadata": {},
   "source": [
    "#### 3.단순 연결 리스트 사용 프로그램"
   ]
  },
  {
   "cell_type": "code",
   "execution_count": null,
   "id": "2846e6a0-cf80-4d3b-987d-fb410fc3927e",
   "metadata": {},
   "outputs": [],
   "source": [
    "# 단순연결리스트(SinglyLinkedList) 사용\n",
    "s = SinglyLinkedList()\n",
    "s.display('연결리스트( 초기 ): ')\n",
    "s.insert(0, 10)\n",
    "s.insert(0, 20)\n",
    "s.insert(1, 30)\n",
    "s.insert(s.size(), 40)\n",
    "s.insert(2, 50)\n",
    "s.display(\"연결리스트(삽입x5): \")\n",
    "s.replace(2, 90)\n",
    "s.display(\"연결리스트(교체x1): \")\n",
    "s.delete(2)\n",
    "s.delete(3)\n",
    "s.delete(0)\n",
    "s.display(\"연결리스트(삭제x3): \")\n"
   ]
  },
  {
   "cell_type": "markdown",
   "id": "86787e0d-d2bf-4e35-bae1-3397581d8c77",
   "metadata": {},
   "source": [
    "### [실습] 파이썬 리스트 연산 함수 사용하기"
   ]
  },
  {
   "cell_type": "code",
   "execution_count": null,
   "id": "5cfb6498-0ee3-4f59-914d-4d63313eb608",
   "metadata": {},
   "outputs": [],
   "source": [
    "l = []\n",
    "print('파이썬list( 초기 ):', l)\n",
    "\n"
   ]
  },
  {
   "cell_type": "markdown",
   "id": "b9acd97e",
   "metadata": {},
   "source": [
    "---------------------"
   ]
  },
  {
   "cell_type": "markdown",
   "id": "c261550f",
   "metadata": {},
   "source": [
    "### 2-4. 이중 연결 리스트(Doubly Linked List)"
   ]
  },
  {
   "cell_type": "markdown",
   "id": "bd8c39f5-e415-41fe-b2b5-22a813bb60cb",
   "metadata": {},
   "source": [
    "#### **방법1)**"
   ]
  },
  {
   "cell_type": "code",
   "execution_count": null,
   "id": "164ba5d6-68bf-44f8-86d0-3c1cb2437013",
   "metadata": {},
   "outputs": [],
   "source": [
    "class DNode:\n",
    "    def __init__(self, data):\n",
    "        self.data = data\n",
    "        self.prev = None\n",
    "        self.next = None\n",
    "\n",
    "class DoublyLinkedList:\n",
    "    def __init__(self):\n",
    "        self.head = None\n",
    "        self.tail = None\n",
    "        self.size = 0\n",
    "\n",
    "    def insert(self, pos, e):\n",
    "        new_node = DNode(e)\n",
    "        if pos == 0:\n",
    "            new_node.next = self.head\n",
    "            if self.head:\n",
    "                self.head.prev = new_node\n",
    "            self.head = new_node\n",
    "        else:\n",
    "            current = self.head\n",
    "            for _ in range(pos - 1):\n",
    "                if current:\n",
    "                    current = current.next\n",
    "                else:\n",
    "                    raise IndexError(\"Position out of range\")\n",
    "            new_node.prev = current\n",
    "            new_node.next = current.next\n",
    "            if current.next:\n",
    "                current.next.prev = new_node\n",
    "            current.next = new_node\n",
    "        self.size += 1\n",
    "\n",
    "    def delete(self, pos):\n",
    "        if not self.head:\n",
    "            raise IndexError(\"List is empty\")\n",
    "        if pos == 0:\n",
    "            removed = self.head\n",
    "            self.head = self.head.next\n",
    "            if self.head:\n",
    "                self.head.prev = None\n",
    "        else:\n",
    "            current = self.head\n",
    "            for _ in range(pos):\n",
    "                if current.next:\n",
    "                    current = current.next\n",
    "                else:\n",
    "                    raise IndexError(\"Position out of range\")\n",
    "            removed = current\n",
    "            if current.prev:\n",
    "                current.prev.next = current.next\n",
    "            if current.next:\n",
    "                current.next.prev = current.prev\n",
    "        self.size -= 1\n",
    "        return removed.data\n",
    "\n",
    "    def getEntry(self, pos):\n",
    "        if not self.head:\n",
    "            raise IndexError(\"List is empty\")\n",
    "        current = self.head\n",
    "        for _ in range(pos):\n",
    "            if current.next:\n",
    "                current = current.next\n",
    "            else:\n",
    "                raise IndexError(\"Position out of range\")\n",
    "        return current.data\n",
    "\n",
    "    def isEmpty(self):\n",
    "        return self.size == 0\n",
    "\n",
    "    def _isFull(self):\n",
    "        # 이중 연결 리스트는 동적 메모리 할당을 사용하므로 항상 False를 반환합니다.\n",
    "        return False\n",
    "\n",
    "    def size(self):\n",
    "        return self.size\n",
    "\n",
    "    def display(self, msg='DoublyLinkedList:' ):\n",
    "        print(msg, end='')\n",
    "        current = self.head\n",
    "        while current is not None :\n",
    "            print(current.data, end='->')\n",
    "            current = current.next\n",
    "        print('None')\n",
    "        "
   ]
  },
  {
   "cell_type": "code",
   "execution_count": null,
   "id": "13d92cda-7b2c-49cc-baa4-71714e6b7c51",
   "metadata": {
    "scrolled": true
   },
   "outputs": [],
   "source": [
    "myList = DoublyLinkedList()                        \n",
    "myList.display('연결리스트( 초기 ): ')  \n",
    "myList.insert(0, 'A')                    \n",
    "myList.insert(1, 'B')                    \n",
    "myList.display('연결리스트( insert ): ')\n",
    "myList.insert(1, 'C')                    \n",
    "myList.display('연결리스트( insert ): ') \n",
    "myList.delete(0)                         \n",
    "myList.display('연결리스트( delete ): ') \n",
    "print()\n",
    "print(f\"연결리스트( getEntry ): {myList.getEntry(1)}\") # 두 번째 요소를 가져옴\n",
    "print(\"Is the list empty?\", myList.isEmpty())  # 리스트가 비어 있는지 확인\n",
    "print(\"Size of the list:\", myList.size)        # 리스트의 크기를 출력"
   ]
  },
  {
   "cell_type": "markdown",
   "id": "a4ff9fca-091f-4bde-9f03-f469cece976d",
   "metadata": {},
   "source": [
    "#### **방법2) 부교재**"
   ]
  },
  {
   "cell_type": "markdown",
   "id": "9ab96398",
   "metadata": {},
   "source": [
    "#### 1.(노드) 클래스 정의하기"
   ]
  },
  {
   "cell_type": "code",
   "execution_count": null,
   "id": "30175e36",
   "metadata": {},
   "outputs": [],
   "source": [
    "#이중 연결 구조를 위한 DNode 클래스 정의\n",
    "class DNode:                            # 이중 연결 노드 클래스\n",
    "    def __init__ (self, elem, prev=None, next=None):\n",
    "        self.data = elem                # 노드의 데이터 필드(요소)\n",
    "        self.next = next                # 다음노드를 위한 링크\n",
    "        self.prev = prev                # 이전노드를 위한 링크(추가됨)\n",
    "\n",
    "    # 코드 3.4b: DNode의 append(node) 연산\n",
    "    def append (self, node):            # self 다음에 node를 넣는 연산\n",
    "        if node is not None :           # node가 None이 아니면\n",
    "            node.next = self.next       # 1)\n",
    "            node.prev = self            # 2)\n",
    "            if node.next is not None:   # 3) self의 다음노드가 있으면\n",
    "                node.next.prev = node   #    그 노드의 이전노드는 node\n",
    "        self.next = node                # 4)\n",
    "\n",
    "    # 코드 3.4 c: DNode의 popNext( ) 연산\n",
    "    def popNext (self):                 # self 다음노드 삭제 연산\n",
    "        node = self.next                # 삭제할 노드\n",
    "        if node is not None :           # next가 None이 아니면\n",
    "            self.next = node.next       # 1)\n",
    "            if self.next is not None:   # 2) 다음 노드가 있으면\n",
    "                self.next.prev = self   # 그 노드의 이전노드는 self\n",
    "        return node                     # 다음 노드를 반환"
   ]
  },
  {
   "cell_type": "markdown",
   "id": "dbd02b09",
   "metadata": {},
   "source": [
    "#### 2.연산 정의하기"
   ]
  },
  {
   "cell_type": "code",
   "execution_count": null,
   "id": "661d7645",
   "metadata": {},
   "outputs": [],
   "source": [
    "#이중 연결 리스트 클래스 정의와 생성자\n",
    "class DblLinkedList:                    # 이중연결리스트 클래스\n",
    "    def __init__( self ):               # 생성자\n",
    "        self.head = None                # head 선언 및 None으로 초기화\n",
    "\n",
    "    def isEmpty( self ):                # 공백상태 검사\n",
    "       return self.head == None         # head가 None이면 공백\n",
    "\n",
    "    def isFull( self ):                 # 포화상태 검사\n",
    "       return False                     # 연결된 구조에서는 포화상태 없음\n",
    "\n",
    "    def clear( self ) : self.head = None\n",
    "    def size( self ) :\n",
    "        ptr = self.head                 # ptr은 머리노드에서 시작함\n",
    "        count = 0;                      # 맨 처음에 count는 0\n",
    "        while ptr is not None :         # ptr이 None이 아닌 동안\n",
    "            ptr = ptr.next              # 링크를 따라 ptr 이동\n",
    "            count += 1                  # 이동할 때 마다 count 증가\n",
    "        return count                    # count 반환\n",
    "\n",
    "    # 코드 3.5b: DblLinkedList 연산: 화면 출력 display( )\n",
    "    def display(self, msg='DblLinkedList:' ):  # 기본 msg 내용을 수정\n",
    "        print(msg, end='')\n",
    "        ptr = self.head\n",
    "        while ptr is not None :\n",
    "            print(ptr.data, end='<=>')         # 이중연결은 <=>로 표시\n",
    "            ptr = ptr.next                     # 다음노드로 이동. next\n",
    "        print('None')\n",
    "\n",
    "\n",
    "    def getNode(self, pos) :\n",
    "        if pos < 0 : return None        # 잘못된 위치 -> None 반환\n",
    "        ptr = self.head                 # 시작 위치 -> head\n",
    "        for i in range(pos):          # pos-1번 링크를 따라 이동\n",
    "            if ptr == None :            # pos가 리스트 크기보다 큰 경우\n",
    "               return None              # None 반환\n",
    "            ptr = ptr.next              # ptr을 진행시킴\n",
    "        return ptr                      # 최종 노드를 반환\n",
    "\n",
    "    def getEntry(self, pos) :\n",
    "        node = self.getNode(pos)        # pos번째 노드를 구함\n",
    "        if node == None : return None   # 해당 노드가 없는 경우\n",
    "        else : return node.data         # 있는 경우 데이터 필드 반환\n",
    "\n",
    "    def replace(self, pos, elem) :\n",
    "        node = self.getNode(pos)\n",
    "        if node != None : node.data = elem\n",
    "\n",
    "    def find(self, val) :\n",
    "        node = self.head;\n",
    "        while node is not None:\n",
    "            if node.data == val : return node\n",
    "            node = node.next\n",
    "        return node\n",
    "\n",
    "    # 코드 3.5c: DblLinkedList 연산: 삽입 연산\n",
    "    def insert(self, pos, elem) :\n",
    "        node = DNode(elem)            # DNode를 만들어야 함\n",
    "        before = self.getNode(pos-1)  # 삽입할 위치 이전 노드 탐색\n",
    "        if before == None :           # 머리 노드로 삽입하는 경우\n",
    "            node.next = self.head     # node의 링크가 머리노드를 가리킴\n",
    "            if node.next is not None: # node 다음 노드가 있으면\n",
    "                node.next.prev = node # 그 노드의 이전노드는 node\n",
    "            self.head = node          # 이제 node가 머리노드가 됨\n",
    "        else : before.append(node)    # 아닌 경우: before 다음에 추가\n",
    "\n",
    "\n",
    "    # 코드 3.5d: DblLinkedList 연산: 삭제 연산\n",
    "    def delete(self, pos) :\n",
    "        before = self.getNode(pos-1)       # 삭제할 위치 이전 노드 탐색\n",
    "        if before == None :                 # 머리노드 삭제 경우\n",
    "            if self.head is not None :      # 공백 상태가 아니면\n",
    "                self.head = self.head.next  # 머리노드를 갱신\n",
    "                self.head.prev = None       # 머리노드는 이전노드 없음\n",
    "        else: before.popNext()              # before의 다음노드 삭제\n"
   ]
  },
  {
   "cell_type": "markdown",
   "id": "a25525fe",
   "metadata": {},
   "source": [
    "#### 3.이중 연결 리스트 사용 프로그램"
   ]
  },
  {
   "cell_type": "code",
   "execution_count": null,
   "id": "e35bceca",
   "metadata": {},
   "outputs": [],
   "source": [
    "# 이중연결리스트(DblLinkedList) 사용\n",
    "d = DblLinkedList()\n",
    "d.display('연결리스트( 초기 ): ')\n",
    "d.insert(0, 10)\n",
    "d.insert(0, 20)\n",
    "d.insert(1, 30)\n",
    "d.insert(s.size(), 40)\n",
    "d.insert(2, 50)\n",
    "d.display(\"연결리스트(삽입x5): \")\n",
    "d.replace(2, 90)\n",
    "d.display(\"연결리스트(교체x1): \")\n",
    "d.delete(2)\n",
    "d.delete(3)\n",
    "d.delete(0)\n",
    "d.display(\"연결리스트(삭제x3): \")"
   ]
  },
  {
   "cell_type": "code",
   "execution_count": null,
   "id": "aa1b0da0-64eb-464b-8193-3c55194ff27b",
   "metadata": {},
   "outputs": [],
   "source": [
    "# 파이썬의 리스트 사용\n",
    "dl = []\n",
    "print('파이썬list( 초기 ):', dl)\n",
    "\n"
   ]
  },
  {
   "cell_type": "markdown",
   "id": "89a5d848-02ad-4493-a5c2-6bf19573833e",
   "metadata": {},
   "source": [
    "--------------"
   ]
  },
  {
   "cell_type": "markdown",
   "id": "e3b0f381",
   "metadata": {},
   "source": [
    "### 2-5. 연결 리스트 응용"
   ]
  },
  {
   "attachments": {},
   "cell_type": "markdown",
   "id": "70d1bbd0-fb95-4d95-8fe1-17e4bb479d7e",
   "metadata": {},
   "source": [
    "### [응용] 음악 재생 목록 프로그램\n",
    "* 이중 연결 리스트 사용\n",
    "* 이중 연결 구조 리스트 사용하여 음악 재생 목록 관리 프로그램을 만들 수 있다.\n",
    "* 클래스명 : **MusicPlaylist**\n",
    "* 필요한 연산 \n",
    "  - 곡 추가 : add_song(song)\n",
    "  - 곡 삭제 : remove_song(song)\n",
    "  - 곡 목록 출력 : show_playlist()"
   ]
  },
  {
   "cell_type": "code",
   "execution_count": null,
   "id": "df1885ce-f5a0-4f60-8ebe-b17c088fc89d",
   "metadata": {},
   "outputs": [],
   "source": [
    "class Node:\n",
    "    def __init__(self, data):\n",
    "        self.data = data  # 노드의 데이터(곡 정보)\n",
    "        self.prev = None\n",
    "        self.next = None\n",
    "\n",
    "class MusicPlaylist:\n",
    "    def __init__(self):\n",
    "        self.head = None\n",
    "        self.tail = None\n",
    "        self.size = 0\n",
    "\n",
    "    def add_song(self, song):\n",
    "        \n",
    "        # 코드 구현하기 ------------\n",
    "        \n",
    "        print(f\"곡 '{song}'이(가) 재생 목록에 추가되었습니다.\")\n",
    "\n",
    "    def remove_song(self, song):\n",
    "        \n",
    "        # 코드 구현하기 ------------\n",
    "        \n",
    "        print(f\"곡 '{song}'이(가) 재생 목록에 없습니다.\")\n",
    "\n",
    "    def show_playlist(self):\n",
    "        print(\"\\n--재생 목록--\")\n",
    "        \n",
    "        # 코드 구현하기 ------------\n",
    "        \n",
    "        print()\n"
   ]
  },
  {
   "cell_type": "code",
   "execution_count": null,
   "id": "65214b82-19b2-4983-b313-0603d30462fd",
   "metadata": {},
   "outputs": [],
   "source": [
    "# 사용 예시\n",
    "playlist = MusicPlaylist()\n",
    "\n",
    "playlist.add_song(\"Butter\")\n",
    "playlist.add_song(\"Permission to Dance\")\n",
    "playlist.add_song(\"Life Goes On\")\n",
    "playlist.show_playlist()\n",
    "playlist.remove_song(\"Permission to Dance\")\n",
    "playlist.show_playlist()\n",
    "playlist.remove_song(\"Dynamite\")"
   ]
  },
  {
   "cell_type": "markdown",
   "id": "88fbbcf6",
   "metadata": {},
   "source": [
    "----------------------\n",
    "THE END"
   ]
  },
  {
   "cell_type": "code",
   "execution_count": null,
   "id": "bd7936b8",
   "metadata": {},
   "outputs": [],
   "source": []
  }
 ],
 "metadata": {
  "kernelspec": {
   "display_name": "Python 3 (ipykernel)",
   "language": "python",
   "name": "python3"
  },
  "language_info": {
   "codemirror_mode": {
    "name": "ipython",
    "version": 3
   },
   "file_extension": ".py",
   "mimetype": "text/x-python",
   "name": "python",
   "nbconvert_exporter": "python",
   "pygments_lexer": "ipython3",
   "version": "3.11.8"
  }
 },
 "nbformat": 4,
 "nbformat_minor": 5
}
