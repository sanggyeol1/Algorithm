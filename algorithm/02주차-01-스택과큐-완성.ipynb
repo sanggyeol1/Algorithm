{
 "cells": [
  {
   "cell_type": "markdown",
   "id": "f44bcd12",
   "metadata": {},
   "source": [
    "# 2주차 : 스택과 큐"
   ]
  },
  {
   "cell_type": "markdown",
   "id": "f88f6bf7",
   "metadata": {},
   "source": [
    "- <a href=\"#1.자료구조의이해\">1. 자료구조의 이해</a>\n",
    "- <a href=\"#2.스택\">2. 스택</a>\n",
    "- <a href=\"#3.큐\">3. 큐</a>"
   ]
  },
  {
   "cell_type": "markdown",
   "id": "6a0ecdef",
   "metadata": {},
   "source": [
    "---------------"
   ]
  },
  {
   "cell_type": "markdown",
   "id": "bca0c3bb",
   "metadata": {},
   "source": [
    "[참고] Tex 기호: https://ko.wikipedia.org/wiki/%EC%9C%84%ED%82%A4%EB%B0%B1%EA%B3%BC:TeX_%EB%AC%B8%EB%B2%95"
   ]
  },
  {
   "cell_type": "markdown",
   "id": "d9719ece",
   "metadata": {},
   "source": [
    "------------------------------"
   ]
  },
  {
   "cell_type": "markdown",
   "id": "1d10bdc6",
   "metadata": {},
   "source": [
    "## <a name=\"1.자료구조의이해\">1. 자료구조의 이해</a>"
   ]
  },
  {
   "cell_type": "markdown",
   "id": "e6e94c54",
   "metadata": {},
   "source": [
    "### 1-1. 자료구조"
   ]
  },
  {
   "cell_type": "markdown",
   "id": "8be387e2",
   "metadata": {},
   "source": [
    "### 1-2. 자료구조와 알고리즘"
   ]
  },
  {
   "cell_type": "markdown",
   "id": "ed60d691",
   "metadata": {},
   "source": [
    "### 1-3. 알고리즘 설계"
   ]
  },
  {
   "cell_type": "markdown",
   "id": "726b63ee",
   "metadata": {},
   "source": [
    "### 알고리즘 성능 분석 : 빅오 표기법(Big-O notation) \n",
    "- 알고리즘의 시간 복잡도나 공간 복잡도를 표현하기 위해 사용되는 수학적 표기법.\n",
    "- https://www.bigocheatsheet.com/ "
   ]
  },
  {
   "cell_type": "markdown",
   "id": "fec3da5b",
   "metadata": {},
   "source": [
    "| 구분 |이름 | 설명 |\n",
    "|:------|:------|:------|\n",
    "| O(1) | 상수 시간 복잡도 | 입력 크기에 상관없이 실행 시간이 일정함 |\n",
    "| O(log n) | 로그 시간 복잡도  | 이진 검색과 같은 알고리즘에서 볼 수 있음 |\n",
    "| O(n) | 선형 시간 복잡도 | 알고리즘의 실행 시간이 입력 크기에 비례하여 증가함 |\n",
    "| $O(n log n)$ | 선형 로그 시간 복잡도  | 퀵 정렬이나 병합 정렬 같은 효율적인 정렬 알고리즘에서 나타남 |\n",
    "| $O(n^2)$ | 이차 시간 복잡도  | 간단한 정렬 알고리즘(버블 정렬, 선택 정렬 등)이나 2중 반복문을 사용하는 알고리즘에서 볼 수 있음 |\n",
    "| $O(2^n)$ | 지수 시간 복잡도  | 입력 크기가 커질수록 실행 시간이 급격히 증가합니다. 일부 재귀 알고리즘에서 발생할 수 있음 |\n",
    "| $O(n!)$ | 팩토리얼 시간 복잡도  | 가장 느린 성장률 중 하나로, 순열을 생성하는 알고리즘 등에서 발생할 수 있음 |\n",
    "\n"
   ]
  },
  {
   "cell_type": "markdown",
   "id": "9893179f",
   "metadata": {},
   "source": [
    "#### _1.$O(1)$ - 상수 시간\n",
    "알고리즘이 입력 크기에 관계없이 일정한 시간 안에 실행됨"
   ]
  },
  {
   "cell_type": "code",
   "execution_count": 1,
   "id": "a4c622ce",
   "metadata": {},
   "outputs": [
    {
     "name": "stdout",
     "output_type": "stream",
     "text": [
      "1\n",
      "1\n"
     ]
    }
   ],
   "source": [
    "def check_first_element(myList):\n",
    "    if myList:\n",
    "        return myList[0]  # 항상 상수 시간 소요\n",
    "    return None\n",
    "\n",
    "print(check_first_element([1,2,3]))\n",
    "print(check_first_element([1,2,3,4,5,6,7,8,9,10]))"
   ]
  },
  {
   "cell_type": "markdown",
   "id": "7865ba64",
   "metadata": {},
   "source": [
    "#### _2.$O(log n)$ - 로그 시간\n",
    "알고리즘의 실행 시간이 입력 크기의 로그와 비례합니다. 이진 검색이 대표적인 예"
   ]
  },
  {
   "cell_type": "code",
   "execution_count": 2,
   "id": "50deab45",
   "metadata": {},
   "outputs": [
    {
     "name": "stdout",
     "output_type": "stream",
     "text": [
      "2\n"
     ]
    }
   ],
   "source": [
    "def binary_search(arr, target):\n",
    "    left, right = 0, len(arr) - 1\n",
    "    while left <= right:\n",
    "        mid = (left + right) // 2\n",
    "        if arr[mid] == target:\n",
    "            return mid\n",
    "        elif arr[mid] < target:\n",
    "            left = mid + 1\n",
    "        else:\n",
    "            right = mid - 1\n",
    "    return -1\n",
    "\n",
    "print(binary_search([8,9,10,100,1000,2000,3000], 10))"
   ]
  },
  {
   "cell_type": "markdown",
   "id": "bbebc7eb",
   "metadata": {},
   "source": [
    "#### _3.$O(n)$ - 선형 시간\n",
    "알고리즘의 실행 시간이 입력 크기와 직접 비례한다."
   ]
  },
  {
   "cell_type": "code",
   "execution_count": null,
   "id": "acc181d3",
   "metadata": {},
   "outputs": [],
   "source": [
    "def find_max(arr):\n",
    "    max_val = arr[0]\n",
    "    for num in arr:\n",
    "        if num > max_val:\n",
    "            max_val = num\n",
    "    return max_val\n",
    "\n",
    "print(find_max([8,9,10,100,1000,2000,3000]))"
   ]
  },
  {
   "cell_type": "markdown",
   "id": "4ce27dde",
   "metadata": {},
   "source": [
    "#### 4.$O(n log n)$ - 선형 로그 시간\n",
    "효율적인 정렬 알고리즘에서 흔히 볼 수 있습니다. 병합 정렬 예시, 파이썬의 sort() 함수"
   ]
  },
  {
   "cell_type": "code",
   "execution_count": null,
   "id": "e7cb12b3",
   "metadata": {},
   "outputs": [],
   "source": [
    "def merge_sort(arr):\n",
    "    if len(arr) < 2:\n",
    "        return arr\n",
    "\n",
    "    mid = len(arr) // 2\n",
    "    low_arr = merge_sort(arr[:mid])\n",
    "    high_arr = merge_sort(arr[mid:])\n",
    "\n",
    "    merged_arr = []\n",
    "    l = h = 0\n",
    "    while l < len(low_arr) and h < len(high_arr):\n",
    "        if low_arr[l] < high_arr[h]:\n",
    "            merged_arr.append(low_arr[l])\n",
    "            l += 1\n",
    "        else:\n",
    "            merged_arr.append(high_arr[h])\n",
    "            h += 1\n",
    "    merged_arr += low_arr[l:]\n",
    "    merged_arr += high_arr[h:]\n",
    "    return merged_arr\n",
    "            \n",
    "print(merge_sort([6, 5, 3, 1, 8, 7, 2, 4]))"
   ]
  },
  {
   "cell_type": "markdown",
   "id": "e59e1bf4",
   "metadata": {},
   "source": [
    "#### 5.$O(n^2)$ - 이차 시간\n",
    "간단한 정렬 알고리즘(버블 정렬) 또는 2중 반복문 사용 예시:"
   ]
  },
  {
   "cell_type": "code",
   "execution_count": null,
   "id": "0841eb86",
   "metadata": {},
   "outputs": [],
   "source": [
    "def bubble_sort(arr):\n",
    "    n = len(arr)\n",
    "    for i in range(n):\n",
    "        for j in range(0, n-i-1):\n",
    "            if arr[j] > arr[j+1]:\n",
    "                arr[j], arr[j+1] = arr[j+1], arr[j]\n",
    "    return arr         \n",
    "\n",
    "print(bubble_sort([6, 5, 3, 1, 8, 7, 2, 4]))                "
   ]
  },
  {
   "cell_type": "markdown",
   "id": "33f80efd",
   "metadata": {},
   "source": [
    "#### 6.$O(2^n)$ - 지수 시간\n",
    "재귀적 해법을 사용한 피보나치 수열 예시:"
   ]
  },
  {
   "cell_type": "code",
   "execution_count": null,
   "id": "d57800c4",
   "metadata": {},
   "outputs": [],
   "source": [
    "def fibonacci(n):\n",
    "    if n <= 1:\n",
    "        return n\n",
    "    else:\n",
    "        return fibonacci(n-1) + fibonacci(n-2)\n",
    "    \n",
    "print(fibonacci(5))\n",
    "[fibonacci(n) for n in range(1,11)]"
   ]
  },
  {
   "cell_type": "markdown",
   "id": "fab290a0",
   "metadata": {},
   "source": [
    "#### 7.$O(n!)$ - 팩토리얼 시간\n",
    "순열을 생성하는 예시:"
   ]
  },
  {
   "cell_type": "code",
   "execution_count": null,
   "id": "fc1aaf66",
   "metadata": {},
   "outputs": [],
   "source": [
    "def permute(arr, start, end):\n",
    "    if start == end:\n",
    "        print(arr)\n",
    "    else:\n",
    "        for i in range(start, end+1):\n",
    "            arr[start], arr[i] = arr[i], arr[start]\n",
    "            permute(arr, start+1, end)\n",
    "            arr[start], arr[i] = arr[i], arr[start]  # backtrack\n",
    "\n",
    "arr = [1, 2, 3]\n",
    "permute(arr, 0, len(arr)-1)"
   ]
  },
  {
   "cell_type": "markdown",
   "id": "1f45a9a3",
   "metadata": {},
   "source": [
    "-----------------"
   ]
  },
  {
   "cell_type": "markdown",
   "id": "fb4dc4a0",
   "metadata": {},
   "source": [
    "## <a name=\"2.스택\">2. 스택</a>"
   ]
  },
  {
   "cell_type": "markdown",
   "id": "357c694e",
   "metadata": {},
   "source": [
    "### 2-1. 스택 개요\n",
    "\n"
   ]
  },
  {
   "cell_type": "markdown",
   "id": "1f8a78fb",
   "metadata": {},
   "source": [
    "### [실습]  스택 연산 클래스 생성"
   ]
  },
  {
   "cell_type": "code",
   "execution_count": 3,
   "id": "acf4a5b9",
   "metadata": {},
   "outputs": [],
   "source": [
    "# class 클래스명 : 클래스 생성\n",
    "# __init__() :  생성자 \n",
    "# self :  메서드(멤버함수)의 첫 번째 매개변수 \n",
    "\n",
    "class Stack:\n",
    "    def __init__(self):  # 생성자\n",
    "        self.items = []        \n",
    "    def isEmpty(self):\n",
    "        return self.items == []    \n",
    "    def push(self, item):\n",
    "        self.items.append(item)        \n",
    "    def pop(self):\n",
    "        return self.items.pop()    \n",
    "    def peek(self):\n",
    "        return self.items[len(self.items)-1]    \n",
    "    def size(self):\n",
    "        return len(self.items)    "
   ]
  },
  {
   "cell_type": "markdown",
   "id": "8bb22999",
   "metadata": {},
   "source": [
    "### [실습]  스택 연산 예"
   ]
  },
  {
   "cell_type": "code",
   "execution_count": 16,
   "id": "27bcdf87",
   "metadata": {
    "scrolled": false
   },
   "outputs": [
    {
     "name": "stdout",
     "output_type": "stream",
     "text": [
      "(a) []\n",
      "(b) ['A']\n",
      "(c) ['A', 'B']\n",
      "(d) ['A', 'B', 'C']\n",
      "(e) C\n",
      "(f) B\n",
      "(g) False\n"
     ]
    }
   ],
   "source": [
    "# Stack 인스턴스 생성\n",
    "stack = Stack()\n",
    "\n",
    "# 스택 연산 예\n",
    "print(f'(a) {stack.items}')\n",
    "stack.push('A'); print(f'(b) {stack.items}')\n",
    "stack.push('B'); print(f'(c) {stack.items}')\n",
    "stack.push('C'); print(f'(d) {stack.items}')\n",
    "print(f'(e) {stack.pop()}')\n",
    "print(f'(f) {stack.peek()}')\n",
    "print(f'(g) {stack.isEmpty()}')"
   ]
  },
  {
   "cell_type": "markdown",
   "id": "b9acd97e",
   "metadata": {},
   "source": [
    "---------------------"
   ]
  },
  {
   "cell_type": "markdown",
   "id": "c261550f",
   "metadata": {},
   "source": [
    "### 2-2. 스택 구현"
   ]
  },
  {
   "cell_type": "markdown",
   "id": "ac111c9e",
   "metadata": {},
   "source": [
    "### [배열로 스택 구현하기]"
   ]
  },
  {
   "cell_type": "markdown",
   "id": "9ab96398",
   "metadata": {},
   "source": [
    "#### 전역변수 지정하기"
   ]
  },
  {
   "cell_type": "code",
   "execution_count": null,
   "id": "30175e36",
   "metadata": {},
   "outputs": [],
   "source": [
    "capacity = 10            # 스택 용량: 10으로 지정\n",
    "array = [None]*capacity  # 요소 배열: [None,..,None] 길이(capacity)\n",
    "top = -1                 # 스택 상단의 인덱스 : 공백 상태(-1)로 초기화"
   ]
  },
  {
   "cell_type": "markdown",
   "id": "dbd02b09",
   "metadata": {},
   "source": [
    "#### 스택 연산 - 공백 상태 : isEmpty()"
   ]
  },
  {
   "cell_type": "code",
   "execution_count": null,
   "id": "661d7645",
   "metadata": {},
   "outputs": [],
   "source": [
    "def isEmpty():\n",
    "    if top == -1: return True  # 공백이면 True\n",
    "    else: return False         # 아니면 False\n",
    "#     return top == -1    "
   ]
  },
  {
   "cell_type": "markdown",
   "id": "a25525fe",
   "metadata": {},
   "source": [
    "#### 스택 연산 - 포화 상태 : isEmpty()"
   ]
  },
  {
   "cell_type": "code",
   "execution_count": null,
   "id": "e35bceca",
   "metadata": {},
   "outputs": [],
   "source": [
    "def isFull():\n",
    "    return top == capacity    # 비교 연산 결과를 바로 반환"
   ]
  },
  {
   "cell_type": "markdown",
   "id": "09c901ce",
   "metadata": {},
   "source": [
    "#### 스택 연산 - 추가 : push(e)"
   ]
  },
  {
   "cell_type": "code",
   "execution_count": null,
   "id": "153526bc",
   "metadata": {},
   "outputs": [],
   "source": [
    "def push(e):\n",
    "    #global top\n",
    "    if not isFull():             # 포화 상태가 아닌 경우\n",
    "        top += 1                 # top 증가()\n",
    "        array[top] = e           # top 위치에 e 복사\n",
    "    else:                        # 포화 상태 : overflow\n",
    "        print('stack overflow!')\n",
    "        exit()"
   ]
  },
  {
   "cell_type": "markdown",
   "id": "eae6b5c6",
   "metadata": {},
   "source": [
    "#### 스택 연산 - 삭제 : pop()"
   ]
  },
  {
   "cell_type": "code",
   "execution_count": null,
   "id": "c261927a",
   "metadata": {},
   "outputs": [],
   "source": [
    "def pop():\n",
    "    #global top\n",
    "    if not isEmpty():            # 공백 상태가 아닌 경우\n",
    "        top -= 1                 # top 감소\n",
    "        return array[top+1]      # 이전(top+1) 위치의 요소 반환\n",
    "    else:                        # 공백 상태 : underflow\n",
    "        print('stack underflow!')\n",
    "        exit()"
   ]
  },
  {
   "cell_type": "markdown",
   "id": "a8a692b1",
   "metadata": {},
   "source": [
    "#### 스택 연산 - 상단 요소 참조 : peek()"
   ]
  },
  {
   "cell_type": "code",
   "execution_count": null,
   "id": "9ec5d551",
   "metadata": {},
   "outputs": [],
   "source": [
    "def peek():\n",
    "    if not isEmpty():          # 공백 상태가 아닌 경우\n",
    "        return array[top]\n",
    "    else:\n",
    "        pass                   # underflow 예외는 처리 제외"
   ]
  },
  {
   "cell_type": "markdown",
   "id": "1e84ae27",
   "metadata": {},
   "source": [
    "#### 스택 연산 - 현재 스택 요소 수(크기) 반환 : size()"
   ]
  },
  {
   "cell_type": "code",
   "execution_count": null,
   "id": "c9001b19",
   "metadata": {},
   "outputs": [],
   "source": [
    "def size():\n",
    "    return top+1     # 현재 요소의 수"
   ]
  },
  {
   "cell_type": "markdown",
   "id": "2f5839a3",
   "metadata": {},
   "source": [
    "### [실습] 배열로 스택을 클래스로 구현하기 "
   ]
  },
  {
   "cell_type": "markdown",
   "id": "77faa2ba",
   "metadata": {},
   "source": [
    "#### 1.스택을 클래스로 구현하기 "
   ]
  },
  {
   "cell_type": "code",
   "execution_count": 1,
   "id": "ca93f2e8",
   "metadata": {},
   "outputs": [],
   "source": [
    "#스택 클래스의 정의와 생성자 함수\n",
    "class ArrayStack:\n",
    "    def __init__(self, capacity):   # 생성자 정의\n",
    "        self.capacity = capacity      # 용량(고정)\n",
    "        self.array = [None]*capacity  # 요소 배열\n",
    "        self.top = -1                 # 스택의 상단 인덱스\n",
    "        \n",
    "    # 스택 연산들\n",
    "    def isEmpty(self):   # 공백 상태\n",
    "        return self.top == -1\n",
    "        \n",
    "    def isFull(self):   # 포화 상태\n",
    "        return self.top == self.capacity    # 비교 연산 결과를 바로 반환\n",
    "\n",
    "    def push(self, item):\n",
    "        #global top\n",
    "        if not self.isFull():            # 포화 상태가 아닌 경우\n",
    "            self.top += 1                # top 증가()\n",
    "            self.array[self.top] = item          # top 위치에 e 복사\n",
    "        else:                       # 포화 상태 : overflow\n",
    "            print('stack overflow!')\n",
    "            pass\n",
    "            \n",
    "    def pop(self):\n",
    "        #global top\n",
    "        if not self.isEmpty():          # 공백 상태가 아닌 경우\n",
    "            self.top -= 1               # top 감소\n",
    "            return self.array[self.top+1]    # 이전(top+1) 위치의 요소 반환\n",
    "        else:                      # 공백 상태 : underflow\n",
    "            print('stack underflow!')\n",
    "            pass\n",
    "            \n",
    "    def peek(self):\n",
    "        if not self.isEmpty():          # 공백 상태가 아닌 경우\n",
    "            return self.array[self.top]\n",
    "        else:\n",
    "            pass                   # underflow 예외는 처리 제외\n",
    "        \n",
    "    def size(self):\n",
    "        return self.top+1     # 현재 요소의 수"
   ]
  },
  {
   "cell_type": "markdown",
   "id": "18b3bad2",
   "metadata": {},
   "source": [
    "#### 2.스택을 이용한 문자열을 역순으로 출력하는 프로그램을 만들기"
   ]
  },
  {
   "cell_type": "code",
   "execution_count": 2,
   "id": "3d16f0b0",
   "metadata": {
    "scrolled": true
   },
   "outputs": [
    {
     "name": "stdout",
     "output_type": "stream",
     "text": [
      "문자열 입력: 알고리즘\n",
      "문자열 출력: 즘리고알\n"
     ]
    }
   ],
   "source": [
    "stack = ArrayStack(100)             # 스택 객체를 생성\n",
    "\n",
    "msg = input(\"문자열 입력: \")    # 문자열을 입력받음\n",
    "for c in msg :                  # 문자열의 각 문자 c에 대해\n",
    "    stack.push(c)                   # c를 스택에 삽입\n",
    "\n",
    "print(\"문자열 출력: \", end='')\n",
    "while not stack.isEmpty():          # 스택이 공백상태가 아니라면\n",
    "    print(stack.pop(), end='')      # 하나의 요소를 꺼내서 출력\n",
    "print()"
   ]
  },
  {
   "cell_type": "markdown",
   "id": "1f96ea73",
   "metadata": {},
   "source": [
    "--------------------"
   ]
  },
  {
   "cell_type": "markdown",
   "id": "e3b0f381",
   "metadata": {},
   "source": [
    "### 2-3. 스택 응용"
   ]
  },
  {
   "cell_type": "markdown",
   "id": "0907a5a1",
   "metadata": {},
   "source": [
    "### [괄호 검사 알고리즘 구현하기]"
   ]
  },
  {
   "cell_type": "markdown",
   "id": "478854ef",
   "metadata": {},
   "source": [
    "#### #올바른 괄호 사용을 위한 조건\n",
    "- 조건1 :  왼쪽 괄호의 개수와 오른쪽 괄호의 개수가 같아야 한다.\n",
    "- 조건2 :  같은 종류인 경우 왼쪽 괄호가 오른쪽보다 먼저 나와야 한다.\n",
    "- 조건3 :  다른 종류의 괄호 쌍이 서로 교차하면 안 된다."
   ]
  },
  {
   "cell_type": "markdown",
   "id": "dcee544b",
   "metadata": {},
   "source": [
    "### [실습] 괄호 검사 알고리즘 구현하기 "
   ]
  },
  {
   "cell_type": "markdown",
   "id": "2b7e5d00",
   "metadata": {},
   "source": [
    "#### 1.괄호 검사 알고리즘 구현하기 "
   ]
  },
  {
   "cell_type": "code",
   "execution_count": 42,
   "id": "14d2636a",
   "metadata": {},
   "outputs": [],
   "source": [
    "def checkBrackets(statement):\n",
    "    # 빈 스택을 준비합니다.\n",
    "    stack = ArrayStack(100)\n",
    "    # 입력된 문자를 하나씩 읽어 \n",
    "    for ch in statement:\n",
    "        # 왼쪽 괄호를 만나면 스택에 삽입합니다.\n",
    "        if ch in ('[','{','('):    # 열린 괄호\n",
    "            stack.push(ch)\n",
    "        # 오른쪽 괄호를 만나면 가장 최근에 삽입된 괄호를 스택에서 꺼냅니다.\n",
    "        # 이때 스택이 비었다면 오른쪽 괄호가 먼저 나온 상황이므로 조건 2에 위ㅎ배\n",
    "        elif ch in (']','}',')'):  # 닫힌 괄호\n",
    "            if stack.isEmpty():   \n",
    "                return False       # 조건2 위반\n",
    "            else:\n",
    "                left = stack.pop() # 문자를 pop해서 비교\n",
    "                # 꺼낸 괄호가 오른쪽 괄호와 짝이 맞지 않으면 조건 3에 위배\n",
    "                if  (ch == \"]\" and left != \"[\") or \\\n",
    "                    (ch == \"}\" and left != \"{\") or \\\n",
    "                    (ch == \")\" and left != \"(\") :\n",
    "                    return False    # 조건3 위반\n",
    "    # 끝까지 처리했는데 스택에 괄호가 남아 있으면 괄호의 개수가 맞지 않아 조건 1에 위배됨.\n",
    "    # 스택이 공백 상태면 검사 성공\n",
    "    return stack.isEmpty()"
   ]
  },
  {
   "cell_type": "markdown",
   "id": "6e6ff04a",
   "metadata": {},
   "source": [
    "#### 2.예제를 이용하여 괄호 검사 알고리즘 검증하기"
   ]
  },
  {
   "cell_type": "code",
   "execution_count": 41,
   "id": "14254a7c",
   "metadata": {},
   "outputs": [
    {
     "name": "stdout",
     "output_type": "stream",
     "text": [
      "{ A[(i+1)]=0; }  --->  True\n",
      "if ((x<0) && (y<3)  --->  False\n",
      "while (n<8)) {n++;}  --->  False\n",
      "arr[(i+1])=0;  --->  False\n"
     ]
    }
   ],
   "source": [
    "str1 = \"{ A[(i+1)]=0; }\"\n",
    "str2 = \"if ((x<0) && (y<3)\"\n",
    "str3 = \"while (n<8)) {n++;}\"\n",
    "str4 = \"arr[(i+1])=0;\"\n",
    "\n",
    "print(str1, \" ---> \", checkBrackets(str1))\n",
    "print(str2, \" ---> \", checkBrackets(str2))\n",
    "print(str3, \" ---> \", checkBrackets(str3))\n",
    "print(str4, \" ---> \", checkBrackets(str4))"
   ]
  },
  {
   "cell_type": "markdown",
   "id": "7af1d9cd",
   "metadata": {},
   "source": [
    "### [파이썬에서 스택 사용하기]\n",
    "- 예제: 문자열 역순으로 출력하기 사용"
   ]
  },
  {
   "cell_type": "markdown",
   "id": "f281c7d8",
   "metadata": {},
   "source": [
    "#### 방법 1) Stack 클래스 직접 구현해서 사용하기\n"
   ]
  },
  {
   "cell_type": "code",
   "execution_count": 45,
   "id": "4c59c90b",
   "metadata": {},
   "outputs": [
    {
     "name": "stdout",
     "output_type": "stream",
     "text": [
      "문자열 입력: 알고리즘\n",
      "문자열 출력: 즘리고알\n"
     ]
    }
   ],
   "source": [
    "stack = ArrayStack(100)             # 스택 객체를 생성\n",
    "\n",
    "msg = input(\"문자열 입력: \")    # 문자열을 입력받음\n",
    "for c in msg :                  # 문자열의 각 문자 c에 대해\n",
    "    stack.push(c)                   # c를 스택에 삽입\n",
    "\n",
    "print(\"문자열 출력: \", end='')\n",
    "while not stack.isEmpty():          # 스택이 공백상태가 아니라면\n",
    "    print(stack.pop(), end='')      # 하나의 요소를 꺼내서 출력\n",
    "print()"
   ]
  },
  {
   "cell_type": "markdown",
   "id": "d1651fe2",
   "metadata": {},
   "source": [
    "#### 방법 2) 파이썬 리스트 함수 사용해서 스택으로 사용하기\n"
   ]
  },
  {
   "cell_type": "code",
   "execution_count": 46,
   "id": "f5521b53",
   "metadata": {},
   "outputs": [
    {
     "name": "stdout",
     "output_type": "stream",
     "text": [
      "문자열 입력: 알고리즘\n",
      "문자열 출력: 즘리고알\n"
     ]
    }
   ],
   "source": [
    "s = list()                      # 리스트를 객체를 생성해 스택으로 사용\n",
    "\n",
    "msg = input(\"문자열 입력: \")\n",
    "for c in msg :\n",
    "    s.append(c)                 # c를 스택에 삽입\n",
    "\n",
    "print(\"문자열 출력: \", end='')\n",
    "while len(s) > 0:               # 스택이 공백상태가 아니라면\n",
    "    print(s.pop(), end='')      # 하나의 요소를 꺼내서 출력\n",
    "print()"
   ]
  },
  {
   "cell_type": "markdown",
   "id": "16a00229",
   "metadata": {},
   "source": [
    "#### 방법 3) 파이썬의 queue 모듈 LifoQueue 사용하기"
   ]
  },
  {
   "cell_type": "code",
   "execution_count": 48,
   "id": "c90c784f",
   "metadata": {
    "collapsed": true
   },
   "outputs": [
    {
     "name": "stdout",
     "output_type": "stream",
     "text": [
      "Help on module queue:\n",
      "\n",
      "NAME\n",
      "    queue - A multi-producer, multi-consumer queue.\n",
      "\n",
      "MODULE REFERENCE\n",
      "    https://docs.python.org/3.10/library/queue.html\n",
      "    \n",
      "    The following documentation is automatically generated from the Python\n",
      "    source files.  It may be incomplete, incorrect or include features that\n",
      "    are considered implementation detail and may vary between Python\n",
      "    implementations.  When in doubt, consult the module reference at the\n",
      "    location listed above.\n",
      "\n",
      "CLASSES\n",
      "    builtins.Exception(builtins.BaseException)\n",
      "        _queue.Empty\n",
      "        Full\n",
      "    builtins.object\n",
      "        _queue.SimpleQueue\n",
      "        Queue\n",
      "            LifoQueue\n",
      "            PriorityQueue\n",
      "    \n",
      "    class Empty(builtins.Exception)\n",
      "     |  Exception raised by Queue.get(block=0)/get_nowait().\n",
      "     |  \n",
      "     |  Method resolution order:\n",
      "     |      Empty\n",
      "     |      builtins.Exception\n",
      "     |      builtins.BaseException\n",
      "     |      builtins.object\n",
      "     |  \n",
      "     |  Data descriptors defined here:\n",
      "     |  \n",
      "     |  __weakref__\n",
      "     |      list of weak references to the object (if defined)\n",
      "     |  \n",
      "     |  ----------------------------------------------------------------------\n",
      "     |  Methods inherited from builtins.Exception:\n",
      "     |  \n",
      "     |  __init__(self, /, *args, **kwargs)\n",
      "     |      Initialize self.  See help(type(self)) for accurate signature.\n",
      "     |  \n",
      "     |  ----------------------------------------------------------------------\n",
      "     |  Static methods inherited from builtins.Exception:\n",
      "     |  \n",
      "     |  __new__(*args, **kwargs) from builtins.type\n",
      "     |      Create and return a new object.  See help(type) for accurate signature.\n",
      "     |  \n",
      "     |  ----------------------------------------------------------------------\n",
      "     |  Methods inherited from builtins.BaseException:\n",
      "     |  \n",
      "     |  __delattr__(self, name, /)\n",
      "     |      Implement delattr(self, name).\n",
      "     |  \n",
      "     |  __getattribute__(self, name, /)\n",
      "     |      Return getattr(self, name).\n",
      "     |  \n",
      "     |  __reduce__(...)\n",
      "     |      Helper for pickle.\n",
      "     |  \n",
      "     |  __repr__(self, /)\n",
      "     |      Return repr(self).\n",
      "     |  \n",
      "     |  __setattr__(self, name, value, /)\n",
      "     |      Implement setattr(self, name, value).\n",
      "     |  \n",
      "     |  __setstate__(...)\n",
      "     |  \n",
      "     |  __str__(self, /)\n",
      "     |      Return str(self).\n",
      "     |  \n",
      "     |  with_traceback(...)\n",
      "     |      Exception.with_traceback(tb) --\n",
      "     |      set self.__traceback__ to tb and return self.\n",
      "     |  \n",
      "     |  ----------------------------------------------------------------------\n",
      "     |  Data descriptors inherited from builtins.BaseException:\n",
      "     |  \n",
      "     |  __cause__\n",
      "     |      exception cause\n",
      "     |  \n",
      "     |  __context__\n",
      "     |      exception context\n",
      "     |  \n",
      "     |  __dict__\n",
      "     |  \n",
      "     |  __suppress_context__\n",
      "     |  \n",
      "     |  __traceback__\n",
      "     |  \n",
      "     |  args\n",
      "    \n",
      "    class Full(builtins.Exception)\n",
      "     |  Exception raised by Queue.put(block=0)/put_nowait().\n",
      "     |  \n",
      "     |  Method resolution order:\n",
      "     |      Full\n",
      "     |      builtins.Exception\n",
      "     |      builtins.BaseException\n",
      "     |      builtins.object\n",
      "     |  \n",
      "     |  Data descriptors defined here:\n",
      "     |  \n",
      "     |  __weakref__\n",
      "     |      list of weak references to the object (if defined)\n",
      "     |  \n",
      "     |  ----------------------------------------------------------------------\n",
      "     |  Methods inherited from builtins.Exception:\n",
      "     |  \n",
      "     |  __init__(self, /, *args, **kwargs)\n",
      "     |      Initialize self.  See help(type(self)) for accurate signature.\n",
      "     |  \n",
      "     |  ----------------------------------------------------------------------\n",
      "     |  Static methods inherited from builtins.Exception:\n",
      "     |  \n",
      "     |  __new__(*args, **kwargs) from builtins.type\n",
      "     |      Create and return a new object.  See help(type) for accurate signature.\n",
      "     |  \n",
      "     |  ----------------------------------------------------------------------\n",
      "     |  Methods inherited from builtins.BaseException:\n",
      "     |  \n",
      "     |  __delattr__(self, name, /)\n",
      "     |      Implement delattr(self, name).\n",
      "     |  \n",
      "     |  __getattribute__(self, name, /)\n",
      "     |      Return getattr(self, name).\n",
      "     |  \n",
      "     |  __reduce__(...)\n",
      "     |      Helper for pickle.\n",
      "     |  \n",
      "     |  __repr__(self, /)\n",
      "     |      Return repr(self).\n",
      "     |  \n",
      "     |  __setattr__(self, name, value, /)\n",
      "     |      Implement setattr(self, name, value).\n",
      "     |  \n",
      "     |  __setstate__(...)\n",
      "     |  \n",
      "     |  __str__(self, /)\n",
      "     |      Return str(self).\n",
      "     |  \n",
      "     |  with_traceback(...)\n",
      "     |      Exception.with_traceback(tb) --\n",
      "     |      set self.__traceback__ to tb and return self.\n",
      "     |  \n",
      "     |  ----------------------------------------------------------------------\n",
      "     |  Data descriptors inherited from builtins.BaseException:\n",
      "     |  \n",
      "     |  __cause__\n",
      "     |      exception cause\n",
      "     |  \n",
      "     |  __context__\n",
      "     |      exception context\n",
      "     |  \n",
      "     |  __dict__\n",
      "     |  \n",
      "     |  __suppress_context__\n",
      "     |  \n",
      "     |  __traceback__\n",
      "     |  \n",
      "     |  args\n",
      "    \n",
      "    class LifoQueue(Queue)\n",
      "     |  LifoQueue(maxsize=0)\n",
      "     |  \n",
      "     |  Variant of Queue that retrieves most recently added entries first.\n",
      "     |  \n",
      "     |  Method resolution order:\n",
      "     |      LifoQueue\n",
      "     |      Queue\n",
      "     |      builtins.object\n",
      "     |  \n",
      "     |  Methods inherited from Queue:\n",
      "     |  \n",
      "     |  __init__(self, maxsize=0)\n",
      "     |      Initialize self.  See help(type(self)) for accurate signature.\n",
      "     |  \n",
      "     |  empty(self)\n",
      "     |      Return True if the queue is empty, False otherwise (not reliable!).\n",
      "     |      \n",
      "     |      This method is likely to be removed at some point.  Use qsize() == 0\n",
      "     |      as a direct substitute, but be aware that either approach risks a race\n",
      "     |      condition where a queue can grow before the result of empty() or\n",
      "     |      qsize() can be used.\n",
      "     |      \n",
      "     |      To create code that needs to wait for all queued tasks to be\n",
      "     |      completed, the preferred technique is to use the join() method.\n",
      "     |  \n",
      "     |  full(self)\n",
      "     |      Return True if the queue is full, False otherwise (not reliable!).\n",
      "     |      \n",
      "     |      This method is likely to be removed at some point.  Use qsize() >= n\n",
      "     |      as a direct substitute, but be aware that either approach risks a race\n",
      "     |      condition where a queue can shrink before the result of full() or\n",
      "     |      qsize() can be used.\n",
      "     |  \n",
      "     |  get(self, block=True, timeout=None)\n",
      "     |      Remove and return an item from the queue.\n",
      "     |      \n",
      "     |      If optional args 'block' is true and 'timeout' is None (the default),\n",
      "     |      block if necessary until an item is available. If 'timeout' is\n",
      "     |      a non-negative number, it blocks at most 'timeout' seconds and raises\n",
      "     |      the Empty exception if no item was available within that time.\n",
      "     |      Otherwise ('block' is false), return an item if one is immediately\n",
      "     |      available, else raise the Empty exception ('timeout' is ignored\n",
      "     |      in that case).\n",
      "     |  \n",
      "     |  get_nowait(self)\n",
      "     |      Remove and return an item from the queue without blocking.\n",
      "     |      \n",
      "     |      Only get an item if one is immediately available. Otherwise\n",
      "     |      raise the Empty exception.\n",
      "     |  \n",
      "     |  join(self)\n",
      "     |      Blocks until all items in the Queue have been gotten and processed.\n",
      "     |      \n",
      "     |      The count of unfinished tasks goes up whenever an item is added to the\n",
      "     |      queue. The count goes down whenever a consumer thread calls task_done()\n",
      "     |      to indicate the item was retrieved and all work on it is complete.\n",
      "     |      \n",
      "     |      When the count of unfinished tasks drops to zero, join() unblocks.\n",
      "     |  \n",
      "     |  put(self, item, block=True, timeout=None)\n",
      "     |      Put an item into the queue.\n",
      "     |      \n",
      "     |      If optional args 'block' is true and 'timeout' is None (the default),\n",
      "     |      block if necessary until a free slot is available. If 'timeout' is\n",
      "     |      a non-negative number, it blocks at most 'timeout' seconds and raises\n",
      "     |      the Full exception if no free slot was available within that time.\n",
      "     |      Otherwise ('block' is false), put an item on the queue if a free slot\n",
      "     |      is immediately available, else raise the Full exception ('timeout'\n",
      "     |      is ignored in that case).\n",
      "     |  \n",
      "     |  put_nowait(self, item)\n",
      "     |      Put an item into the queue without blocking.\n",
      "     |      \n",
      "     |      Only enqueue the item if a free slot is immediately available.\n",
      "     |      Otherwise raise the Full exception.\n",
      "     |  \n",
      "     |  qsize(self)\n",
      "     |      Return the approximate size of the queue (not reliable!).\n",
      "     |  \n",
      "     |  task_done(self)\n",
      "     |      Indicate that a formerly enqueued task is complete.\n",
      "     |      \n",
      "     |      Used by Queue consumer threads.  For each get() used to fetch a task,\n",
      "     |      a subsequent call to task_done() tells the queue that the processing\n",
      "     |      on the task is complete.\n",
      "     |      \n",
      "     |      If a join() is currently blocking, it will resume when all items\n",
      "     |      have been processed (meaning that a task_done() call was received\n",
      "     |      for every item that had been put() into the queue).\n",
      "     |      \n",
      "     |      Raises a ValueError if called more times than there were items\n",
      "     |      placed in the queue.\n",
      "     |  \n",
      "     |  ----------------------------------------------------------------------\n",
      "     |  Class methods inherited from Queue:\n",
      "     |  \n",
      "     |  __class_getitem__ = GenericAlias(...) from builtins.type\n",
      "     |      Represent a PEP 585 generic type\n",
      "     |      \n",
      "     |      E.g. for t = list[int], t.__origin__ is list and t.__args__ is (int,).\n",
      "     |  \n",
      "     |  ----------------------------------------------------------------------\n",
      "     |  Data descriptors inherited from Queue:\n",
      "     |  \n",
      "     |  __dict__\n",
      "     |      dictionary for instance variables (if defined)\n",
      "     |  \n",
      "     |  __weakref__\n",
      "     |      list of weak references to the object (if defined)\n",
      "    \n",
      "    class PriorityQueue(Queue)\n",
      "     |  PriorityQueue(maxsize=0)\n",
      "     |  \n",
      "     |  Variant of Queue that retrieves open entries in priority order (lowest first).\n",
      "     |  \n",
      "     |  Entries are typically tuples of the form:  (priority number, data).\n",
      "     |  \n",
      "     |  Method resolution order:\n",
      "     |      PriorityQueue\n",
      "     |      Queue\n",
      "     |      builtins.object\n",
      "     |  \n",
      "     |  Methods inherited from Queue:\n",
      "     |  \n",
      "     |  __init__(self, maxsize=0)\n",
      "     |      Initialize self.  See help(type(self)) for accurate signature.\n",
      "     |  \n",
      "     |  empty(self)\n",
      "     |      Return True if the queue is empty, False otherwise (not reliable!).\n",
      "     |      \n",
      "     |      This method is likely to be removed at some point.  Use qsize() == 0\n",
      "     |      as a direct substitute, but be aware that either approach risks a race\n",
      "     |      condition where a queue can grow before the result of empty() or\n",
      "     |      qsize() can be used.\n",
      "     |      \n",
      "     |      To create code that needs to wait for all queued tasks to be\n",
      "     |      completed, the preferred technique is to use the join() method.\n",
      "     |  \n",
      "     |  full(self)\n",
      "     |      Return True if the queue is full, False otherwise (not reliable!).\n",
      "     |      \n",
      "     |      This method is likely to be removed at some point.  Use qsize() >= n\n",
      "     |      as a direct substitute, but be aware that either approach risks a race\n",
      "     |      condition where a queue can shrink before the result of full() or\n",
      "     |      qsize() can be used.\n",
      "     |  \n",
      "     |  get(self, block=True, timeout=None)\n",
      "     |      Remove and return an item from the queue.\n",
      "     |      \n",
      "     |      If optional args 'block' is true and 'timeout' is None (the default),\n",
      "     |      block if necessary until an item is available. If 'timeout' is\n",
      "     |      a non-negative number, it blocks at most 'timeout' seconds and raises\n",
      "     |      the Empty exception if no item was available within that time.\n",
      "     |      Otherwise ('block' is false), return an item if one is immediately\n",
      "     |      available, else raise the Empty exception ('timeout' is ignored\n",
      "     |      in that case).\n",
      "     |  \n",
      "     |  get_nowait(self)\n",
      "     |      Remove and return an item from the queue without blocking.\n",
      "     |      \n",
      "     |      Only get an item if one is immediately available. Otherwise\n",
      "     |      raise the Empty exception.\n",
      "     |  \n",
      "     |  join(self)\n",
      "     |      Blocks until all items in the Queue have been gotten and processed.\n",
      "     |      \n",
      "     |      The count of unfinished tasks goes up whenever an item is added to the\n",
      "     |      queue. The count goes down whenever a consumer thread calls task_done()\n",
      "     |      to indicate the item was retrieved and all work on it is complete.\n",
      "     |      \n",
      "     |      When the count of unfinished tasks drops to zero, join() unblocks.\n",
      "     |  \n",
      "     |  put(self, item, block=True, timeout=None)\n",
      "     |      Put an item into the queue.\n",
      "     |      \n",
      "     |      If optional args 'block' is true and 'timeout' is None (the default),\n",
      "     |      block if necessary until a free slot is available. If 'timeout' is\n",
      "     |      a non-negative number, it blocks at most 'timeout' seconds and raises\n",
      "     |      the Full exception if no free slot was available within that time.\n",
      "     |      Otherwise ('block' is false), put an item on the queue if a free slot\n",
      "     |      is immediately available, else raise the Full exception ('timeout'\n",
      "     |      is ignored in that case).\n",
      "     |  \n",
      "     |  put_nowait(self, item)\n",
      "     |      Put an item into the queue without blocking.\n",
      "     |      \n",
      "     |      Only enqueue the item if a free slot is immediately available.\n",
      "     |      Otherwise raise the Full exception.\n",
      "     |  \n",
      "     |  qsize(self)\n",
      "     |      Return the approximate size of the queue (not reliable!).\n",
      "     |  \n",
      "     |  task_done(self)\n",
      "     |      Indicate that a formerly enqueued task is complete.\n",
      "     |      \n",
      "     |      Used by Queue consumer threads.  For each get() used to fetch a task,\n",
      "     |      a subsequent call to task_done() tells the queue that the processing\n",
      "     |      on the task is complete.\n",
      "     |      \n",
      "     |      If a join() is currently blocking, it will resume when all items\n",
      "     |      have been processed (meaning that a task_done() call was received\n",
      "     |      for every item that had been put() into the queue).\n",
      "     |      \n",
      "     |      Raises a ValueError if called more times than there were items\n",
      "     |      placed in the queue.\n",
      "     |  \n",
      "     |  ----------------------------------------------------------------------\n",
      "     |  Class methods inherited from Queue:\n",
      "     |  \n",
      "     |  __class_getitem__ = GenericAlias(...) from builtins.type\n",
      "     |      Represent a PEP 585 generic type\n",
      "     |      \n",
      "     |      E.g. for t = list[int], t.__origin__ is list and t.__args__ is (int,).\n",
      "     |  \n",
      "     |  ----------------------------------------------------------------------\n",
      "     |  Data descriptors inherited from Queue:\n",
      "     |  \n",
      "     |  __dict__\n",
      "     |      dictionary for instance variables (if defined)\n",
      "     |  \n",
      "     |  __weakref__\n",
      "     |      list of weak references to the object (if defined)\n",
      "    \n",
      "    class Queue(builtins.object)\n",
      "     |  Queue(maxsize=0)\n",
      "     |  \n",
      "     |  Create a queue object with a given maximum size.\n",
      "     |  \n",
      "     |  If maxsize is <= 0, the queue size is infinite.\n",
      "     |  \n",
      "     |  Methods defined here:\n",
      "     |  \n",
      "     |  __init__(self, maxsize=0)\n",
      "     |      Initialize self.  See help(type(self)) for accurate signature.\n",
      "     |  \n",
      "     |  empty(self)\n",
      "     |      Return True if the queue is empty, False otherwise (not reliable!).\n",
      "     |      \n",
      "     |      This method is likely to be removed at some point.  Use qsize() == 0\n",
      "     |      as a direct substitute, but be aware that either approach risks a race\n",
      "     |      condition where a queue can grow before the result of empty() or\n",
      "     |      qsize() can be used.\n",
      "     |      \n",
      "     |      To create code that needs to wait for all queued tasks to be\n",
      "     |      completed, the preferred technique is to use the join() method.\n",
      "     |  \n",
      "     |  full(self)\n",
      "     |      Return True if the queue is full, False otherwise (not reliable!).\n",
      "     |      \n",
      "     |      This method is likely to be removed at some point.  Use qsize() >= n\n",
      "     |      as a direct substitute, but be aware that either approach risks a race\n",
      "     |      condition where a queue can shrink before the result of full() or\n",
      "     |      qsize() can be used.\n",
      "     |  \n",
      "     |  get(self, block=True, timeout=None)\n",
      "     |      Remove and return an item from the queue.\n",
      "     |      \n",
      "     |      If optional args 'block' is true and 'timeout' is None (the default),\n",
      "     |      block if necessary until an item is available. If 'timeout' is\n",
      "     |      a non-negative number, it blocks at most 'timeout' seconds and raises\n",
      "     |      the Empty exception if no item was available within that time.\n",
      "     |      Otherwise ('block' is false), return an item if one is immediately\n",
      "     |      available, else raise the Empty exception ('timeout' is ignored\n",
      "     |      in that case).\n",
      "     |  \n",
      "     |  get_nowait(self)\n",
      "     |      Remove and return an item from the queue without blocking.\n",
      "     |      \n",
      "     |      Only get an item if one is immediately available. Otherwise\n",
      "     |      raise the Empty exception.\n",
      "     |  \n",
      "     |  join(self)\n",
      "     |      Blocks until all items in the Queue have been gotten and processed.\n",
      "     |      \n",
      "     |      The count of unfinished tasks goes up whenever an item is added to the\n",
      "     |      queue. The count goes down whenever a consumer thread calls task_done()\n",
      "     |      to indicate the item was retrieved and all work on it is complete.\n",
      "     |      \n",
      "     |      When the count of unfinished tasks drops to zero, join() unblocks.\n",
      "     |  \n",
      "     |  put(self, item, block=True, timeout=None)\n",
      "     |      Put an item into the queue.\n",
      "     |      \n",
      "     |      If optional args 'block' is true and 'timeout' is None (the default),\n",
      "     |      block if necessary until a free slot is available. If 'timeout' is\n",
      "     |      a non-negative number, it blocks at most 'timeout' seconds and raises\n",
      "     |      the Full exception if no free slot was available within that time.\n",
      "     |      Otherwise ('block' is false), put an item on the queue if a free slot\n",
      "     |      is immediately available, else raise the Full exception ('timeout'\n",
      "     |      is ignored in that case).\n",
      "     |  \n",
      "     |  put_nowait(self, item)\n",
      "     |      Put an item into the queue without blocking.\n",
      "     |      \n",
      "     |      Only enqueue the item if a free slot is immediately available.\n",
      "     |      Otherwise raise the Full exception.\n",
      "     |  \n",
      "     |  qsize(self)\n",
      "     |      Return the approximate size of the queue (not reliable!).\n",
      "     |  \n",
      "     |  task_done(self)\n",
      "     |      Indicate that a formerly enqueued task is complete.\n",
      "     |      \n",
      "     |      Used by Queue consumer threads.  For each get() used to fetch a task,\n",
      "     |      a subsequent call to task_done() tells the queue that the processing\n",
      "     |      on the task is complete.\n",
      "     |      \n",
      "     |      If a join() is currently blocking, it will resume when all items\n",
      "     |      have been processed (meaning that a task_done() call was received\n",
      "     |      for every item that had been put() into the queue).\n",
      "     |      \n",
      "     |      Raises a ValueError if called more times than there were items\n",
      "     |      placed in the queue.\n",
      "     |  \n",
      "     |  ----------------------------------------------------------------------\n",
      "     |  Class methods defined here:\n",
      "     |  \n",
      "     |  __class_getitem__ = GenericAlias(...) from builtins.type\n",
      "     |      Represent a PEP 585 generic type\n",
      "     |      \n",
      "     |      E.g. for t = list[int], t.__origin__ is list and t.__args__ is (int,).\n",
      "     |  \n",
      "     |  ----------------------------------------------------------------------\n",
      "     |  Data descriptors defined here:\n",
      "     |  \n",
      "     |  __dict__\n",
      "     |      dictionary for instance variables (if defined)\n",
      "     |  \n",
      "     |  __weakref__\n",
      "     |      list of weak references to the object (if defined)\n",
      "    \n",
      "    class SimpleQueue(builtins.object)\n",
      "     |  Simple, unbounded, reentrant FIFO queue.\n",
      "     |  \n",
      "     |  Methods defined here:\n",
      "     |  \n",
      "     |  empty(self, /)\n",
      "     |      Return True if the queue is empty, False otherwise (not reliable!).\n",
      "     |  \n",
      "     |  get(self, /, block=True, timeout=None)\n",
      "     |      Remove and return an item from the queue.\n",
      "     |      \n",
      "     |      If optional args 'block' is true and 'timeout' is None (the default),\n",
      "     |      block if necessary until an item is available. If 'timeout' is\n",
      "     |      a non-negative number, it blocks at most 'timeout' seconds and raises\n",
      "     |      the Empty exception if no item was available within that time.\n",
      "     |      Otherwise ('block' is false), return an item if one is immediately\n",
      "     |      available, else raise the Empty exception ('timeout' is ignored\n",
      "     |      in that case).\n",
      "     |  \n",
      "     |  get_nowait(self, /)\n",
      "     |      Remove and return an item from the queue without blocking.\n",
      "     |      \n",
      "     |      Only get an item if one is immediately available. Otherwise\n",
      "     |      raise the Empty exception.\n",
      "     |  \n",
      "     |  put(self, /, item, block=True, timeout=None)\n",
      "     |      Put the item on the queue.\n",
      "     |      \n",
      "     |      The optional 'block' and 'timeout' arguments are ignored, as this method\n",
      "     |      never blocks.  They are provided for compatibility with the Queue class.\n",
      "     |  \n",
      "     |  put_nowait(self, /, item)\n",
      "     |      Put an item into the queue without blocking.\n",
      "     |      \n",
      "     |      This is exactly equivalent to `put(item)` and is only provided\n",
      "     |      for compatibility with the Queue class.\n",
      "     |  \n",
      "     |  qsize(self, /)\n",
      "     |      Return the approximate size of the queue (not reliable!).\n",
      "     |  \n",
      "     |  ----------------------------------------------------------------------\n",
      "     |  Class methods defined here:\n",
      "     |  \n",
      "     |  __class_getitem__(...) from builtins.type\n",
      "     |      See PEP 585\n",
      "     |  \n",
      "     |  ----------------------------------------------------------------------\n",
      "     |  Static methods defined here:\n",
      "     |  \n",
      "     |  __new__(*args, **kwargs) from builtins.type\n",
      "     |      Create and return a new object.  See help(type) for accurate signature.\n",
      "\n",
      "DATA\n",
      "    __all__ = ['Empty', 'Full', 'Queue', 'PriorityQueue', 'LifoQueue', 'Si...\n",
      "\n",
      "FILE\n",
      "    c:\\python\\python310\\lib\\queue.py\n",
      "\n",
      "\n"
     ]
    }
   ],
   "source": [
    "help(queue)"
   ]
  },
  {
   "cell_type": "code",
   "execution_count": 47,
   "id": "c3e0b07f",
   "metadata": {},
   "outputs": [
    {
     "name": "stdout",
     "output_type": "stream",
     "text": [
      "문자열 입력: 알고리즘\n",
      "문자열 출력: 즘리고알\n"
     ]
    }
   ],
   "source": [
    "import queue                     # 파이썬의 큐 모듈 포함\n",
    "s = queue.LifoQueue(maxsize=100) # 스택 객체 생성(용량=100)\n",
    "\n",
    "msg = input(\"문자열 입력: \")\n",
    "for c in msg :\n",
    "    s.put(c)                     # c를 스택에 삽입\n",
    "\n",
    "print(\"문자열 출력: \", end='')\n",
    "while not s.empty():             # 스택이 공백상태가 아니라면\n",
    "    print(s.get(), end='')       # 하나의 요소를 꺼내서 출력\n",
    "print()\n"
   ]
  },
  {
   "cell_type": "markdown",
   "id": "94556f52",
   "metadata": {},
   "source": [
    "### [시스템 스택과 순환 호출]\n",
    "- 예제: n! 구하는 방법"
   ]
  },
  {
   "cell_type": "markdown",
   "id": "4670b806",
   "metadata": {},
   "source": [
    "#### 1) 반복 구조"
   ]
  },
  {
   "cell_type": "code",
   "execution_count": 49,
   "id": "b0b7c70f",
   "metadata": {},
   "outputs": [
    {
     "name": "stdout",
     "output_type": "stream",
     "text": [
      "Factorial반복(3) =  6\n",
      "Factorial반복(10) =  3628800\n"
     ]
    }
   ],
   "source": [
    "def factorial_iter(n) :         # 반복적으로 구현한 factorial 함수\n",
    "    result = 1\n",
    "    for k in range(2, n+1) :   # k: 2, ..., n\n",
    "        result = result * k    # result에 반복적으로 곱함\n",
    "    return result\n",
    "\n",
    "print('Factorial반복(3) = ', factorial_iter(3))\n",
    "print('Factorial반복(10) = ', factorial_iter(10))"
   ]
  },
  {
   "cell_type": "markdown",
   "id": "58b27a18",
   "metadata": {},
   "source": [
    "#### 1) 순환 구조"
   ]
  },
  {
   "cell_type": "code",
   "execution_count": 50,
   "id": "d5794072",
   "metadata": {},
   "outputs": [
    {
     "name": "stdout",
     "output_type": "stream",
     "text": [
      "Factorial순환(3) =  6\n",
      "Factorial순환(10) =  3628800\n"
     ]
    }
   ],
   "source": [
    "def factorial(n) :      # 순환적으로 구현한 factorial 함수\n",
    "    if n == 1 : return 1   # 종료 조건: 순환을 멈추는 부분\n",
    "    else :\n",
    "        return n * factorial(n - 1) # 자신을 순환적으로 호출\n",
    "\n",
    "print('Factorial순환(3) = ', factorial(3))\n",
    "print('Factorial순환(10) = ', factorial(10))"
   ]
  },
  {
   "cell_type": "markdown",
   "id": "56fb7d9f",
   "metadata": {},
   "source": [
    "--------------"
   ]
  },
  {
   "cell_type": "markdown",
   "id": "fb12c436",
   "metadata": {},
   "source": [
    "## <a name=\"3.큐\">3. 큐</a>"
   ]
  },
  {
   "cell_type": "markdown",
   "id": "531148b8",
   "metadata": {},
   "source": [
    "### 3-1. 큐 개요"
   ]
  },
  {
   "cell_type": "markdown",
   "id": "498c19d5",
   "metadata": {},
   "source": [
    "### 3-2. 큐 구현"
   ]
  },
  {
   "cell_type": "markdown",
   "id": "a7b9dd16",
   "metadata": {},
   "source": [
    "### [배열로 큐 구현하기]\n",
    "- 용량이 고정된 원형 큐 클래스"
   ]
  },
  {
   "cell_type": "markdown",
   "id": "37416354",
   "metadata": {},
   "source": [
    "### [실습] 배열로 원형 큐 클래스 구현하기"
   ]
  },
  {
   "cell_type": "markdown",
   "id": "31be9a95",
   "metadata": {},
   "source": [
    "#### 1.원형 큐 클래스 생성하기"
   ]
  },
  {
   "cell_type": "code",
   "execution_count": 54,
   "id": "7f5396f7",
   "metadata": {},
   "outputs": [],
   "source": [
    "# 1.(원형 큐) : 클래스 정의 와 생성자 \n",
    "class ArrayQueue:\n",
    "    def __init__(self, capacity=10):    \n",
    "        self.capacity = capacity\n",
    "        self.array = [None] * capacity\n",
    "        self.front = 0\n",
    "        self.rear = 0\n",
    "        \n",
    "    # 2.(원형 큐) : 공백 상태와 포화 상태 검사\n",
    "    def isEmpty(self):\n",
    "        return self.front == self.rear\n",
    "\n",
    "    def isFull(self):\n",
    "        return self.front == (self.rear+1)%self.capacity  \n",
    "    \n",
    "    # 3.(원형 큐) : 삽입 연산\n",
    "    def enqueue(self, item):\n",
    "        if not self.isFull():\n",
    "            self.rear = (self.rear+1)%self.capacity # 후단 회전\n",
    "            self.array[self.rear] = item\n",
    "        else:\n",
    "            print('stack overflow!')\n",
    "            pass\n",
    "        \n",
    "    # 4.(원형 큐) : 삭제 연산\n",
    "    def dequeue(self):\n",
    "        if not self.isEmpty():\n",
    "            self.front = (self.front+1)%self.capacity  # 전단 회전\n",
    "            return self.array[self.front]\n",
    "        \n",
    "    # 5. (원형 큐) : 상단 참조 연산\n",
    "    def peek(self):\n",
    "        if not self.isEmpty():\n",
    "            return self.array[(self.front+1)%self.capacity]\n",
    "        else: pass\n",
    "        \n",
    "    # 6. (원형 큐) : 전체 요소 수\n",
    "    def size(self):\n",
    "        return (self.rear - self.front + self.capacity) % self.capacity\n",
    "    \n",
    "    # 7. (원형 큐) : 전체 요소 화면에 출력\n",
    "    def display(self, msg='Queue: '):\n",
    "        print(msg, end='=[')\n",
    "        count = self.size()\n",
    "        for i in range(count):\n",
    "            print(self.array[(self.front+1+i)%self.capacity], end=' ')\n",
    "        print(\"]\")"
   ]
  },
  {
   "cell_type": "markdown",
   "id": "b68e8304",
   "metadata": {},
   "source": [
    "#### 2. 원형 큐 테스트 프로그램"
   ]
  },
  {
   "cell_type": "code",
   "execution_count": 55,
   "id": "50481093",
   "metadata": {},
   "outputs": [
    {
     "name": "stdout",
     "output_type": "stream",
     "text": [
      "초기 상태=[]\n",
      "포화 상태=[75 72 86 12 44 16 81 ]\n",
      "삭제 순서: 75 72 86 12 44 16 81 \n"
     ]
    }
   ],
   "source": [
    "import random\n",
    "q = ArrayQueue(8)                    # 큐 객체를 생성(capacity=8)\n",
    "\n",
    "q.display(\"초기 상태\")\n",
    "while not q.isFull() :               # 큐에 빈 칸인 남았으면\n",
    "    q.enqueue(random.randint(0,100)) # 0~99사이의 정수 발생->삽입\n",
    "q.display(\"포화 상태\")\n",
    "\n",
    "print(\"삭제 순서: \", end='') \n",
    "while not q.isEmpty() :             # 큐에 요소가 남아 있으면\n",
    "    print(q.dequeue(), end=' ')     # 꺼내서 화면에 출력\n",
    "print()"
   ]
  },
  {
   "cell_type": "markdown",
   "id": "6db42724",
   "metadata": {},
   "source": [
    "### 3-3. 큐 응용"
   ]
  },
  {
   "cell_type": "markdown",
   "id": "ba37f114",
   "metadata": {},
   "source": [
    "### [실습] 원형 큐를 링 버퍼로 구현하기"
   ]
  },
  {
   "cell_type": "markdown",
   "id": "1758f3b2",
   "metadata": {},
   "source": [
    "#### 1. 링 버퍼 적용한 클래스"
   ]
  },
  {
   "cell_type": "code",
   "execution_count": 56,
   "id": "edf58219",
   "metadata": {},
   "outputs": [],
   "source": [
    "# 1.(원형 큐) : 클래스 정의 와 생성자 \n",
    "class ArrayQueue:\n",
    "    def __init__(self, capacity=10):    \n",
    "        self.capacity = capacity\n",
    "        self.array = [None] * capacity\n",
    "        self.front = 0\n",
    "        self.rear = 0\n",
    "        \n",
    "    # 2.(원형 큐) : 공백 상태와 포화 상태 검사\n",
    "    def isEmpty(self):\n",
    "        return self.front == self.rear\n",
    "\n",
    "    def isFull(self):\n",
    "        return self.front == (self.rear+1)%self.capacity  \n",
    "    \n",
    "    # 3.(원형 큐) : 삽입 연산\n",
    "    def enqueue(self, item):\n",
    "        if not self.isFull():\n",
    "            self.rear = (self.rear+1)%self.capacity # 후단 회전\n",
    "            self.array[self.rear] = item\n",
    "        else:\n",
    "            print('stack overflow!')\n",
    "            pass\n",
    "        \n",
    "    # 4.(원형 큐) : 삭제 연산\n",
    "    def dequeue(self):\n",
    "        if not self.isEmpty():\n",
    "            self.front = (self.front+1)%self.capacity  # 전단 회전\n",
    "            return self.array[self.front]\n",
    "        \n",
    "    # 5. (원형 큐) : 상단 참조 연산\n",
    "    def peek(self):\n",
    "        if not self.isEmpty():\n",
    "            return self.array[(self.front+1)%self.capacity]\n",
    "        else: pass\n",
    "        \n",
    "    # 6. (원형 큐) : 전체 요소 수\n",
    "    def size(self):\n",
    "        return (self.rear - self.front + self.capacity) % self.capacity\n",
    "    \n",
    "    # 7. (원형 큐) : 전체 요소 화면에 출력\n",
    "    def display(self, msg='Queue: '):\n",
    "        print(msg, end='=[')\n",
    "        count = self.size()\n",
    "        for i in range(count):\n",
    "            print(self.array[(self.front+1+i)%self.capacity], end=' ')\n",
    "        print(\"]\")\n",
    "        \n",
    "    # 8. (원형 큐) : 링 버퍼를 위한 삽입 연산\n",
    "    def enqueue2(self, item):             # 링 버퍼 삽입 연산\n",
    "        self.rear = (self.rear + 1) % self.capacity # 후단 회전\n",
    "        self.array[self.rear] = item                # 무조건 삽입\n",
    "        if self.isEmpty():                  # front == rear\n",
    "            self.front = (self.front + 1) % self.capacity"
   ]
  },
  {
   "cell_type": "markdown",
   "id": "e88ba23a",
   "metadata": {},
   "source": [
    "#### 2. 링 버퍼 테스트 프로그램"
   ]
  },
  {
   "cell_type": "code",
   "execution_count": 57,
   "id": "ce54b528",
   "metadata": {
    "scrolled": true
   },
   "outputs": [
    {
     "name": "stdout",
     "output_type": "stream",
     "text": [
      "초기 상태=[]\n",
      "삽입 0-5=[0 1 2 3 4 5 ]\n",
      "삽입 6,7=[1 2 3 4 5 6 7 ]\n",
      "삽입 8,9=[3 4 5 6 7 8 9 ]\n",
      "삭제  x2=[5 6 7 8 9 ]\n"
     ]
    }
   ],
   "source": [
    "import random\n",
    "q = ArrayQueue(8)               # 큐 객체를 생성(capacity=8)\n",
    "\n",
    "q.display(\"초기 상태\")\n",
    "for i in range(6) :             # enqueue2(): 0, 1, 2, 3, 4, 5\n",
    "    q.enqueue2(i)\n",
    "q.display(\"삽입 0-5\")\n",
    "\n",
    "q.enqueue2(6); q.enqueue2(7)    # enqueue2(): 6, 7\n",
    "q.display(\"삽입 6,7\")\n",
    "\n",
    "q.enqueue2(8); q.enqueue2(9)    # enqueue2(): 8, 9\n",
    "q.display(\"삽입 8,9\")\n",
    "\n",
    "q.dequeue(); q.dequeue()        # dequeue() 2회\n",
    "q.display(\"삭제  x2\")"
   ]
  },
  {
   "cell_type": "markdown",
   "id": "b0dd7218",
   "metadata": {},
   "source": [
    "### [실습] 원형 큐 상속을 이용한 덱 구현하기"
   ]
  },
  {
   "cell_type": "markdown",
   "id": "4b294f7c",
   "metadata": {},
   "source": [
    "#### 1. 덱 클래스 생성"
   ]
  },
  {
   "cell_type": "code",
   "execution_count": 59,
   "id": "a35809d5",
   "metadata": {},
   "outputs": [],
   "source": [
    "# 원형 큐 클래스 상속받아 원형 덱 클래스 생성\n",
    "class CircularDeque(ArrayQueue) :\n",
    "    def __init__( self, capacity=10 ) :\n",
    "        super().__init__(capacity)\n",
    "\n",
    "    # 원형 덱: 동작이 동일한 연산들\n",
    "    def addRear( self, item ): self.enqueue(item )\n",
    "    def deleteFront( self ): return self.dequeue()\n",
    "    def getFront( self ): return self.peek()\n",
    "\n",
    "    # 원형 덱: 추가된 연산들\n",
    "    def addFront( self, item ):\n",
    "        if not self.isFull():\n",
    "            self.array[self.front] = item\n",
    "            self.front = (self.front - 1 + self.capacity) % self.capacity # 전단 회전\n",
    "        else: pass\n",
    "\n",
    "    def deleteRear( self ):\n",
    "        if not self.isEmpty():\n",
    "            item = self.array[self.rear];\n",
    "            self.rear = (self.rear - 1 + self.capacity) % self.capacity  # 후단 회전\n",
    "            return item\n",
    "        else: pass\n",
    "\n",
    "    def getRear( self ): \n",
    "        if not self.isEmpty():\n",
    "            return self.array[self.rear]\n",
    "        else: pass"
   ]
  },
  {
   "cell_type": "markdown",
   "id": "f74bbe68",
   "metadata": {},
   "source": [
    "#### 2. 덱 테스트 프로그램"
   ]
  },
  {
   "cell_type": "code",
   "execution_count": 61,
   "id": "d4693793",
   "metadata": {},
   "outputs": [
    {
     "name": "stdout",
     "output_type": "stream",
     "text": [
      "홀수는 전단, 짝수는 후단 삽입=[7 5 3 1 0 2 4 6 8 ]\n",
      "전단 삭제 2번, 후단 삭제 3번=[3 1 0 2 ]\n",
      "전단에 9 ~ 13 삽입=[13 12 11 10 9 3 1 0 2 ]\n"
     ]
    }
   ],
   "source": [
    "dq = CircularDeque()\n",
    "\n",
    "for i in range(9):\n",
    "    if i%2==0 : dq.addRear(i)\n",
    "    else : dq.addFront(i)\n",
    "dq.display(\"홀수는 전단, 짝수는 후단 삽입\")\n",
    "\n",
    "for i in range(2): dq.deleteFront()\n",
    "for i in range(3): dq.deleteRear()\n",
    "dq.display(\"전단 삭제 2번, 후단 삭제 3번\")\n",
    "\n",
    "for i in range(9,14): dq.addFront(i)\n",
    "dq.display(\"전단에 9 ~ 13 삽입\")"
   ]
  },
  {
   "cell_type": "markdown",
   "id": "d606276f",
   "metadata": {},
   "source": [
    "### [파이썬에서 큐와 덱 사용하기]"
   ]
  },
  {
   "cell_type": "markdown",
   "id": "95f11041",
   "metadata": {},
   "source": [
    "#### 방법 1) queue 모듈의 Queue 사용하기\n"
   ]
  },
  {
   "cell_type": "code",
   "execution_count": 63,
   "id": "1aaa633b",
   "metadata": {},
   "outputs": [
    {
     "name": "stdout",
     "output_type": "stream",
     "text": [
      "삽입 순서: 69 21 39 98 57 17 23 32 \n",
      "삭제 순서: 69 21 39 98 57 17 23 32 \n"
     ]
    }
   ],
   "source": [
    "import random                   # 난수 발생을 위해 random 모듈 포함 \n",
    "import queue                    # 파이썬의 큐 모듈 포함\n",
    "q = queue.Queue(8)              # 큐 객체를 생성(capacity=8)\n",
    "\n",
    "print(\"삽입 순서: \", end='')\n",
    "while not q.full() :            # 큐에 빈 칸인 남았으면\n",
    "    v = random.randint(0,100)   # 0~99사이의 정수 발생\n",
    "    q.put(v)                    # 삽입\n",
    "    print(v, end=' ')\n",
    "print()\n",
    "\n",
    "print(\"삭제 순서: \", end='') \n",
    "while not q.empty() :         # 큐에 요소가 남아 있으면\n",
    "    print(q.get(), end=' ') # 꺼내서 화면에 출력\n",
    "print()"
   ]
  },
  {
   "cell_type": "markdown",
   "id": "772ac6c0",
   "metadata": {},
   "source": [
    "#### 방법 2) collections모듈의 deque 클래스 사용하기"
   ]
  },
  {
   "cell_type": "code",
   "execution_count": 64,
   "id": "4ccf5cc0",
   "metadata": {},
   "outputs": [
    {
     "name": "stdout",
     "output_type": "stream",
     "text": [
      "덱은 공백상태\n",
      "홀수는 전단 짝수는 후단 삽입 deque([7, 5, 3, 1, 0, 2, 4, 6, 8])\n",
      "전단 삭제 2번, 후단 삭제 3번 deque([3, 1, 0, 2])\n",
      "전단에 9 ~ 13 삽입           deque([13, 12, 11, 10, 9, 3, 1, 0, 2])\n",
      "덱은 공백상태 아님\n"
     ]
    }
   ],
   "source": [
    "import collections              # 덱을 사용하기 위해 collections 모듈 포함\n",
    "dq = collections.deque()        # 덱 객체를 생성\n",
    "\n",
    "print(\"덱은 공백상태 아님\" if dq else \"덱은 공백상태\")\n",
    "for i in range(9):\n",
    "    if i%2==0 : dq.append(i)\n",
    "    else : dq.appendleft(i)\n",
    "print(\"홀수는 전단 짝수는 후단 삽입\", dq)\n",
    "\n",
    "for i in range(2): dq.popleft()\n",
    "for i in range(3): dq.pop()\n",
    "print(\"전단 삭제 2번, 후단 삭제 3번\", dq)\n",
    "\n",
    "for i in range(9,14): dq.appendleft(i)\n",
    "print(\"전단에 9 ~ 13 삽입          \", dq)\n",
    "\n",
    "print(\"덱은 공백상태 아님\" if dq else \"덱은 공백상태\")"
   ]
  },
  {
   "cell_type": "markdown",
   "id": "88fbbcf6",
   "metadata": {},
   "source": [
    "----------------------\n",
    "THE END"
   ]
  }
 ],
 "metadata": {
  "kernelspec": {
   "display_name": "Python 3 (ipykernel)",
   "language": "python",
   "name": "python3"
  },
  "language_info": {
   "codemirror_mode": {
    "name": "ipython",
    "version": 3
   },
   "file_extension": ".py",
   "mimetype": "text/x-python",
   "name": "python",
   "nbconvert_exporter": "python",
   "pygments_lexer": "ipython3",
   "version": "3.10.9"
  }
 },
 "nbformat": 4,
 "nbformat_minor": 5
}
